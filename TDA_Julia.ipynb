{
 "cells": [
  {
   "cell_type": "code",
   "execution_count": 218,
   "metadata": {
    "Collapsed": "false"
   },
   "outputs": [],
   "source": [
    "using Eirene\n",
    "using MAT\n",
    "import Pkg\n",
    "#Pkg.add(\"PyPlot\")\n",
    "Pkg.add(\"ORCA\")\n",
    "#using PyPlot\n",
    "using LinearAlgebra\n",
    "using Statistics\n",
    "using Printf\n",
    "using WebIO\n",
    "WebIO.install_jupyter_nbextension()\n",
    "using Plotly\n",
    "using ORCA\n",
    "\n",
    "Pkg.add(\"Distributions\")\n",
    "using Distributions\n",
    "\n",
    "using Random"
   ]
  },
  {
   "cell_type": "markdown",
   "metadata": {
    "Collapsed": "false"
   },
   "source": [
    "## WSBM Generator"
   ]
  },
  {
   "cell_type": "markdown",
   "metadata": {
    "Collapsed": "false"
   },
   "source": [
    "### SBM version"
   ]
  },
  {
   "cell_type": "code",
   "execution_count": 89,
   "metadata": {
    "Collapsed": "false"
   },
   "outputs": [
    {
     "data": {
      "text/plain": [
       "generate_clusters (generic function with 3 methods)"
      ]
     },
     "execution_count": 89,
     "metadata": {},
     "output_type": "execute_result"
    }
   ],
   "source": [
    "function generate_clusters(n=100,pi_vector=[0.3,0.4,0.3])\n",
    "    clusters_splits=round.(Int,cumsum(n*pi_vector))\n",
    "    k = size(pi_vector)[1]\n",
    "    c = zeros(Int8,n) \n",
    "    for k_ind in collect(0:k-2)\n",
    "        c[clusters_splits[k_ind+1]:clusters_splits[k_ind+2]].=k_ind+1\n",
    "    end\n",
    "    return c\n",
    "end"
   ]
  },
  {
   "cell_type": "code",
   "execution_count": 128,
   "metadata": {
    "Collapsed": "false"
   },
   "outputs": [
    {
     "data": {
      "text/plain": [
       "generate_sbm_adj (generic function with 1 method)"
      ]
     },
     "execution_count": 128,
     "metadata": {},
     "output_type": "execute_result"
    }
   ],
   "source": [
    "function generate_sbm_adj(n,pi_vector,theta_in,theta_out)\n",
    "    c=generate_clusters(n,pi_vector)\n",
    "    Adj=zeros(Int8,n,n)\n",
    "    for i in collect(1:n-1)\n",
    "        for j in collect(i+1:n)\n",
    "            if c[i]==c[j]\n",
    "                Adj[i,j]=round.(Int,rand((0:100))<100*theta_in)\n",
    "                Adj[j,i]=Adj[i,j]\n",
    "                else\n",
    "                Adj[i,j]=round.(Int,rand((0:100))<100*theta_out)\n",
    "                Adj[j,i]=Adj[i,j]\n",
    "            end\n",
    "        end\n",
    "    end\n",
    "    return Adj\n",
    "end"
   ]
  },
  {
   "cell_type": "code",
   "execution_count": 133,
   "metadata": {
    "Collapsed": "false",
    "scrolled": true
   },
   "outputs": [
    {
     "data": {
      "image/png": "[encoded data removed]",
      "text/plain": [
       "Figure(PyObject <Figure size 300x300 with 1 Axes>)"
      ]
     },
     "metadata": {},
     "output_type": "display_data"
    },
    {
     "data": {
      "text/plain": [
       "PyObject <matplotlib.image.AxesImage object at 0x000000003F141FC8>"
      ]
     },
     "execution_count": 133,
     "metadata": {},
     "output_type": "execute_result"
    }
   ],
   "source": [
    "Adj = generate_sbm_adj(20,[0.4,0.3, 0.3],0.9,0.1)\n",
    "plt.figure(figsize=(3,3))\n",
    "imshow(Adj)"
   ]
  },
  {
   "cell_type": "markdown",
   "metadata": {
    "Collapsed": "false"
   },
   "source": [
    "### Weighted Version"
   ]
  },
  {
   "cell_type": "markdown",
   "metadata": {
    "Collapsed": "false"
   },
   "source": [
    "Я чуть изменила функцию, добавила в конец два опциональных параметра: номер усиливаемого блока и параметр усиления - это для моделей с выделенной группой нодов. "
   ]
  },
  {
   "cell_type": "code",
   "execution_count": 283,
   "metadata": {
    "Collapsed": "false"
   },
   "outputs": [
    {
     "data": {
      "text/plain": [
       "generate_wsbm_adj (generic function with 3 methods)"
      ]
     },
     "execution_count": 283,
     "metadata": {},
     "output_type": "execute_result"
    }
   ],
   "source": [
    "function generate_wsbm_adj(n,pi_vector,theta_in,theta_out,n_block=nothing,enh_param=nothing)\n",
    "     c=generate_clusters(n,pi_vector)\n",
    "     Adj=zeros(Float64,n,n)\n",
    "     for i in collect(1:n-1)\n",
    "        for j in collect(i+1:n)\n",
    "            if c[i]==c[j]\n",
    "                if n_block==nothing\n",
    "                    Adj[i,j]=rand(LogitNormal(rand(Normal(theta_in),1)[1]))\n",
    "                    Adj[j,i]=Adj[i,j]\n",
    "                else\n",
    "                    if c[i]==n_block-1\n",
    "                        Adj[i,j]=rand(LogitNormal(rand(Normal(theta_in),1)[1]))*enh_param\n",
    "                        Adj[j,i]=Adj[i,j]\n",
    "                    else\n",
    "                        Adj[i,j]=rand(LogitNormal(rand(Normal(theta_in),1)[1]))\n",
    "                        Adj[j,i]=Adj[i,j]\n",
    "                    end\n",
    "                end\n",
    "            else\n",
    "                 Adj[i,j]=rand(LogitNormal(rand(Normal(theta_out),1)[1]))\n",
    "                 Adj[j,i]=Adj[i,j]\n",
    "            end\n",
    "        end\n",
    "    end\n",
    "    Adj[diagind(Adj)].= 1\n",
    "    return Adj\n",
    "end\n",
    "                    "
   ]
  },
  {
   "cell_type": "code",
   "execution_count": 284,
   "metadata": {
    "Collapsed": "false",
    "scrolled": true
   },
   "outputs": [
    {
     "data": {
      "image/png": "[encoded data removed]",
      "text/plain": [
       "Figure(PyObject <Figure size 500x500 with 2 Axes>)"
      ]
     },
     "metadata": {},
     "output_type": "display_data"
    },
    {
     "data": {
      "text/plain": [
       "PyObject <matplotlib.image.AxesImage object at 0x0000000053FDED88>"
      ]
     },
     "execution_count": 284,
     "metadata": {},
     "output_type": "execute_result"
    }
   ],
   "source": [
    "wAdj = generate_wsbm_adj(50,[0.2,0.4,0.1,0.3],1,-1)\n",
    "wAdj_enh = generate_wsbm_adj(50,[0.2,0.4,0.1,0.3],1,-1,1,2)\n",
    "plt.figure(figsize=(5,5))\n",
    "subplot(121); imshow(wAdj)\n",
    "subplot(122); imshow(wAdj_enh)"
   ]
  },
  {
   "cell_type": "code",
   "execution_count": 224,
   "metadata": {
    "Collapsed": "false"
   },
   "outputs": [
    {
     "data": {
      "text/plain": [
       "random_permute (generic function with 1 method)"
      ]
     },
     "execution_count": 224,
     "metadata": {},
     "output_type": "execute_result"
    }
   ],
   "source": [
    "function random_permute(matrix)\n",
    "    n=size(matrix)[1]\n",
    "    order=randperm(n)\n",
    "    permuted=zeros(Float64,n,n)\n",
    "    for i in collect(1:n-1)\n",
    "            for j in collect(i+1:n)\n",
    "                permuted[i,j]=matrix[order[i],order[j]]\n",
    "                permuted[j,i]=matrix[order[j],order[i]]\n",
    "            end\n",
    "        end\n",
    "    return order, permuted\n",
    "end             "
   ]
  },
  {
   "cell_type": "code",
   "execution_count": 230,
   "metadata": {
    "Collapsed": "false"
   },
   "outputs": [
    {
     "data": {
      "text/plain": [
       "inverse_permute (generic function with 1 method)"
      ]
     },
     "execution_count": 230,
     "metadata": {},
     "output_type": "execute_result"
    }
   ],
   "source": [
    "function inverse_permute(order,permuted)\n",
    "    n=size(permuted)[1]\n",
    "    new_order=sortperm(order)\n",
    "    inverse=zeros(Float64,n,n)\n",
    "    for i in collect(1:n-1)\n",
    "        for j in collect(i+1:n)\n",
    "            inverse[i,j] = permuted[new_order[i],new_order[j]]\n",
    "            inverse[j,i] = permuted[new_order[j],new_order[i]]\n",
    "        end\n",
    "    end\n",
    "    return inverse\n",
    "end         "
   ]
  },
  {
   "cell_type": "code",
   "execution_count": 234,
   "metadata": {
    "Collapsed": "false"
   },
   "outputs": [
    {
     "data": {
      "image/png": "[encoded data removed]",
      "text/plain": [
       "Figure(PyObject <Figure size 700x700 with 2 Axes>)"
      ]
     },
     "metadata": {},
     "output_type": "display_data"
    },
    {
     "data": {
      "text/plain": [
       "PyObject <matplotlib.image.AxesImage object at 0x000000004D3CDC08>"
      ]
     },
     "execution_count": 234,
     "metadata": {},
     "output_type": "execute_result"
    }
   ],
   "source": [
    "plt.figure(figsize = (7,7))\n",
    "wAdj = generate_wsbm_adj(50,[0.2,0.4,0.1,0.3],1,-1)\n",
    "order,permuted =random_permute(wAdj)\n",
    "subplot(121); imshow(permuted)\n",
    "subplot(122); imshow(inverse_permute(order, permuted))"
   ]
  },
  {
   "cell_type": "code",
   "execution_count": 285,
   "metadata": {
    "Collapsed": "false"
   },
   "outputs": [
    {
     "data": {
      "image/png": "[encoded data removed]",
      "text/plain": [
       "Figure(PyObject <Figure size 700x700 with 2 Axes>)"
      ]
     },
     "metadata": {},
     "output_type": "display_data"
    },
    {
     "data": {
      "text/plain": [
       "PyObject <matplotlib.image.AxesImage object at 0x00000000540720C8>"
      ]
     },
     "execution_count": 285,
     "metadata": {},
     "output_type": "execute_result"
    }
   ],
   "source": [
    "plt.figure(figsize = (7,7))\n",
    "number_of_nodes=50\n",
    "pi_vector=[0.6,0.4]\n",
    "theta_in=1.5\n",
    "theta_out=-1\n",
    "wAdj = generate_wsbm_adj(number_of_nodes,pi_vector,theta_in,theta_out)\n",
    "order,permuted =random_permute(wAdj)\n",
    "subplot(121); imshow(permuted)\n",
    "subplot(122); imshow(inverse_permute(order, permuted))"
   ]
  },
  {
   "cell_type": "code",
   "execution_count": 300,
   "metadata": {
    "Collapsed": "false"
   },
   "outputs": [
    {
     "data": {
      "image/png": "[encoded data removed]",
      "text/plain": [
       "Figure(PyObject <Figure size 300x300 with 1 Axes>)"
      ]
     },
     "metadata": {},
     "output_type": "display_data"
    },
    {
     "data": {
      "text/plain": [
       "Dict{String,Any} with 12 entries:\n",
       "  \"symmat\"   => [712 21 … 488 317; 21 712 … 582 471; … ; 488 582 … 712 0; 317 4…\n",
       "  \"maxnz\"    => [0, 529, 5463, 41865, 0]\n",
       "  \"firstv\"   => Array{Int64,1}[[1, 2, 3, 4, 5, 6, 7, 8, 9, 10  …  32, 33, 34, 3…\n",
       "  \"cyclerep\" => Array{Array{Int64,1},1}[[], [[1, 5], [4, 3], [11, 27], [1, 35],…\n",
       "  \"phi\"      => Array{Int64,1}[[], [4, 77, 343, 169, 193, 127, 126, 563, 689, 2…\n",
       "  \"plo\"      => Array{Int64,1}[[], [5, 3, 27, 35, 26, 25, 24, 21, 36, 30  …  16…\n",
       "  \"ocg2rad\"  => [0.91937, 0.919264, 0.918166, 0.917692, 0.917371, 0.916931, 0.9…\n",
       "  \"farfaces\" => Array{Int64,1}[[1, 2, 3, 4, 5, 6, 7, 8, 9, 10  …  31, 32, 33, 3…\n",
       "  \"nvl2ovl\"  => [15, 14, 17, 11, 8, 12, 19, 13, 16, 5  …  35, 4, 34, 31, 36, 32…\n",
       "  \"input\"    => Dict{String,Any}(\"genera\"=>[0.0 0.740882 … 0.42522 0.269628; 0.…\n",
       "  \"tid\"      => Array{Int64,1}[[], [5, 3, 27, 35, 26, 25, 24, 21, 36, 30  …  14…\n",
       "  \"grain\"    => Array{Int64,1}[[712, 712, 712, 712, 712, 712, 712, 712, 712, 71…"
      ]
     },
     "execution_count": 300,
     "metadata": {},
     "output_type": "execute_result"
    }
   ],
   "source": [
    "number_of_nodes=40\n",
    "pi_vector=[0.3,0.1,0.2,0.4]\n",
    "theta_in=3\n",
    "theta_out=-1 \n",
    "wAdj=generate_wsbm_adj(number_of_nodes,pi_vector,theta_in,theta_out)\n",
    "plt.figure(figsize=(3,3))\n",
    "imshow(wAdj)\n",
    "wAdj_name=string(number_of_nodes,\"_nodes_\",size(pi_vector)[1],\"_blocks\")\n",
    "wAdj_distance=get_distance(wAdj)\n",
    "C=TDA(wAdj_distance,wAdj_name)"
   ]
  },
  {
   "cell_type": "code",
   "execution_count": 301,
   "metadata": {
    "Collapsed": "false",
    "scrolled": true
   },
   "outputs": [
    {
     "data": {
      "application/vnd.plotly.v1+json": {
       "data": [
        {
         "line": {
          "color": "#66BAE7",
          "width": 2
         },
         "mode": "lines",
         "showlegend": false,
         "type": "scatter",
         "x": [
          0.4064585098188715,
          0.42804653076601223
         ],
         "y": [
          99,
          99
         ]
        },
        {
         "line": {
          "color": "#66BAE7",
          "width": 2
         },
         "mode": "lines",
         "showlegend": false,
         "type": "scatter",
         "x": [
          0.39516624998668404,
          0.4639865218802888
         ],
         "y": [
          98,
          98
         ]
        },
        {
         "line": {
          "color": "#66BAE7",
          "width": 2
         },
         "mode": "lines",
         "showlegend": false,
         "type": "scatter",
         "x": [
          0.37351339494611996,
          0.37710105917041037
         ],
         "y": [
          97,
          97
         ]
        },
        {
         "line": {
          "color": "#66BAE7",
          "width": 2
         },
         "mode": "lines",
         "showlegend": false,
         "type": "scatter",
         "x": [
          0.3261859345237982,
          0.3949219438958313
         ],
         "y": [
          96,
          96
         ]
        },
        {
         "line": {
          "color": "#66BAE7",
          "width": 2
         },
         "mode": "lines",
         "showlegend": false,
         "type": "scatter",
         "x": [
          0.310313099930035,
          0.3200374379996857
         ],
         "y": [
          95,
          95
         ]
        },
        {
         "line": {
          "color": "#66BAE7",
          "width": 2
         },
         "mode": "lines",
         "showlegend": false,
         "type": "scatter",
         "x": [
          0.3059523734066927,
          0.3062860537408486
         ],
         "y": [
          94,
          94
         ]
        },
        {
         "line": {
          "color": "#66BAE7",
          "width": 2
         },
         "mode": "lines",
         "showlegend": false,
         "type": "scatter",
         "x": [
          0.3003911275200868,
          0.3362903057573633
         ],
         "y": [
          93,
          93
         ]
        },
        {
         "line": {
          "color": "#66BAE7",
          "width": 2
         },
         "mode": "lines",
         "showlegend": false,
         "type": "scatter",
         "x": [
          0.2999445561033727,
          0.3085568047023249
         ],
         "y": [
          92,
          92
         ]
        },
        {
         "line": {
          "color": "#66BAE7",
          "width": 2
         },
         "mode": "lines",
         "showlegend": false,
         "type": "scatter",
         "x": [
          0.29553472690381793,
          0.3949219438958313
         ],
         "y": [
          91,
          91
         ]
        },
        {
         "line": {
          "color": "#66BAE7",
          "width": 2
         },
         "mode": "lines",
         "showlegend": false,
         "type": "scatter",
         "x": [
          0.29477933495395087,
          0.3254477002499193
         ],
         "y": [
          90,
          90
         ]
        },
        {
         "line": {
          "color": "#66BAE7",
          "width": 2
         },
         "mode": "lines",
         "showlegend": false,
         "type": "scatter",
         "x": [
          0.29039649956585395,
          0.34745558736638693
         ],
         "y": [
          89,
          89
         ]
        },
        {
         "line": {
          "color": "#66BAE7",
          "width": 2
         },
         "mode": "lines",
         "showlegend": false,
         "type": "scatter",
         "x": [
          0.28848476952541424,
          0.2933376584373944
         ],
         "y": [
          88,
          88
         ]
        },
        {
         "line": {
          "color": "#66BAE7",
          "width": 2
         },
         "mode": "lines",
         "showlegend": false,
         "type": "scatter",
         "x": [
          0.2837294425280483,
          0.3739367195090774
         ],
         "y": [
          87,
          87
         ]
        },
        {
         "line": {
          "color": "#66BAE7",
          "width": 2
         },
         "mode": "lines",
         "showlegend": false,
         "type": "scatter",
         "x": [
          0.28204073147118536,
          0.28501831927427096
         ],
         "y": [
          86,
          86
         ]
        },
        {
         "line": {
          "color": "#66BAE7",
          "width": 2
         },
         "mode": "lines",
         "showlegend": false,
         "type": "scatter",
         "x": [
          0.2818231929498793,
          0.2881851347748858
         ],
         "y": [
          85,
          85
         ]
        },
        {
         "line": {
          "color": "#66BAE7",
          "width": 2
         },
         "mode": "lines",
         "showlegend": false,
         "type": "scatter",
         "x": [
          0.27887829588921603,
          0.2915535696238633
         ],
         "y": [
          84,
          84
         ]
        },
        {
         "line": {
          "color": "#66BAE7",
          "width": 2
         },
         "mode": "lines",
         "showlegend": false,
         "type": "scatter",
         "x": [
          0.27661135802132425,
          0.3362903057573633
         ],
         "y": [
          83,
          83
         ]
        },
        {
         "line": {
          "color": "#66BAE7",
          "width": 2
         },
         "mode": "lines",
         "showlegend": false,
         "type": "scatter",
         "x": [
          0.2734786951636914,
          0.29675810675630937
         ],
         "y": [
          82,
          82
         ]
        },
        {
         "line": {
          "color": "#66BAE7",
          "width": 2
         },
         "mode": "lines",
         "showlegend": false,
         "type": "scatter",
         "x": [
          0.27052491286470204,
          0.33012976524801607
         ],
         "y": [
          81,
          81
         ]
        },
        {
         "line": {
          "color": "#66BAE7",
          "width": 2
         },
         "mode": "lines",
         "showlegend": false,
         "type": "scatter",
         "x": [
          0.2673077342738541,
          0.27797940313473973
         ],
         "y": [
          80,
          80
         ]
        },
        {
         "line": {
          "color": "#66BAE7",
          "width": 2
         },
         "mode": "lines",
         "showlegend": false,
         "type": "scatter",
         "x": [
          0.2669729308002764,
          0.3034987541976379
         ],
         "y": [
          79,
          79
         ]
        },
        {
         "line": {
          "color": "#66BAE7",
          "width": 2
         },
         "mode": "lines",
         "showlegend": false,
         "type": "scatter",
         "x": [
          0.26426902552265025,
          0.3315461895518827
         ],
         "y": [
          78,
          78
         ]
        },
        {
         "line": {
          "color": "#66BAE7",
          "width": 2
         },
         "mode": "lines",
         "showlegend": false,
         "type": "scatter",
         "x": [
          0.2608426071094277,
          0.30452946091476546
         ],
         "y": [
          77,
          77
         ]
        },
        {
         "line": {
          "color": "#66BAE7",
          "width": 2
         },
         "mode": "lines",
         "showlegend": false,
         "type": "scatter",
         "x": [
          0.26044638878425147,
          0.3342107579930424
         ],
         "y": [
          76,
          76
         ]
        },
        {
         "line": {
          "color": "#66BAE7",
          "width": 2
         },
         "mode": "lines",
         "showlegend": false,
         "type": "scatter",
         "x": [
          0.2595630453064864,
          0.3488289213894728
         ],
         "y": [
          75,
          75
         ]
        },
        {
         "line": {
          "color": "#66BAE7",
          "width": 2
         },
         "mode": "lines",
         "showlegend": false,
         "type": "scatter",
         "x": [
          0.25606343711253465,
          0.3036847518705432
         ],
         "y": [
          74,
          74
         ]
        },
        {
         "line": {
          "color": "#66BAE7",
          "width": 2
         },
         "mode": "lines",
         "showlegend": false,
         "type": "scatter",
         "x": [
          0.2543595296930911,
          0.25921208016702757
         ],
         "y": [
          73,
          73
         ]
        },
        {
         "line": {
          "color": "#66BAE7",
          "width": 2
         },
         "mode": "lines",
         "showlegend": false,
         "type": "scatter",
         "x": [
          0.25314792416137194,
          0.27109522106756356
         ],
         "y": [
          72,
          72
         ]
        },
        {
         "line": {
          "color": "#66BAE7",
          "width": 2
         },
         "mode": "lines",
         "showlegend": false,
         "type": "scatter",
         "x": [
          0.252646374642586,
          0.34745558736638693
         ],
         "y": [
          71,
          71
         ]
        },
        {
         "line": {
          "color": "#66BAE7",
          "width": 2
         },
         "mode": "lines",
         "showlegend": false,
         "type": "scatter",
         "x": [
          0.24621034298459799,
          0.3862106438015092
         ],
         "y": [
          70,
          70
         ]
        },
        {
         "line": {
          "color": "#66BAE7",
          "width": 2
         },
         "mode": "lines",
         "showlegend": false,
         "type": "scatter",
         "x": [
          0.2451972545976352,
          0.33704074670055106
         ],
         "y": [
          69,
          69
         ]
        },
        {
         "line": {
          "color": "#66BAE7",
          "width": 2
         },
         "mode": "lines",
         "showlegend": false,
         "type": "scatter",
         "x": [
          0.2407149723575911,
          0.265722379928685
         ],
         "y": [
          68,
          68
         ]
        },
        {
         "line": {
          "color": "#66BAE7",
          "width": 2
         },
         "mode": "lines",
         "showlegend": false,
         "type": "scatter",
         "x": [
          0.2404744563719117,
          0.3180985096173861
         ],
         "y": [
          67,
          67
         ]
        },
        {
         "line": {
          "color": "#66BAE7",
          "width": 2
         },
         "mode": "lines",
         "showlegend": false,
         "type": "scatter",
         "x": [
          0.23985571381256535,
          0.4197854793959449
         ],
         "y": [
          66,
          66
         ]
        },
        {
         "line": {
          "color": "#66BAE7",
          "width": 2
         },
         "mode": "lines",
         "showlegend": false,
         "type": "scatter",
         "x": [
          0.23504784592630437,
          0.2881851347748858
         ],
         "y": [
          65,
          65
         ]
        },
        {
         "line": {
          "color": "#66BAE7",
          "width": 2
         },
         "mode": "lines",
         "showlegend": false,
         "type": "scatter",
         "x": [
          0.23467090131300436,
          0.27784428928424576
         ],
         "y": [
          64,
          64
         ]
        },
        {
         "line": {
          "color": "#66BAE7",
          "width": 2
         },
         "mode": "lines",
         "showlegend": false,
         "type": "scatter",
         "x": [
          0.2335206903845484,
          0.2549823543177838
         ],
         "y": [
          63,
          63
         ]
        },
        {
         "line": {
          "color": "#66BAE7",
          "width": 2
         },
         "mode": "lines",
         "showlegend": false,
         "type": "scatter",
         "x": [
          0.23218627594303018,
          0.2881851347748858
         ],
         "y": [
          62,
          62
         ]
        },
        {
         "line": {
          "color": "#66BAE7",
          "width": 2
         },
         "mode": "lines",
         "showlegend": false,
         "type": "scatter",
         "x": [
          0.2312233730673412,
          0.3362903057573633
         ],
         "y": [
          61,
          61
         ]
        },
        {
         "line": {
          "color": "#66BAE7",
          "width": 2
         },
         "mode": "lines",
         "showlegend": false,
         "type": "scatter",
         "x": [
          0.23121108438775653,
          0.35317054140720355
         ],
         "y": [
          60,
          60
         ]
        },
        {
         "line": {
          "color": "#66BAE7",
          "width": 2
         },
         "mode": "lines",
         "showlegend": false,
         "type": "scatter",
         "x": [
          0.22863373825153202,
          0.26078523837019024
         ],
         "y": [
          59,
          59
         ]
        },
        {
         "line": {
          "color": "#66BAE7",
          "width": 2
         },
         "mode": "lines",
         "showlegend": false,
         "type": "scatter",
         "x": [
          0.22755985753806762,
          0.2836279195080164
         ],
         "y": [
          58,
          58
         ]
        },
        {
         "line": {
          "color": "#66BAE7",
          "width": 2
         },
         "mode": "lines",
         "showlegend": false,
         "type": "scatter",
         "x": [
          0.22711105304428467,
          0.30452946091476546
         ],
         "y": [
          57,
          57
         ]
        },
        {
         "line": {
          "color": "#66BAE7",
          "width": 2
         },
         "mode": "lines",
         "showlegend": false,
         "type": "scatter",
         "x": [
          0.22507586466748672,
          0.266622051569708
         ],
         "y": [
          56,
          56
         ]
        },
        {
         "line": {
          "color": "#66BAE7",
          "width": 2
         },
         "mode": "lines",
         "showlegend": false,
         "type": "scatter",
         "x": [
          0.223412014435871,
          0.3324985940963028
         ],
         "y": [
          55,
          55
         ]
        },
        {
         "line": {
          "color": "#66BAE7",
          "width": 2
         },
         "mode": "lines",
         "showlegend": false,
         "type": "scatter",
         "x": [
          0.22271553127667862,
          0.3062860537408486
         ],
         "y": [
          54,
          54
         ]
        },
        {
         "line": {
          "color": "#66BAE7",
          "width": 2
         },
         "mode": "lines",
         "showlegend": false,
         "type": "scatter",
         "x": [
          0.22164816745201435,
          0.28501831927427096
         ],
         "y": [
          53,
          53
         ]
        },
        {
         "line": {
          "color": "#66BAE7",
          "width": 2
         },
         "mode": "lines",
         "showlegend": false,
         "type": "scatter",
         "x": [
          0.22139616055232017,
          0.34793528500434273
         ],
         "y": [
          52,
          52
         ]
        },
        {
         "line": {
          "color": "#66BAE7",
          "width": 2
         },
         "mode": "lines",
         "showlegend": false,
         "type": "scatter",
         "x": [
          0.22118807967999307,
          0.2608422179555883
         ],
         "y": [
          51,
          51
         ]
        },
        {
         "line": {
          "color": "#66BAE7",
          "width": 2
         },
         "mode": "lines",
         "showlegend": false,
         "type": "scatter",
         "x": [
          0.21912991934400172,
          0.2353086016114001
         ],
         "y": [
          50,
          50
         ]
        },
        {
         "line": {
          "color": "#66BAE7",
          "width": 2
         },
         "mode": "lines",
         "showlegend": false,
         "type": "scatter",
         "x": [
          0.2179766133832852,
          0.31687383097024896
         ],
         "y": [
          49,
          49
         ]
        },
        {
         "line": {
          "color": "#66BAE7",
          "width": 2
         },
         "mode": "lines",
         "showlegend": false,
         "type": "scatter",
         "x": [
          0.21624985357777016,
          0.27005220188892953
         ],
         "y": [
          48,
          48
         ]
        },
        {
         "line": {
          "color": "#66BAE7",
          "width": 2
         },
         "mode": "lines",
         "showlegend": false,
         "type": "scatter",
         "x": [
          0.21592057402429574,
          0.2905756550716782
         ],
         "y": [
          47,
          47
         ]
        },
        {
         "line": {
          "color": "#66BAE7",
          "width": 2
         },
         "mode": "lines",
         "showlegend": false,
         "type": "scatter",
         "x": [
          0.2147991651681139,
          0.33238369072680785
         ],
         "y": [
          46,
          46
         ]
        },
        {
         "line": {
          "color": "#66BAE7",
          "width": 2
         },
         "mode": "lines",
         "showlegend": false,
         "type": "scatter",
         "x": [
          0.21345327808015718,
          0.30463710014746803
         ],
         "y": [
          45,
          45
         ]
        },
        {
         "line": {
          "color": "#66BAE7",
          "width": 2
         },
         "mode": "lines",
         "showlegend": false,
         "type": "scatter",
         "x": [
          0.2118740894597658,
          0.28822111221350916
         ],
         "y": [
          44,
          44
         ]
        },
        {
         "line": {
          "color": "#66BAE7",
          "width": 2
         },
         "mode": "lines",
         "showlegend": false,
         "type": "scatter",
         "x": [
          0.21177922276679387,
          0.23312215349722143
         ],
         "y": [
          43,
          43
         ]
        },
        {
         "line": {
          "color": "#66BAE7",
          "width": 2
         },
         "mode": "lines",
         "showlegend": false,
         "type": "scatter",
         "x": [
          0.21131846413417085,
          0.3287104967012411
         ],
         "y": [
          42,
          42
         ]
        },
        {
         "line": {
          "color": "#66BAE7",
          "width": 2
         },
         "mode": "lines",
         "showlegend": false,
         "type": "scatter",
         "x": [
          0.21110687032033904,
          0.28822111221350916
         ],
         "y": [
          41,
          41
         ]
        },
        {
         "line": {
          "color": "#66BAE7",
          "width": 2
         },
         "mode": "lines",
         "showlegend": false,
         "type": "scatter",
         "x": [
          0.21032294148941733,
          0.3618763218508374
         ],
         "y": [
          40,
          40
         ]
        },
        {
         "line": {
          "color": "#66BAE7",
          "width": 2
         },
         "mode": "lines",
         "showlegend": false,
         "type": "scatter",
         "x": [
          0.21022128062123732,
          0.36054975643195536
         ],
         "y": [
          39,
          39
         ]
        },
        {
         "line": {
          "color": "#66BAE7",
          "width": 2
         },
         "mode": "lines",
         "showlegend": false,
         "type": "scatter",
         "x": [
          0.20908253407588498,
          0.34082711078191724
         ],
         "y": [
          38,
          38
         ]
        },
        {
         "line": {
          "color": "#66BAE7",
          "width": 2
         },
         "mode": "lines",
         "showlegend": false,
         "type": "scatter",
         "x": [
          0.208693691149943,
          0.2933376584373944
         ],
         "y": [
          37,
          37
         ]
        },
        {
         "line": {
          "color": "#66BAE7",
          "width": 2
         },
         "mode": "lines",
         "showlegend": false,
         "type": "scatter",
         "x": [
          0.20710338386747024,
          0.3034987541976379
         ],
         "y": [
          36,
          36
         ]
        },
        {
         "line": {
          "color": "#66BAE7",
          "width": 2
         },
         "mode": "lines",
         "showlegend": false,
         "type": "scatter",
         "x": [
          0.2057690355100403,
          0.3036847518705432
         ],
         "y": [
          35,
          35
         ]
        },
        {
         "line": {
          "color": "#66BAE7",
          "width": 2
         },
         "mode": "lines",
         "showlegend": false,
         "type": "scatter",
         "x": [
          0.2052069070240202,
          0.33436624899437967
         ],
         "y": [
          34,
          34
         ]
        },
        {
         "line": {
          "color": "#66BAE7",
          "width": 2
         },
         "mode": "lines",
         "showlegend": false,
         "type": "scatter",
         "x": [
          0.20354388306225504,
          0.30452946091476546
         ],
         "y": [
          33,
          33
         ]
        },
        {
         "line": {
          "color": "#66BAE7",
          "width": 2
         },
         "mode": "lines",
         "showlegend": false,
         "type": "scatter",
         "x": [
          0.20327583463726492,
          0.334166446139104
         ],
         "y": [
          32,
          32
         ]
        },
        {
         "line": {
          "color": "#66BAE7",
          "width": 2
         },
         "mode": "lines",
         "showlegend": false,
         "type": "scatter",
         "x": [
          0.20221464720021487,
          0.3036847518705432
         ],
         "y": [
          31,
          31
         ]
        },
        {
         "line": {
          "color": "#66BAE7",
          "width": 2
         },
         "mode": "lines",
         "showlegend": false,
         "type": "scatter",
         "x": [
          0.20132069977610587,
          0.29675810675630937
         ],
         "y": [
          30,
          30
         ]
        },
        {
         "line": {
          "color": "#66BAE7",
          "width": 2
         },
         "mode": "lines",
         "showlegend": false,
         "type": "scatter",
         "x": [
          0.20030455167340047,
          0.30387806635812636
         ],
         "y": [
          29,
          29
         ]
        },
        {
         "line": {
          "color": "#66BAE7",
          "width": 2
         },
         "mode": "lines",
         "showlegend": false,
         "type": "scatter",
         "x": [
          0.1967808805940602,
          0.29626118367411125
         ],
         "y": [
          28,
          28
         ]
        },
        {
         "line": {
          "color": "#66BAE7",
          "width": 2
         },
         "mode": "lines",
         "showlegend": false,
         "type": "scatter",
         "x": [
          0.19600336800888568,
          0.30716182463541913
         ],
         "y": [
          27,
          27
         ]
        },
        {
         "line": {
          "color": "#66BAE7",
          "width": 2
         },
         "mode": "lines",
         "showlegend": false,
         "type": "scatter",
         "x": [
          0.19589883398871705,
          0.3338814265981299
         ],
         "y": [
          26,
          26
         ]
        },
        {
         "line": {
          "color": "#66BAE7",
          "width": 2
         },
         "mode": "lines",
         "showlegend": false,
         "type": "scatter",
         "x": [
          0.1955006030244696,
          0.30452946091476546
         ],
         "y": [
          25,
          25
         ]
        },
        {
         "line": {
          "color": "#66BAE7",
          "width": 2
         },
         "mode": "lines",
         "showlegend": false,
         "type": "scatter",
         "x": [
          0.19470104448347939,
          0.265722379928685
         ],
         "y": [
          24,
          24
         ]
        },
        {
         "line": {
          "color": "#66BAE7",
          "width": 2
         },
         "mode": "lines",
         "showlegend": false,
         "type": "scatter",
         "x": [
          0.19274974071370568,
          0.3287104967012411
         ],
         "y": [
          23,
          23
         ]
        },
        {
         "line": {
          "color": "#66BAE7",
          "width": 2
         },
         "mode": "lines",
         "showlegend": false,
         "type": "scatter",
         "x": [
          0.19233187294393006,
          0.27109522106756356
         ],
         "y": [
          22,
          22
         ]
        },
        {
         "line": {
          "color": "#66BAE7",
          "width": 2
         },
         "mode": "lines",
         "showlegend": false,
         "type": "scatter",
         "x": [
          0.19132223029651024,
          0.2608422179555883
         ],
         "y": [
          21,
          21
         ]
        },
        {
         "line": {
          "color": "#66BAE7",
          "width": 2
         },
         "mode": "lines",
         "showlegend": false,
         "type": "scatter",
         "x": [
          0.18997692494968632,
          0.3716518879664195
         ],
         "y": [
          20,
          20
         ]
        },
        {
         "line": {
          "color": "#66BAE7",
          "width": 2
         },
         "mode": "lines",
         "showlegend": false,
         "type": "scatter",
         "x": [
          0.18959654638028642,
          0.30452946091476546
         ],
         "y": [
          19,
          19
         ]
        },
        {
         "line": {
          "color": "#66BAE7",
          "width": 2
         },
         "mode": "lines",
         "showlegend": false,
         "type": "scatter",
         "x": [
          0.18699304805269495,
          0.35728895723063697
         ],
         "y": [
          18,
          18
         ]
        },
        {
         "line": {
          "color": "#66BAE7",
          "width": 2
         },
         "mode": "lines",
         "showlegend": false,
         "type": "scatter",
         "x": [
          0.1853871882370274,
          0.3121613412869426
         ],
         "y": [
          17,
          17
         ]
        },
        {
         "line": {
          "color": "#66BAE7",
          "width": 2
         },
         "mode": "lines",
         "showlegend": false,
         "type": "scatter",
         "x": [
          0.1850976018720822,
          0.35317054140720355
         ],
         "y": [
          16,
          16
         ]
        },
        {
         "line": {
          "color": "#66BAE7",
          "width": 2
         },
         "mode": "lines",
         "showlegend": false,
         "type": "scatter",
         "x": [
          0.18312116468995968,
          0.4107087360216066
         ],
         "y": [
          15,
          15
         ]
        },
        {
         "line": {
          "color": "#66BAE7",
          "width": 2
         },
         "mode": "lines",
         "showlegend": false,
         "type": "scatter",
         "x": [
          0.1816943942722585,
          0.3551559097618945
         ],
         "y": [
          14,
          14
         ]
        },
        {
         "line": {
          "color": "#66BAE7",
          "width": 2
         },
         "mode": "lines",
         "showlegend": false,
         "type": "scatter",
         "x": [
          0.18035353840920848,
          0.2836279195080164
         ],
         "y": [
          13,
          13
         ]
        },
        {
         "line": {
          "color": "#66BAE7",
          "width": 2
         },
         "mode": "lines",
         "showlegend": false,
         "type": "scatter",
         "x": [
          0.17740735386462209,
          0.35230836852052766
         ],
         "y": [
          12,
          12
         ]
        },
        {
         "line": {
          "color": "#66BAE7",
          "width": 2
         },
         "mode": "lines",
         "showlegend": false,
         "type": "scatter",
         "x": [
          0.17685967174666256,
          0.3338814265981299
         ],
         "y": [
          11,
          11
         ]
        },
        {
         "line": {
          "color": "#66BAE7",
          "width": 2
         },
         "mode": "lines",
         "showlegend": false,
         "type": "scatter",
         "x": [
          0.17425455510593968,
          0.36054975643195536
         ],
         "y": [
          10,
          10
         ]
        },
        {
         "line": {
          "color": "#66BAE7",
          "width": 2
         },
         "mode": "lines",
         "showlegend": false,
         "type": "scatter",
         "x": [
          0.17296322819592178,
          0.3469196559023133
         ],
         "y": [
          9,
          9
         ]
        },
        {
         "line": {
          "color": "#66BAE7",
          "width": 2
         },
         "mode": "lines",
         "showlegend": false,
         "type": "scatter",
         "x": [
          0.16873558438498917,
          0.34793528500434273
         ],
         "y": [
          8,
          8
         ]
        },
        {
         "line": {
          "color": "#66BAE7",
          "width": 2
         },
         "mode": "lines",
         "showlegend": false,
         "type": "scatter",
         "x": [
          0.16664687820709598,
          0.33238369072680785
         ],
         "y": [
          7,
          7
         ]
        },
        {
         "line": {
          "color": "#66BAE7",
          "width": 2
         },
         "mode": "lines",
         "showlegend": false,
         "type": "scatter",
         "x": [
          0.1627320069896045,
          0.3551559097618945
         ],
         "y": [
          6,
          6
         ]
        },
        {
         "line": {
          "color": "#66BAE7",
          "width": 2
         },
         "mode": "lines",
         "showlegend": false,
         "type": "scatter",
         "x": [
          0.1616185294180327,
          0.28501831927427096
         ],
         "y": [
          5,
          5
         ]
        },
        {
         "line": {
          "color": "#66BAE7",
          "width": 2
         },
         "mode": "lines",
         "showlegend": false,
         "type": "scatter",
         "x": [
          0.15612156551728593,
          0.31687383097024896
         ],
         "y": [
          4,
          4
         ]
        },
        {
         "line": {
          "color": "#66BAE7",
          "width": 2
         },
         "mode": "lines",
         "showlegend": false,
         "type": "scatter",
         "x": [
          0.15233935177509542,
          0.30387806635812636
         ],
         "y": [
          3,
          3
         ]
        },
        {
         "line": {
          "color": "#66BAE7",
          "width": 2
         },
         "mode": "lines",
         "showlegend": false,
         "type": "scatter",
         "x": [
          0.14759875088150617,
          0.18371524191004238
         ],
         "y": [
          2,
          2
         ]
        },
        {
         "line": {
          "color": "#66BAE7",
          "width": 2
         },
         "mode": "lines",
         "name": "Dimension 1",
         "type": "scatter",
         "x": [
          0.14169890611668307,
          0.31687383097024896
         ],
         "y": [
          1,
          1
         ]
        }
       ],
       "layout": {
        "margin": {
         "b": 50,
         "l": 50,
         "r": 50,
         "t": 60
        },
        "xaxis": {
         "rangevar": [
          -0.001,
          0.46498652188028883
         ],
         "showgrid": false,
         "title": "ϵ",
         "zeroline": false
        },
        "yaxis": {
         "rangevar": [
          0,
          99.1
         ],
         "showgrid": false,
         "ticks": false
        }
       }
      },
      "application/vnd.webio.node+json": {
       "children": [
        {
         "children": [],
         "instanceArgs": {
          "namespace": "html",
          "tag": "div"
         },
         "nodeType": "DOM",
         "props": {
          "id": "plot-48fda07c-4f71-4e09-8e0b-3d0ea9c4be14"
         },
         "type": "node"
        }
       ],
       "instanceArgs": {
        "handlers": {
         "__get_gd_contents": [
          "(function (prop){prop==\"data\" ? (WebIO.setval({\"name\":\"__gd_contents\",\"scope\":\"7970841067398177352\",\"id\":\"ob_76\",\"type\":\"observable\"},this.plotElem.data)) : undefined; return prop==\"layout\" ? (WebIO.setval({\"name\":\"__gd_contents\",\"scope\":\"7970841067398177352\",\"id\":\"ob_76\",\"type\":\"observable\"},this.plotElem.layout)) : undefined})"
         ],
         "_commands": [
          "(function (args){var fn=args.shift(); var elem=this.plotElem; var Plotly=this.Plotly; args.unshift(elem); return Plotly[fn].apply(this,args)})"
         ],
         "_downloadImage": [
          "(function (options){return this.Plotly.downloadImage(this.plotElem,options)})"
         ],
         "_toImage": [
          "(function (options){return this.Plotly.toImage(this.plotElem,options).then((function (data){return WebIO.setval({\"name\":\"image\",\"scope\":\"7970841067398177352\",\"id\":\"ob_75\",\"type\":\"observable\"},data)}))})"
         ]
        },
        "id": "7970841067398177352",
        "imports": {
         "data": [
          {
           "name": "Plotly",
           "type": "js",
           "url": "/assetserver/9147360d5c3613700b42fe357486d9f33f779d9b-plotly-latest.min.js"
          },
          {
           "name": null,
           "type": "js",
           "url": "/assetserver/9f6ebd16eafa02aacf860d0fd74c255df175511a-plotly_webio.bundle.js"
          }
         ],
         "type": "async_block"
        },
        "mount_callbacks": [
         "function () {\n    var handler = ((function (Plotly,PlotlyWebIO){PlotlyWebIO.init(WebIO); var gd=this.dom.querySelector(\"#plot-48fda07c-4f71-4e09-8e0b-3d0ea9c4be14\"); this.plotElem=gd; this.Plotly=Plotly; (window.Blink!==undefined) ? (gd.style.width=\"100%\", gd.style.height=\"100vh\", gd.style.marginLeft=\"0%\", gd.style.marginTop=\"0vh\") : undefined; window.onresize=(function (){return Plotly.Plots.resize(gd)}); Plotly.newPlot(gd,[{\"showlegend\":false,\"mode\":\"lines\",\"line\":{\"color\":\"#66BAE7\",\"width\":2},\"y\":[99,99],\"type\":\"scatter\",\"x\":[0.4064585098188715,0.42804653076601223]},{\"showlegend\":false,\"mode\":\"lines\",\"line\":{\"color\":\"#66BAE7\",\"width\":2},\"y\":[98,98],\"type\":\"scatter\",\"x\":[0.39516624998668404,0.4639865218802888]},{\"showlegend\":false,\"mode\":\"lines\",\"line\":{\"color\":\"#66BAE7\",\"width\":2},\"y\":[97,97],\"type\":\"scatter\",\"x\":[0.37351339494611996,0.37710105917041037]},{\"showlegend\":false,\"mode\":\"lines\",\"line\":{\"color\":\"#66BAE7\",\"width\":2},\"y\":[96,96],\"type\":\"scatter\",\"x\":[0.3261859345237982,0.3949219438958313]},{\"showlegend\":false,\"mode\":\"lines\",\"line\":{\"color\":\"#66BAE7\",\"width\":2},\"y\":[95,95],\"type\":\"scatter\",\"x\":[0.310313099930035,0.3200374379996857]},{\"showlegend\":false,\"mode\":\"lines\",\"line\":{\"color\":\"#66BAE7\",\"width\":2},\"y\":[94,94],\"type\":\"scatter\",\"x\":[0.3059523734066927,0.3062860537408486]},{\"showlegend\":false,\"mode\":\"lines\",\"line\":{\"color\":\"#66BAE7\",\"width\":2},\"y\":[93,93],\"type\":\"scatter\",\"x\":[0.3003911275200868,0.3362903057573633]},{\"showlegend\":false,\"mode\":\"lines\",\"line\":{\"color\":\"#66BAE7\",\"width\":2},\"y\":[92,92],\"type\":\"scatter\",\"x\":[0.2999445561033727,0.3085568047023249]},{\"showlegend\":false,\"mode\":\"lines\",\"line\":{\"color\":\"#66BAE7\",\"width\":2},\"y\":[91,91],\"type\":\"scatter\",\"x\":[0.29553472690381793,0.3949219438958313]},{\"showlegend\":false,\"mode\":\"lines\",\"line\":{\"color\":\"#66BAE7\",\"width\":2},\"y\":[90,90],\"type\":\"scatter\",\"x\":[0.29477933495395087,0.3254477002499193]},{\"showlegend\":false,\"mode\":\"lines\",\"line\":{\"color\":\"#66BAE7\",\"width\":2},\"y\":[89,89],\"type\":\"scatter\",\"x\":[0.29039649956585395,0.34745558736638693]},{\"showlegend\":false,\"mode\":\"lines\",\"line\":{\"color\":\"#66BAE7\",\"width\":2},\"y\":[88,88],\"type\":\"scatter\",\"x\":[0.28848476952541424,0.2933376584373944]},{\"showlegend\":false,\"mode\":\"lines\",\"line\":{\"color\":\"#66BAE7\",\"width\":2},\"y\":[87,87],\"type\":\"scatter\",\"x\":[0.2837294425280483,0.3739367195090774]},{\"showlegend\":false,\"mode\":\"lines\",\"line\":{\"color\":\"#66BAE7\",\"width\":2},\"y\":[86,86],\"type\":\"scatter\",\"x\":[0.28204073147118536,0.28501831927427096]},{\"showlegend\":false,\"mode\":\"lines\",\"line\":{\"color\":\"#66BAE7\",\"width\":2},\"y\":[85,85],\"type\":\"scatter\",\"x\":[0.2818231929498793,0.2881851347748858]},{\"showlegend\":false,\"mode\":\"lines\",\"line\":{\"color\":\"#66BAE7\",\"width\":2},\"y\":[84,84],\"type\":\"scatter\",\"x\":[0.27887829588921603,0.2915535696238633]},{\"showlegend\":false,\"mode\":\"lines\",\"line\":{\"color\":\"#66BAE7\",\"width\":2},\"y\":[83,83],\"type\":\"scatter\",\"x\":[0.27661135802132425,0.3362903057573633]},{\"showlegend\":false,\"mode\":\"lines\",\"line\":{\"color\":\"#66BAE7\",\"width\":2},\"y\":[82,82],\"type\":\"scatter\",\"x\":[0.2734786951636914,0.29675810675630937]},{\"showlegend\":false,\"mode\":\"lines\",\"line\":{\"color\":\"#66BAE7\",\"width\":2},\"y\":[81,81],\"type\":\"scatter\",\"x\":[0.27052491286470204,0.33012976524801607]},{\"showlegend\":false,\"mode\":\"lines\",\"line\":{\"color\":\"#66BAE7\",\"width\":2},\"y\":[80,80],\"type\":\"scatter\",\"x\":[0.2673077342738541,0.27797940313473973]},{\"showlegend\":false,\"mode\":\"lines\",\"line\":{\"color\":\"#66BAE7\",\"width\":2},\"y\":[79,79],\"type\":\"scatter\",\"x\":[0.2669729308002764,0.3034987541976379]},{\"showlegend\":false,\"mode\":\"lines\",\"line\":{\"color\":\"#66BAE7\",\"width\":2},\"y\":[78,78],\"type\":\"scatter\",\"x\":[0.26426902552265025,0.3315461895518827]},{\"showlegend\":false,\"mode\":\"lines\",\"line\":{\"color\":\"#66BAE7\",\"width\":2},\"y\":[77,77],\"type\":\"scatter\",\"x\":[0.2608426071094277,0.30452946091476546]},{\"showlegend\":false,\"mode\":\"lines\",\"line\":{\"color\":\"#66BAE7\",\"width\":2},\"y\":[76,76],\"type\":\"scatter\",\"x\":[0.26044638878425147,0.3342107579930424]},{\"showlegend\":false,\"mode\":\"lines\",\"line\":{\"color\":\"#66BAE7\",\"width\":2},\"y\":[75,75],\"type\":\"scatter\",\"x\":[0.2595630453064864,0.3488289213894728]},{\"showlegend\":false,\"mode\":\"lines\",\"line\":{\"color\":\"#66BAE7\",\"width\":2},\"y\":[74,74],\"type\":\"scatter\",\"x\":[0.25606343711253465,0.3036847518705432]},{\"showlegend\":false,\"mode\":\"lines\",\"line\":{\"color\":\"#66BAE7\",\"width\":2},\"y\":[73,73],\"type\":\"scatter\",\"x\":[0.2543595296930911,0.25921208016702757]},{\"showlegend\":false,\"mode\":\"lines\",\"line\":{\"color\":\"#66BAE7\",\"width\":2},\"y\":[72,72],\"type\":\"scatter\",\"x\":[0.25314792416137194,0.27109522106756356]},{\"showlegend\":false,\"mode\":\"lines\",\"line\":{\"color\":\"#66BAE7\",\"width\":2},\"y\":[71,71],\"type\":\"scatter\",\"x\":[0.252646374642586,0.34745558736638693]},{\"showlegend\":false,\"mode\":\"lines\",\"line\":{\"color\":\"#66BAE7\",\"width\":2},\"y\":[70,70],\"type\":\"scatter\",\"x\":[0.24621034298459799,0.3862106438015092]},{\"showlegend\":false,\"mode\":\"lines\",\"line\":{\"color\":\"#66BAE7\",\"width\":2},\"y\":[69,69],\"type\":\"scatter\",\"x\":[0.2451972545976352,0.33704074670055106]},{\"showlegend\":false,\"mode\":\"lines\",\"line\":{\"color\":\"#66BAE7\",\"width\":2},\"y\":[68,68],\"type\":\"scatter\",\"x\":[0.2407149723575911,0.265722379928685]},{\"showlegend\":false,\"mode\":\"lines\",\"line\":{\"color\":\"#66BAE7\",\"width\":2},\"y\":[67,67],\"type\":\"scatter\",\"x\":[0.2404744563719117,0.3180985096173861]},{\"showlegend\":false,\"mode\":\"lines\",\"line\":{\"color\":\"#66BAE7\",\"width\":2},\"y\":[66,66],\"type\":\"scatter\",\"x\":[0.23985571381256535,0.4197854793959449]},{\"showlegend\":false,\"mode\":\"lines\",\"line\":{\"color\":\"#66BAE7\",\"width\":2},\"y\":[65,65],\"type\":\"scatter\",\"x\":[0.23504784592630437,0.2881851347748858]},{\"showlegend\":false,\"mode\":\"lines\",\"line\":{\"color\":\"#66BAE7\",\"width\":2},\"y\":[64,64],\"type\":\"scatter\",\"x\":[0.23467090131300436,0.27784428928424576]},{\"showlegend\":false,\"mode\":\"lines\",\"line\":{\"color\":\"#66BAE7\",\"width\":2},\"y\":[63,63],\"type\":\"scatter\",\"x\":[0.2335206903845484,0.2549823543177838]},{\"showlegend\":false,\"mode\":\"lines\",\"line\":{\"color\":\"#66BAE7\",\"width\":2},\"y\":[62,62],\"type\":\"scatter\",\"x\":[0.23218627594303018,0.2881851347748858]},{\"showlegend\":false,\"mode\":\"lines\",\"line\":{\"color\":\"#66BAE7\",\"width\":2},\"y\":[61,61],\"type\":\"scatter\",\"x\":[0.2312233730673412,0.3362903057573633]},{\"showlegend\":false,\"mode\":\"lines\",\"line\":{\"color\":\"#66BAE7\",\"width\":2},\"y\":[60,60],\"type\":\"scatter\",\"x\":[0.23121108438775653,0.35317054140720355]},{\"showlegend\":false,\"mode\":\"lines\",\"line\":{\"color\":\"#66BAE7\",\"width\":2},\"y\":[59,59],\"type\":\"scatter\",\"x\":[0.22863373825153202,0.26078523837019024]},{\"showlegend\":false,\"mode\":\"lines\",\"line\":{\"color\":\"#66BAE7\",\"width\":2},\"y\":[58,58],\"type\":\"scatter\",\"x\":[0.22755985753806762,0.2836279195080164]},{\"showlegend\":false,\"mode\":\"lines\",\"line\":{\"color\":\"#66BAE7\",\"width\":2},\"y\":[57,57],\"type\":\"scatter\",\"x\":[0.22711105304428467,0.30452946091476546]},{\"showlegend\":false,\"mode\":\"lines\",\"line\":{\"color\":\"#66BAE7\",\"width\":2},\"y\":[56,56],\"type\":\"scatter\",\"x\":[0.22507586466748672,0.266622051569708]},{\"showlegend\":false,\"mode\":\"lines\",\"line\":{\"color\":\"#66BAE7\",\"width\":2},\"y\":[55,55],\"type\":\"scatter\",\"x\":[0.223412014435871,0.3324985940963028]},{\"showlegend\":false,\"mode\":\"lines\",\"line\":{\"color\":\"#66BAE7\",\"width\":2},\"y\":[54,54],\"type\":\"scatter\",\"x\":[0.22271553127667862,0.3062860537408486]},{\"showlegend\":false,\"mode\":\"lines\",\"line\":{\"color\":\"#66BAE7\",\"width\":2},\"y\":[53,53],\"type\":\"scatter\",\"x\":[0.22164816745201435,0.28501831927427096]},{\"showlegend\":false,\"mode\":\"lines\",\"line\":{\"color\":\"#66BAE7\",\"width\":2},\"y\":[52,52],\"type\":\"scatter\",\"x\":[0.22139616055232017,0.34793528500434273]},{\"showlegend\":false,\"mode\":\"lines\",\"line\":{\"color\":\"#66BAE7\",\"width\":2},\"y\":[51,51],\"type\":\"scatter\",\"x\":[0.22118807967999307,0.2608422179555883]},{\"showlegend\":false,\"mode\":\"lines\",\"line\":{\"color\":\"#66BAE7\",\"width\":2},\"y\":[50,50],\"type\":\"scatter\",\"x\":[0.21912991934400172,0.2353086016114001]},{\"showlegend\":false,\"mode\":\"lines\",\"line\":{\"color\":\"#66BAE7\",\"width\":2},\"y\":[49,49],\"type\":\"scatter\",\"x\":[0.2179766133832852,0.31687383097024896]},{\"showlegend\":false,\"mode\":\"lines\",\"line\":{\"color\":\"#66BAE7\",\"width\":2},\"y\":[48,48],\"type\":\"scatter\",\"x\":[0.21624985357777016,0.27005220188892953]},{\"showlegend\":false,\"mode\":\"lines\",\"line\":{\"color\":\"#66BAE7\",\"width\":2},\"y\":[47,47],\"type\":\"scatter\",\"x\":[0.21592057402429574,0.2905756550716782]},{\"showlegend\":false,\"mode\":\"lines\",\"line\":{\"color\":\"#66BAE7\",\"width\":2},\"y\":[46,46],\"type\":\"scatter\",\"x\":[0.2147991651681139,0.33238369072680785]},{\"showlegend\":false,\"mode\":\"lines\",\"line\":{\"color\":\"#66BAE7\",\"width\":2},\"y\":[45,45],\"type\":\"scatter\",\"x\":[0.21345327808015718,0.30463710014746803]},{\"showlegend\":false,\"mode\":\"lines\",\"line\":{\"color\":\"#66BAE7\",\"width\":2},\"y\":[44,44],\"type\":\"scatter\",\"x\":[0.2118740894597658,0.28822111221350916]},{\"showlegend\":false,\"mode\":\"lines\",\"line\":{\"color\":\"#66BAE7\",\"width\":2},\"y\":[43,43],\"type\":\"scatter\",\"x\":[0.21177922276679387,0.23312215349722143]},{\"showlegend\":false,\"mode\":\"lines\",\"line\":{\"color\":\"#66BAE7\",\"width\":2},\"y\":[42,42],\"type\":\"scatter\",\"x\":[0.21131846413417085,0.3287104967012411]},{\"showlegend\":false,\"mode\":\"lines\",\"line\":{\"color\":\"#66BAE7\",\"width\":2},\"y\":[41,41],\"type\":\"scatter\",\"x\":[0.21110687032033904,0.28822111221350916]},{\"showlegend\":false,\"mode\":\"lines\",\"line\":{\"color\":\"#66BAE7\",\"width\":2},\"y\":[40,40],\"type\":\"scatter\",\"x\":[0.21032294148941733,0.3618763218508374]},{\"showlegend\":false,\"mode\":\"lines\",\"line\":{\"color\":\"#66BAE7\",\"width\":2},\"y\":[39,39],\"type\":\"scatter\",\"x\":[0.21022128062123732,0.36054975643195536]},{\"showlegend\":false,\"mode\":\"lines\",\"line\":{\"color\":\"#66BAE7\",\"width\":2},\"y\":[38,38],\"type\":\"scatter\",\"x\":[0.20908253407588498,0.34082711078191724]},{\"showlegend\":false,\"mode\":\"lines\",\"line\":{\"color\":\"#66BAE7\",\"width\":2},\"y\":[37,37],\"type\":\"scatter\",\"x\":[0.208693691149943,0.2933376584373944]},{\"showlegend\":false,\"mode\":\"lines\",\"line\":{\"color\":\"#66BAE7\",\"width\":2},\"y\":[36,36],\"type\":\"scatter\",\"x\":[0.20710338386747024,0.3034987541976379]},{\"showlegend\":false,\"mode\":\"lines\",\"line\":{\"color\":\"#66BAE7\",\"width\":2},\"y\":[35,35],\"type\":\"scatter\",\"x\":[0.2057690355100403,0.3036847518705432]},{\"showlegend\":false,\"mode\":\"lines\",\"line\":{\"color\":\"#66BAE7\",\"width\":2},\"y\":[34,34],\"type\":\"scatter\",\"x\":[0.2052069070240202,0.33436624899437967]},{\"showlegend\":false,\"mode\":\"lines\",\"line\":{\"color\":\"#66BAE7\",\"width\":2},\"y\":[33,33],\"type\":\"scatter\",\"x\":[0.20354388306225504,0.30452946091476546]},{\"showlegend\":false,\"mode\":\"lines\",\"line\":{\"color\":\"#66BAE7\",\"width\":2},\"y\":[32,32],\"type\":\"scatter\",\"x\":[0.20327583463726492,0.334166446139104]},{\"showlegend\":false,\"mode\":\"lines\",\"line\":{\"color\":\"#66BAE7\",\"width\":2},\"y\":[31,31],\"type\":\"scatter\",\"x\":[0.20221464720021487,0.3036847518705432]},{\"showlegend\":false,\"mode\":\"lines\",\"line\":{\"color\":\"#66BAE7\",\"width\":2},\"y\":[30,30],\"type\":\"scatter\",\"x\":[0.20132069977610587,0.29675810675630937]},{\"showlegend\":false,\"mode\":\"lines\",\"line\":{\"color\":\"#66BAE7\",\"width\":2},\"y\":[29,29],\"type\":\"scatter\",\"x\":[0.20030455167340047,0.30387806635812636]},{\"showlegend\":false,\"mode\":\"lines\",\"line\":{\"color\":\"#66BAE7\",\"width\":2},\"y\":[28,28],\"type\":\"scatter\",\"x\":[0.1967808805940602,0.29626118367411125]},{\"showlegend\":false,\"mode\":\"lines\",\"line\":{\"color\":\"#66BAE7\",\"width\":2},\"y\":[27,27],\"type\":\"scatter\",\"x\":[0.19600336800888568,0.30716182463541913]},{\"showlegend\":false,\"mode\":\"lines\",\"line\":{\"color\":\"#66BAE7\",\"width\":2},\"y\":[26,26],\"type\":\"scatter\",\"x\":[0.19589883398871705,0.3338814265981299]},{\"showlegend\":false,\"mode\":\"lines\",\"line\":{\"color\":\"#66BAE7\",\"width\":2},\"y\":[25,25],\"type\":\"scatter\",\"x\":[0.1955006030244696,0.30452946091476546]},{\"showlegend\":false,\"mode\":\"lines\",\"line\":{\"color\":\"#66BAE7\",\"width\":2},\"y\":[24,24],\"type\":\"scatter\",\"x\":[0.19470104448347939,0.265722379928685]},{\"showlegend\":false,\"mode\":\"lines\",\"line\":{\"color\":\"#66BAE7\",\"width\":2},\"y\":[23,23],\"type\":\"scatter\",\"x\":[0.19274974071370568,0.3287104967012411]},{\"showlegend\":false,\"mode\":\"lines\",\"line\":{\"color\":\"#66BAE7\",\"width\":2},\"y\":[22,22],\"type\":\"scatter\",\"x\":[0.19233187294393006,0.27109522106756356]},{\"showlegend\":false,\"mode\":\"lines\",\"line\":{\"color\":\"#66BAE7\",\"width\":2},\"y\":[21,21],\"type\":\"scatter\",\"x\":[0.19132223029651024,0.2608422179555883]},{\"showlegend\":false,\"mode\":\"lines\",\"line\":{\"color\":\"#66BAE7\",\"width\":2},\"y\":[20,20],\"type\":\"scatter\",\"x\":[0.18997692494968632,0.3716518879664195]},{\"showlegend\":false,\"mode\":\"lines\",\"line\":{\"color\":\"#66BAE7\",\"width\":2},\"y\":[19,19],\"type\":\"scatter\",\"x\":[0.18959654638028642,0.30452946091476546]},{\"showlegend\":false,\"mode\":\"lines\",\"line\":{\"color\":\"#66BAE7\",\"width\":2},\"y\":[18,18],\"type\":\"scatter\",\"x\":[0.18699304805269495,0.35728895723063697]},{\"showlegend\":false,\"mode\":\"lines\",\"line\":{\"color\":\"#66BAE7\",\"width\":2},\"y\":[17,17],\"type\":\"scatter\",\"x\":[0.1853871882370274,0.3121613412869426]},{\"showlegend\":false,\"mode\":\"lines\",\"line\":{\"color\":\"#66BAE7\",\"width\":2},\"y\":[16,16],\"type\":\"scatter\",\"x\":[0.1850976018720822,0.35317054140720355]},{\"showlegend\":false,\"mode\":\"lines\",\"line\":{\"color\":\"#66BAE7\",\"width\":2},\"y\":[15,15],\"type\":\"scatter\",\"x\":[0.18312116468995968,0.4107087360216066]},{\"showlegend\":false,\"mode\":\"lines\",\"line\":{\"color\":\"#66BAE7\",\"width\":2},\"y\":[14,14],\"type\":\"scatter\",\"x\":[0.1816943942722585,0.3551559097618945]},{\"showlegend\":false,\"mode\":\"lines\",\"line\":{\"color\":\"#66BAE7\",\"width\":2},\"y\":[13,13],\"type\":\"scatter\",\"x\":[0.18035353840920848,0.2836279195080164]},{\"showlegend\":false,\"mode\":\"lines\",\"line\":{\"color\":\"#66BAE7\",\"width\":2},\"y\":[12,12],\"type\":\"scatter\",\"x\":[0.17740735386462209,0.35230836852052766]},{\"showlegend\":false,\"mode\":\"lines\",\"line\":{\"color\":\"#66BAE7\",\"width\":2},\"y\":[11,11],\"type\":\"scatter\",\"x\":[0.17685967174666256,0.3338814265981299]},{\"showlegend\":false,\"mode\":\"lines\",\"line\":{\"color\":\"#66BAE7\",\"width\":2},\"y\":[10,10],\"type\":\"scatter\",\"x\":[0.17425455510593968,0.36054975643195536]},{\"showlegend\":false,\"mode\":\"lines\",\"line\":{\"color\":\"#66BAE7\",\"width\":2},\"y\":[9,9],\"type\":\"scatter\",\"x\":[0.17296322819592178,0.3469196559023133]},{\"showlegend\":false,\"mode\":\"lines\",\"line\":{\"color\":\"#66BAE7\",\"width\":2},\"y\":[8,8],\"type\":\"scatter\",\"x\":[0.16873558438498917,0.34793528500434273]},{\"showlegend\":false,\"mode\":\"lines\",\"line\":{\"color\":\"#66BAE7\",\"width\":2},\"y\":[7,7],\"type\":\"scatter\",\"x\":[0.16664687820709598,0.33238369072680785]},{\"showlegend\":false,\"mode\":\"lines\",\"line\":{\"color\":\"#66BAE7\",\"width\":2},\"y\":[6,6],\"type\":\"scatter\",\"x\":[0.1627320069896045,0.3551559097618945]},{\"showlegend\":false,\"mode\":\"lines\",\"line\":{\"color\":\"#66BAE7\",\"width\":2},\"y\":[5,5],\"type\":\"scatter\",\"x\":[0.1616185294180327,0.28501831927427096]},{\"showlegend\":false,\"mode\":\"lines\",\"line\":{\"color\":\"#66BAE7\",\"width\":2},\"y\":[4,4],\"type\":\"scatter\",\"x\":[0.15612156551728593,0.31687383097024896]},{\"showlegend\":false,\"mode\":\"lines\",\"line\":{\"color\":\"#66BAE7\",\"width\":2},\"y\":[3,3],\"type\":\"scatter\",\"x\":[0.15233935177509542,0.30387806635812636]},{\"showlegend\":false,\"mode\":\"lines\",\"line\":{\"color\":\"#66BAE7\",\"width\":2},\"y\":[2,2],\"type\":\"scatter\",\"x\":[0.14759875088150617,0.18371524191004238]},{\"mode\":\"lines\",\"line\":{\"color\":\"#66BAE7\",\"width\":2},\"y\":[1,1],\"type\":\"scatter\",\"name\":\"Dimension 1\",\"x\":[0.14169890611668307,0.31687383097024896]}],{\"xaxis\":{\"showgrid\":false,\"zeroline\":false,\"rangevar\":[-0.001,0.46498652188028883],\"title\":\"ϵ\"},\"margin\":{\"l\":50,\"b\":50,\"r\":50,\"t\":60},\"yaxis\":{\"showgrid\":false,\"rangevar\":[0.0,99.1],\"ticks\":false}},{}); gd.on(\"plotly_hover\",(function (data){var filtered_data=WebIO.PlotlyCommands.filterEventData(gd,data,\"hover\"); return !(filtered_data.isnil) ? (WebIO.setval({\"name\":\"hover\",\"scope\":\"7970841067398177352\",\"id\":\"ob_71\",\"type\":\"observable\"},filtered_data.out)) : undefined})); gd.on(\"plotly_unhover\",(function (){return WebIO.setval({\"name\":\"hover\",\"scope\":\"7970841067398177352\",\"id\":\"ob_71\",\"type\":\"observable\"},{})})); gd.on(\"plotly_selected\",(function (data){var filtered_data=WebIO.PlotlyCommands.filterEventData(gd,data,\"selected\"); return !(filtered_data.isnil) ? (WebIO.setval({\"name\":\"selected\",\"scope\":\"7970841067398177352\",\"id\":\"ob_72\",\"type\":\"observable\"},filtered_data.out)) : undefined})); gd.on(\"plotly_deselect\",(function (){return WebIO.setval({\"name\":\"selected\",\"scope\":\"7970841067398177352\",\"id\":\"ob_72\",\"type\":\"observable\"},{})})); gd.on(\"plotly_relayout\",(function (data){var filtered_data=WebIO.PlotlyCommands.filterEventData(gd,data,\"relayout\"); return !(filtered_data.isnil) ? (WebIO.setval({\"name\":\"relayout\",\"scope\":\"7970841067398177352\",\"id\":\"ob_74\",\"type\":\"observable\"},filtered_data.out)) : undefined})); return gd.on(\"plotly_click\",(function (data){var filtered_data=WebIO.PlotlyCommands.filterEventData(gd,data,\"click\"); return !(filtered_data.isnil) ? (WebIO.setval({\"name\":\"click\",\"scope\":\"7970841067398177352\",\"id\":\"ob_73\",\"type\":\"observable\"},filtered_data.out)) : undefined}))}));\n    (WebIO.importBlock({\"data\":[{\"name\":\"Plotly\",\"type\":\"js\",\"url\":\"/assetserver/9147360d5c3613700b42fe357486d9f33f779d9b-plotly-latest.min.js\"},{\"name\":null,\"type\":\"js\",\"url\":\"/assetserver/9f6ebd16eafa02aacf860d0fd74c255df175511a-plotly_webio.bundle.js\"}],\"type\":\"async_block\"})).then((imports) => handler.apply(this, imports));\n}\n"
        ],
        "observables": {
         "__gd_contents": {
          "id": "ob_76",
          "sync": false,
          "value": {}
         },
         "__get_gd_contents": {
          "id": "ob_80",
          "sync": false,
          "value": ""
         },
         "_commands": {
          "id": "ob_77",
          "sync": false,
          "value": []
         },
         "_downloadImage": {
          "id": "ob_79",
          "sync": false,
          "value": {}
         },
         "_toImage": {
          "id": "ob_78",
          "sync": false,
          "value": {}
         },
         "click": {
          "id": "ob_73",
          "sync": false,
          "value": {}
         },
         "hover": {
          "id": "ob_71",
          "sync": false,
          "value": {}
         },
         "image": {
          "id": "ob_75",
          "sync": true,
          "value": ""
         },
         "relayout": {
          "id": "ob_74",
          "sync": false,
          "value": {}
         },
         "selected": {
          "id": "ob_72",
          "sync": false,
          "value": {}
         }
        },
        "systemjs_options": null
       },
       "nodeType": "Scope",
       "props": {},
       "type": "node"
      },
      "text/html": [
       "<div\n",
       "    class=\"webio-mountpoint\"\n",
       "    data-webio-mountpoint=\"14847027729744051732\"\n",
       ">\n",
       "    <script>\n",
       "    if (window.require && require.defined && require.defined(\"nbextensions/webio-jupyter-notebook\")) {\n",
       "        console.log(\"Jupyter WebIO extension detected, not mounting.\");\n",
       "    } else if (window.WebIO) {\n",
       "        WebIO.mount(\n",
       "            document.querySelector('[data-webio-mountpoint=\"14847027729744051732\"]'),\n",
       "            {\"props\":{},\"nodeType\":\"Scope\",\"type\":\"node\",\"instanceArgs\":{\"imports\":{\"data\":[{\"name\":\"Plotly\",\"type\":\"js\",\"url\":\"\\/assetserver\\/9147360d5c3613700b42fe357486d9f33f779d9b-plotly-latest.min.js\"},{\"name\":null,\"type\":\"js\",\"url\":\"\\/assetserver\\/9f6ebd16eafa02aacf860d0fd74c255df175511a-plotly_webio.bundle.js\"}],\"type\":\"async_block\"},\"id\":\"7970841067398177352\",\"handlers\":{\"_toImage\":[\"(function (options){return this.Plotly.toImage(this.plotElem,options).then((function (data){return WebIO.setval({\\\"name\\\":\\\"image\\\",\\\"scope\\\":\\\"7970841067398177352\\\",\\\"id\\\":\\\"ob_75\\\",\\\"type\\\":\\\"observable\\\"},data)}))})\"],\"__get_gd_contents\":[\"(function (prop){prop==\\\"data\\\" ? (WebIO.setval({\\\"name\\\":\\\"__gd_contents\\\",\\\"scope\\\":\\\"7970841067398177352\\\",\\\"id\\\":\\\"ob_76\\\",\\\"type\\\":\\\"observable\\\"},this.plotElem.data)) : undefined; return prop==\\\"layout\\\" ? (WebIO.setval({\\\"name\\\":\\\"__gd_contents\\\",\\\"scope\\\":\\\"7970841067398177352\\\",\\\"id\\\":\\\"ob_76\\\",\\\"type\\\":\\\"observable\\\"},this.plotElem.layout)) : undefined})\"],\"_downloadImage\":[\"(function (options){return this.Plotly.downloadImage(this.plotElem,options)})\"],\"_commands\":[\"(function (args){var fn=args.shift(); var elem=this.plotElem; var Plotly=this.Plotly; args.unshift(elem); return Plotly[fn].apply(this,args)})\"]},\"systemjs_options\":null,\"mount_callbacks\":[\"function () {\\n    var handler = ((function (Plotly,PlotlyWebIO){PlotlyWebIO.init(WebIO); var gd=this.dom.querySelector(\\\"#plot-48fda07c-4f71-4e09-8e0b-3d0ea9c4be14\\\"); this.plotElem=gd; this.Plotly=Plotly; (window.Blink!==undefined) ? (gd.style.width=\\\"100%\\\", gd.style.height=\\\"100vh\\\", gd.style.marginLeft=\\\"0%\\\", gd.style.marginTop=\\\"0vh\\\") : undefined; window.onresize=(function (){return Plotly.Plots.resize(gd)}); Plotly.newPlot(gd,[{\\\"showlegend\\\":false,\\\"mode\\\":\\\"lines\\\",\\\"line\\\":{\\\"color\\\":\\\"#66BAE7\\\",\\\"width\\\":2},\\\"y\\\":[99,99],\\\"type\\\":\\\"scatter\\\",\\\"x\\\":[0.4064585098188715,0.42804653076601223]},{\\\"showlegend\\\":false,\\\"mode\\\":\\\"lines\\\",\\\"line\\\":{\\\"color\\\":\\\"#66BAE7\\\",\\\"width\\\":2},\\\"y\\\":[98,98],\\\"type\\\":\\\"scatter\\\",\\\"x\\\":[0.39516624998668404,0.4639865218802888]},{\\\"showlegend\\\":false,\\\"mode\\\":\\\"lines\\\",\\\"line\\\":{\\\"color\\\":\\\"#66BAE7\\\",\\\"width\\\":2},\\\"y\\\":[97,97],\\\"type\\\":\\\"scatter\\\",\\\"x\\\":[0.37351339494611996,0.37710105917041037]},{\\\"showlegend\\\":false,\\\"mode\\\":\\\"lines\\\",\\\"line\\\":{\\\"color\\\":\\\"#66BAE7\\\",\\\"width\\\":2},\\\"y\\\":[96,96],\\\"type\\\":\\\"scatter\\\",\\\"x\\\":[0.3261859345237982,0.3949219438958313]},{\\\"showlegend\\\":false,\\\"mode\\\":\\\"lines\\\",\\\"line\\\":{\\\"color\\\":\\\"#66BAE7\\\",\\\"width\\\":2},\\\"y\\\":[95,95],\\\"type\\\":\\\"scatter\\\",\\\"x\\\":[0.310313099930035,0.3200374379996857]},{\\\"showlegend\\\":false,\\\"mode\\\":\\\"lines\\\",\\\"line\\\":{\\\"color\\\":\\\"#66BAE7\\\",\\\"width\\\":2},\\\"y\\\":[94,94],\\\"type\\\":\\\"scatter\\\",\\\"x\\\":[0.3059523734066927,0.3062860537408486]},{\\\"showlegend\\\":false,\\\"mode\\\":\\\"lines\\\",\\\"line\\\":{\\\"color\\\":\\\"#66BAE7\\\",\\\"width\\\":2},\\\"y\\\":[93,93],\\\"type\\\":\\\"scatter\\\",\\\"x\\\":[0.3003911275200868,0.3362903057573633]},{\\\"showlegend\\\":false,\\\"mode\\\":\\\"lines\\\",\\\"line\\\":{\\\"color\\\":\\\"#66BAE7\\\",\\\"width\\\":2},\\\"y\\\":[92,92],\\\"type\\\":\\\"scatter\\\",\\\"x\\\":[0.2999445561033727,0.3085568047023249]},{\\\"showlegend\\\":false,\\\"mode\\\":\\\"lines\\\",\\\"line\\\":{\\\"color\\\":\\\"#66BAE7\\\",\\\"width\\\":2},\\\"y\\\":[91,91],\\\"type\\\":\\\"scatter\\\",\\\"x\\\":[0.29553472690381793,0.3949219438958313]},{\\\"showlegend\\\":false,\\\"mode\\\":\\\"lines\\\",\\\"line\\\":{\\\"color\\\":\\\"#66BAE7\\\",\\\"width\\\":2},\\\"y\\\":[90,90],\\\"type\\\":\\\"scatter\\\",\\\"x\\\":[0.29477933495395087,0.3254477002499193]},{\\\"showlegend\\\":false,\\\"mode\\\":\\\"lines\\\",\\\"line\\\":{\\\"color\\\":\\\"#66BAE7\\\",\\\"width\\\":2},\\\"y\\\":[89,89],\\\"type\\\":\\\"scatter\\\",\\\"x\\\":[0.29039649956585395,0.34745558736638693]},{\\\"showlegend\\\":false,\\\"mode\\\":\\\"lines\\\",\\\"line\\\":{\\\"color\\\":\\\"#66BAE7\\\",\\\"width\\\":2},\\\"y\\\":[88,88],\\\"type\\\":\\\"scatter\\\",\\\"x\\\":[0.28848476952541424,0.2933376584373944]},{\\\"showlegend\\\":false,\\\"mode\\\":\\\"lines\\\",\\\"line\\\":{\\\"color\\\":\\\"#66BAE7\\\",\\\"width\\\":2},\\\"y\\\":[87,87],\\\"type\\\":\\\"scatter\\\",\\\"x\\\":[0.2837294425280483,0.3739367195090774]},{\\\"showlegend\\\":false,\\\"mode\\\":\\\"lines\\\",\\\"line\\\":{\\\"color\\\":\\\"#66BAE7\\\",\\\"width\\\":2},\\\"y\\\":[86,86],\\\"type\\\":\\\"scatter\\\",\\\"x\\\":[0.28204073147118536,0.28501831927427096]},{\\\"showlegend\\\":false,\\\"mode\\\":\\\"lines\\\",\\\"line\\\":{\\\"color\\\":\\\"#66BAE7\\\",\\\"width\\\":2},\\\"y\\\":[85,85],\\\"type\\\":\\\"scatter\\\",\\\"x\\\":[0.2818231929498793,0.2881851347748858]},{\\\"showlegend\\\":false,\\\"mode\\\":\\\"lines\\\",\\\"line\\\":{\\\"color\\\":\\\"#66BAE7\\\",\\\"width\\\":2},\\\"y\\\":[84,84],\\\"type\\\":\\\"scatter\\\",\\\"x\\\":[0.27887829588921603,0.2915535696238633]},{\\\"showlegend\\\":false,\\\"mode\\\":\\\"lines\\\",\\\"line\\\":{\\\"color\\\":\\\"#66BAE7\\\",\\\"width\\\":2},\\\"y\\\":[83,83],\\\"type\\\":\\\"scatter\\\",\\\"x\\\":[0.27661135802132425,0.3362903057573633]},{\\\"showlegend\\\":false,\\\"mode\\\":\\\"lines\\\",\\\"line\\\":{\\\"color\\\":\\\"#66BAE7\\\",\\\"width\\\":2},\\\"y\\\":[82,82],\\\"type\\\":\\\"scatter\\\",\\\"x\\\":[0.2734786951636914,0.29675810675630937]},{\\\"showlegend\\\":false,\\\"mode\\\":\\\"lines\\\",\\\"line\\\":{\\\"color\\\":\\\"#66BAE7\\\",\\\"width\\\":2},\\\"y\\\":[81,81],\\\"type\\\":\\\"scatter\\\",\\\"x\\\":[0.27052491286470204,0.33012976524801607]},{\\\"showlegend\\\":false,\\\"mode\\\":\\\"lines\\\",\\\"line\\\":{\\\"color\\\":\\\"#66BAE7\\\",\\\"width\\\":2},\\\"y\\\":[80,80],\\\"type\\\":\\\"scatter\\\",\\\"x\\\":[0.2673077342738541,0.27797940313473973]},{\\\"showlegend\\\":false,\\\"mode\\\":\\\"lines\\\",\\\"line\\\":{\\\"color\\\":\\\"#66BAE7\\\",\\\"width\\\":2},\\\"y\\\":[79,79],\\\"type\\\":\\\"scatter\\\",\\\"x\\\":[0.2669729308002764,0.3034987541976379]},{\\\"showlegend\\\":false,\\\"mode\\\":\\\"lines\\\",\\\"line\\\":{\\\"color\\\":\\\"#66BAE7\\\",\\\"width\\\":2},\\\"y\\\":[78,78],\\\"type\\\":\\\"scatter\\\",\\\"x\\\":[0.26426902552265025,0.3315461895518827]},{\\\"showlegend\\\":false,\\\"mode\\\":\\\"lines\\\",\\\"line\\\":{\\\"color\\\":\\\"#66BAE7\\\",\\\"width\\\":2},\\\"y\\\":[77,77],\\\"type\\\":\\\"scatter\\\",\\\"x\\\":[0.2608426071094277,0.30452946091476546]},{\\\"showlegend\\\":false,\\\"mode\\\":\\\"lines\\\",\\\"line\\\":{\\\"color\\\":\\\"#66BAE7\\\",\\\"width\\\":2},\\\"y\\\":[76,76],\\\"type\\\":\\\"scatter\\\",\\\"x\\\":[0.26044638878425147,0.3342107579930424]},{\\\"showlegend\\\":false,\\\"mode\\\":\\\"lines\\\",\\\"line\\\":{\\\"color\\\":\\\"#66BAE7\\\",\\\"width\\\":2},\\\"y\\\":[75,75],\\\"type\\\":\\\"scatter\\\",\\\"x\\\":[0.2595630453064864,0.3488289213894728]},{\\\"showlegend\\\":false,\\\"mode\\\":\\\"lines\\\",\\\"line\\\":{\\\"color\\\":\\\"#66BAE7\\\",\\\"width\\\":2},\\\"y\\\":[74,74],\\\"type\\\":\\\"scatter\\\",\\\"x\\\":[0.25606343711253465,0.3036847518705432]},{\\\"showlegend\\\":false,\\\"mode\\\":\\\"lines\\\",\\\"line\\\":{\\\"color\\\":\\\"#66BAE7\\\",\\\"width\\\":2},\\\"y\\\":[73,73],\\\"type\\\":\\\"scatter\\\",\\\"x\\\":[0.2543595296930911,0.25921208016702757]},{\\\"showlegend\\\":false,\\\"mode\\\":\\\"lines\\\",\\\"line\\\":{\\\"color\\\":\\\"#66BAE7\\\",\\\"width\\\":2},\\\"y\\\":[72,72],\\\"type\\\":\\\"scatter\\\",\\\"x\\\":[0.25314792416137194,0.27109522106756356]},{\\\"showlegend\\\":false,\\\"mode\\\":\\\"lines\\\",\\\"line\\\":{\\\"color\\\":\\\"#66BAE7\\\",\\\"width\\\":2},\\\"y\\\":[71,71],\\\"type\\\":\\\"scatter\\\",\\\"x\\\":[0.252646374642586,0.34745558736638693]},{\\\"showlegend\\\":false,\\\"mode\\\":\\\"lines\\\",\\\"line\\\":{\\\"color\\\":\\\"#66BAE7\\\",\\\"width\\\":2},\\\"y\\\":[70,70],\\\"type\\\":\\\"scatter\\\",\\\"x\\\":[0.24621034298459799,0.3862106438015092]},{\\\"showlegend\\\":false,\\\"mode\\\":\\\"lines\\\",\\\"line\\\":{\\\"color\\\":\\\"#66BAE7\\\",\\\"width\\\":2},\\\"y\\\":[69,69],\\\"type\\\":\\\"scatter\\\",\\\"x\\\":[0.2451972545976352,0.33704074670055106]},{\\\"showlegend\\\":false,\\\"mode\\\":\\\"lines\\\",\\\"line\\\":{\\\"color\\\":\\\"#66BAE7\\\",\\\"width\\\":2},\\\"y\\\":[68,68],\\\"type\\\":\\\"scatter\\\",\\\"x\\\":[0.2407149723575911,0.265722379928685]},{\\\"showlegend\\\":false,\\\"mode\\\":\\\"lines\\\",\\\"line\\\":{\\\"color\\\":\\\"#66BAE7\\\",\\\"width\\\":2},\\\"y\\\":[67,67],\\\"type\\\":\\\"scatter\\\",\\\"x\\\":[0.2404744563719117,0.3180985096173861]},{\\\"showlegend\\\":false,\\\"mode\\\":\\\"lines\\\",\\\"line\\\":{\\\"color\\\":\\\"#66BAE7\\\",\\\"width\\\":2},\\\"y\\\":[66,66],\\\"type\\\":\\\"scatter\\\",\\\"x\\\":[0.23985571381256535,0.4197854793959449]},{\\\"showlegend\\\":false,\\\"mode\\\":\\\"lines\\\",\\\"line\\\":{\\\"color\\\":\\\"#66BAE7\\\",\\\"width\\\":2},\\\"y\\\":[65,65],\\\"type\\\":\\\"scatter\\\",\\\"x\\\":[0.23504784592630437,0.2881851347748858]},{\\\"showlegend\\\":false,\\\"mode\\\":\\\"lines\\\",\\\"line\\\":{\\\"color\\\":\\\"#66BAE7\\\",\\\"width\\\":2},\\\"y\\\":[64,64],\\\"type\\\":\\\"scatter\\\",\\\"x\\\":[0.23467090131300436,0.27784428928424576]},{\\\"showlegend\\\":false,\\\"mode\\\":\\\"lines\\\",\\\"line\\\":{\\\"color\\\":\\\"#66BAE7\\\",\\\"width\\\":2},\\\"y\\\":[63,63],\\\"type\\\":\\\"scatter\\\",\\\"x\\\":[0.2335206903845484,0.2549823543177838]},{\\\"showlegend\\\":false,\\\"mode\\\":\\\"lines\\\",\\\"line\\\":{\\\"color\\\":\\\"#66BAE7\\\",\\\"width\\\":2},\\\"y\\\":[62,62],\\\"type\\\":\\\"scatter\\\",\\\"x\\\":[0.23218627594303018,0.2881851347748858]},{\\\"showlegend\\\":false,\\\"mode\\\":\\\"lines\\\",\\\"line\\\":{\\\"color\\\":\\\"#66BAE7\\\",\\\"width\\\":2},\\\"y\\\":[61,61],\\\"type\\\":\\\"scatter\\\",\\\"x\\\":[0.2312233730673412,0.3362903057573633]},{\\\"showlegend\\\":false,\\\"mode\\\":\\\"lines\\\",\\\"line\\\":{\\\"color\\\":\\\"#66BAE7\\\",\\\"width\\\":2},\\\"y\\\":[60,60],\\\"type\\\":\\\"scatter\\\",\\\"x\\\":[0.23121108438775653,0.35317054140720355]},{\\\"showlegend\\\":false,\\\"mode\\\":\\\"lines\\\",\\\"line\\\":{\\\"color\\\":\\\"#66BAE7\\\",\\\"width\\\":2},\\\"y\\\":[59,59],\\\"type\\\":\\\"scatter\\\",\\\"x\\\":[0.22863373825153202,0.26078523837019024]},{\\\"showlegend\\\":false,\\\"mode\\\":\\\"lines\\\",\\\"line\\\":{\\\"color\\\":\\\"#66BAE7\\\",\\\"width\\\":2},\\\"y\\\":[58,58],\\\"type\\\":\\\"scatter\\\",\\\"x\\\":[0.22755985753806762,0.2836279195080164]},{\\\"showlegend\\\":false,\\\"mode\\\":\\\"lines\\\",\\\"line\\\":{\\\"color\\\":\\\"#66BAE7\\\",\\\"width\\\":2},\\\"y\\\":[57,57],\\\"type\\\":\\\"scatter\\\",\\\"x\\\":[0.22711105304428467,0.30452946091476546]},{\\\"showlegend\\\":false,\\\"mode\\\":\\\"lines\\\",\\\"line\\\":{\\\"color\\\":\\\"#66BAE7\\\",\\\"width\\\":2},\\\"y\\\":[56,56],\\\"type\\\":\\\"scatter\\\",\\\"x\\\":[0.22507586466748672,0.266622051569708]},{\\\"showlegend\\\":false,\\\"mode\\\":\\\"lines\\\",\\\"line\\\":{\\\"color\\\":\\\"#66BAE7\\\",\\\"width\\\":2},\\\"y\\\":[55,55],\\\"type\\\":\\\"scatter\\\",\\\"x\\\":[0.223412014435871,0.3324985940963028]},{\\\"showlegend\\\":false,\\\"mode\\\":\\\"lines\\\",\\\"line\\\":{\\\"color\\\":\\\"#66BAE7\\\",\\\"width\\\":2},\\\"y\\\":[54,54],\\\"type\\\":\\\"scatter\\\",\\\"x\\\":[0.22271553127667862,0.3062860537408486]},{\\\"showlegend\\\":false,\\\"mode\\\":\\\"lines\\\",\\\"line\\\":{\\\"color\\\":\\\"#66BAE7\\\",\\\"width\\\":2},\\\"y\\\":[53,53],\\\"type\\\":\\\"scatter\\\",\\\"x\\\":[0.22164816745201435,0.28501831927427096]},{\\\"showlegend\\\":false,\\\"mode\\\":\\\"lines\\\",\\\"line\\\":{\\\"color\\\":\\\"#66BAE7\\\",\\\"width\\\":2},\\\"y\\\":[52,52],\\\"type\\\":\\\"scatter\\\",\\\"x\\\":[0.22139616055232017,0.34793528500434273]},{\\\"showlegend\\\":false,\\\"mode\\\":\\\"lines\\\",\\\"line\\\":{\\\"color\\\":\\\"#66BAE7\\\",\\\"width\\\":2},\\\"y\\\":[51,51],\\\"type\\\":\\\"scatter\\\",\\\"x\\\":[0.22118807967999307,0.2608422179555883]},{\\\"showlegend\\\":false,\\\"mode\\\":\\\"lines\\\",\\\"line\\\":{\\\"color\\\":\\\"#66BAE7\\\",\\\"width\\\":2},\\\"y\\\":[50,50],\\\"type\\\":\\\"scatter\\\",\\\"x\\\":[0.21912991934400172,0.2353086016114001]},{\\\"showlegend\\\":false,\\\"mode\\\":\\\"lines\\\",\\\"line\\\":{\\\"color\\\":\\\"#66BAE7\\\",\\\"width\\\":2},\\\"y\\\":[49,49],\\\"type\\\":\\\"scatter\\\",\\\"x\\\":[0.2179766133832852,0.31687383097024896]},{\\\"showlegend\\\":false,\\\"mode\\\":\\\"lines\\\",\\\"line\\\":{\\\"color\\\":\\\"#66BAE7\\\",\\\"width\\\":2},\\\"y\\\":[48,48],\\\"type\\\":\\\"scatter\\\",\\\"x\\\":[0.21624985357777016,0.27005220188892953]},{\\\"showlegend\\\":false,\\\"mode\\\":\\\"lines\\\",\\\"line\\\":{\\\"color\\\":\\\"#66BAE7\\\",\\\"width\\\":2},\\\"y\\\":[47,47],\\\"type\\\":\\\"scatter\\\",\\\"x\\\":[0.21592057402429574,0.2905756550716782]},{\\\"showlegend\\\":false,\\\"mode\\\":\\\"lines\\\",\\\"line\\\":{\\\"color\\\":\\\"#66BAE7\\\",\\\"width\\\":2},\\\"y\\\":[46,46],\\\"type\\\":\\\"scatter\\\",\\\"x\\\":[0.2147991651681139,0.33238369072680785]},{\\\"showlegend\\\":false,\\\"mode\\\":\\\"lines\\\",\\\"line\\\":{\\\"color\\\":\\\"#66BAE7\\\",\\\"width\\\":2},\\\"y\\\":[45,45],\\\"type\\\":\\\"scatter\\\",\\\"x\\\":[0.21345327808015718,0.30463710014746803]},{\\\"showlegend\\\":false,\\\"mode\\\":\\\"lines\\\",\\\"line\\\":{\\\"color\\\":\\\"#66BAE7\\\",\\\"width\\\":2},\\\"y\\\":[44,44],\\\"type\\\":\\\"scatter\\\",\\\"x\\\":[0.2118740894597658,0.28822111221350916]},{\\\"showlegend\\\":false,\\\"mode\\\":\\\"lines\\\",\\\"line\\\":{\\\"color\\\":\\\"#66BAE7\\\",\\\"width\\\":2},\\\"y\\\":[43,43],\\\"type\\\":\\\"scatter\\\",\\\"x\\\":[0.21177922276679387,0.23312215349722143]},{\\\"showlegend\\\":false,\\\"mode\\\":\\\"lines\\\",\\\"line\\\":{\\\"color\\\":\\\"#66BAE7\\\",\\\"width\\\":2},\\\"y\\\":[42,42],\\\"type\\\":\\\"scatter\\\",\\\"x\\\":[0.21131846413417085,0.3287104967012411]},{\\\"showlegend\\\":false,\\\"mode\\\":\\\"lines\\\",\\\"line\\\":{\\\"color\\\":\\\"#66BAE7\\\",\\\"width\\\":2},\\\"y\\\":[41,41],\\\"type\\\":\\\"scatter\\\",\\\"x\\\":[0.21110687032033904,0.28822111221350916]},{\\\"showlegend\\\":false,\\\"mode\\\":\\\"lines\\\",\\\"line\\\":{\\\"color\\\":\\\"#66BAE7\\\",\\\"width\\\":2},\\\"y\\\":[40,40],\\\"type\\\":\\\"scatter\\\",\\\"x\\\":[0.21032294148941733,0.3618763218508374]},{\\\"showlegend\\\":false,\\\"mode\\\":\\\"lines\\\",\\\"line\\\":{\\\"color\\\":\\\"#66BAE7\\\",\\\"width\\\":2},\\\"y\\\":[39,39],\\\"type\\\":\\\"scatter\\\",\\\"x\\\":[0.21022128062123732,0.36054975643195536]},{\\\"showlegend\\\":false,\\\"mode\\\":\\\"lines\\\",\\\"line\\\":{\\\"color\\\":\\\"#66BAE7\\\",\\\"width\\\":2},\\\"y\\\":[38,38],\\\"type\\\":\\\"scatter\\\",\\\"x\\\":[0.20908253407588498,0.34082711078191724]},{\\\"showlegend\\\":false,\\\"mode\\\":\\\"lines\\\",\\\"line\\\":{\\\"color\\\":\\\"#66BAE7\\\",\\\"width\\\":2},\\\"y\\\":[37,37],\\\"type\\\":\\\"scatter\\\",\\\"x\\\":[0.208693691149943,0.2933376584373944]},{\\\"showlegend\\\":false,\\\"mode\\\":\\\"lines\\\",\\\"line\\\":{\\\"color\\\":\\\"#66BAE7\\\",\\\"width\\\":2},\\\"y\\\":[36,36],\\\"type\\\":\\\"scatter\\\",\\\"x\\\":[0.20710338386747024,0.3034987541976379]},{\\\"showlegend\\\":false,\\\"mode\\\":\\\"lines\\\",\\\"line\\\":{\\\"color\\\":\\\"#66BAE7\\\",\\\"width\\\":2},\\\"y\\\":[35,35],\\\"type\\\":\\\"scatter\\\",\\\"x\\\":[0.2057690355100403,0.3036847518705432]},{\\\"showlegend\\\":false,\\\"mode\\\":\\\"lines\\\",\\\"line\\\":{\\\"color\\\":\\\"#66BAE7\\\",\\\"width\\\":2},\\\"y\\\":[34,34],\\\"type\\\":\\\"scatter\\\",\\\"x\\\":[0.2052069070240202,0.33436624899437967]},{\\\"showlegend\\\":false,\\\"mode\\\":\\\"lines\\\",\\\"line\\\":{\\\"color\\\":\\\"#66BAE7\\\",\\\"width\\\":2},\\\"y\\\":[33,33],\\\"type\\\":\\\"scatter\\\",\\\"x\\\":[0.20354388306225504,0.30452946091476546]},{\\\"showlegend\\\":false,\\\"mode\\\":\\\"lines\\\",\\\"line\\\":{\\\"color\\\":\\\"#66BAE7\\\",\\\"width\\\":2},\\\"y\\\":[32,32],\\\"type\\\":\\\"scatter\\\",\\\"x\\\":[0.20327583463726492,0.334166446139104]},{\\\"showlegend\\\":false,\\\"mode\\\":\\\"lines\\\",\\\"line\\\":{\\\"color\\\":\\\"#66BAE7\\\",\\\"width\\\":2},\\\"y\\\":[31,31],\\\"type\\\":\\\"scatter\\\",\\\"x\\\":[0.20221464720021487,0.3036847518705432]},{\\\"showlegend\\\":false,\\\"mode\\\":\\\"lines\\\",\\\"line\\\":{\\\"color\\\":\\\"#66BAE7\\\",\\\"width\\\":2},\\\"y\\\":[30,30],\\\"type\\\":\\\"scatter\\\",\\\"x\\\":[0.20132069977610587,0.29675810675630937]},{\\\"showlegend\\\":false,\\\"mode\\\":\\\"lines\\\",\\\"line\\\":{\\\"color\\\":\\\"#66BAE7\\\",\\\"width\\\":2},\\\"y\\\":[29,29],\\\"type\\\":\\\"scatter\\\",\\\"x\\\":[0.20030455167340047,0.30387806635812636]},{\\\"showlegend\\\":false,\\\"mode\\\":\\\"lines\\\",\\\"line\\\":{\\\"color\\\":\\\"#66BAE7\\\",\\\"width\\\":2},\\\"y\\\":[28,28],\\\"type\\\":\\\"scatter\\\",\\\"x\\\":[0.1967808805940602,0.29626118367411125]},{\\\"showlegend\\\":false,\\\"mode\\\":\\\"lines\\\",\\\"line\\\":{\\\"color\\\":\\\"#66BAE7\\\",\\\"width\\\":2},\\\"y\\\":[27,27],\\\"type\\\":\\\"scatter\\\",\\\"x\\\":[0.19600336800888568,0.30716182463541913]},{\\\"showlegend\\\":false,\\\"mode\\\":\\\"lines\\\",\\\"line\\\":{\\\"color\\\":\\\"#66BAE7\\\",\\\"width\\\":2},\\\"y\\\":[26,26],\\\"type\\\":\\\"scatter\\\",\\\"x\\\":[0.19589883398871705,0.3338814265981299]},{\\\"showlegend\\\":false,\\\"mode\\\":\\\"lines\\\",\\\"line\\\":{\\\"color\\\":\\\"#66BAE7\\\",\\\"width\\\":2},\\\"y\\\":[25,25],\\\"type\\\":\\\"scatter\\\",\\\"x\\\":[0.1955006030244696,0.30452946091476546]},{\\\"showlegend\\\":false,\\\"mode\\\":\\\"lines\\\",\\\"line\\\":{\\\"color\\\":\\\"#66BAE7\\\",\\\"width\\\":2},\\\"y\\\":[24,24],\\\"type\\\":\\\"scatter\\\",\\\"x\\\":[0.19470104448347939,0.265722379928685]},{\\\"showlegend\\\":false,\\\"mode\\\":\\\"lines\\\",\\\"line\\\":{\\\"color\\\":\\\"#66BAE7\\\",\\\"width\\\":2},\\\"y\\\":[23,23],\\\"type\\\":\\\"scatter\\\",\\\"x\\\":[0.19274974071370568,0.3287104967012411]},{\\\"showlegend\\\":false,\\\"mode\\\":\\\"lines\\\",\\\"line\\\":{\\\"color\\\":\\\"#66BAE7\\\",\\\"width\\\":2},\\\"y\\\":[22,22],\\\"type\\\":\\\"scatter\\\",\\\"x\\\":[0.19233187294393006,0.27109522106756356]},{\\\"showlegend\\\":false,\\\"mode\\\":\\\"lines\\\",\\\"line\\\":{\\\"color\\\":\\\"#66BAE7\\\",\\\"width\\\":2},\\\"y\\\":[21,21],\\\"type\\\":\\\"scatter\\\",\\\"x\\\":[0.19132223029651024,0.2608422179555883]},{\\\"showlegend\\\":false,\\\"mode\\\":\\\"lines\\\",\\\"line\\\":{\\\"color\\\":\\\"#66BAE7\\\",\\\"width\\\":2},\\\"y\\\":[20,20],\\\"type\\\":\\\"scatter\\\",\\\"x\\\":[0.18997692494968632,0.3716518879664195]},{\\\"showlegend\\\":false,\\\"mode\\\":\\\"lines\\\",\\\"line\\\":{\\\"color\\\":\\\"#66BAE7\\\",\\\"width\\\":2},\\\"y\\\":[19,19],\\\"type\\\":\\\"scatter\\\",\\\"x\\\":[0.18959654638028642,0.30452946091476546]},{\\\"showlegend\\\":false,\\\"mode\\\":\\\"lines\\\",\\\"line\\\":{\\\"color\\\":\\\"#66BAE7\\\",\\\"width\\\":2},\\\"y\\\":[18,18],\\\"type\\\":\\\"scatter\\\",\\\"x\\\":[0.18699304805269495,0.35728895723063697]},{\\\"showlegend\\\":false,\\\"mode\\\":\\\"lines\\\",\\\"line\\\":{\\\"color\\\":\\\"#66BAE7\\\",\\\"width\\\":2},\\\"y\\\":[17,17],\\\"type\\\":\\\"scatter\\\",\\\"x\\\":[0.1853871882370274,0.3121613412869426]},{\\\"showlegend\\\":false,\\\"mode\\\":\\\"lines\\\",\\\"line\\\":{\\\"color\\\":\\\"#66BAE7\\\",\\\"width\\\":2},\\\"y\\\":[16,16],\\\"type\\\":\\\"scatter\\\",\\\"x\\\":[0.1850976018720822,0.35317054140720355]},{\\\"showlegend\\\":false,\\\"mode\\\":\\\"lines\\\",\\\"line\\\":{\\\"color\\\":\\\"#66BAE7\\\",\\\"width\\\":2},\\\"y\\\":[15,15],\\\"type\\\":\\\"scatter\\\",\\\"x\\\":[0.18312116468995968,0.4107087360216066]},{\\\"showlegend\\\":false,\\\"mode\\\":\\\"lines\\\",\\\"line\\\":{\\\"color\\\":\\\"#66BAE7\\\",\\\"width\\\":2},\\\"y\\\":[14,14],\\\"type\\\":\\\"scatter\\\",\\\"x\\\":[0.1816943942722585,0.3551559097618945]},{\\\"showlegend\\\":false,\\\"mode\\\":\\\"lines\\\",\\\"line\\\":{\\\"color\\\":\\\"#66BAE7\\\",\\\"width\\\":2},\\\"y\\\":[13,13],\\\"type\\\":\\\"scatter\\\",\\\"x\\\":[0.18035353840920848,0.2836279195080164]},{\\\"showlegend\\\":false,\\\"mode\\\":\\\"lines\\\",\\\"line\\\":{\\\"color\\\":\\\"#66BAE7\\\",\\\"width\\\":2},\\\"y\\\":[12,12],\\\"type\\\":\\\"scatter\\\",\\\"x\\\":[0.17740735386462209,0.35230836852052766]},{\\\"showlegend\\\":false,\\\"mode\\\":\\\"lines\\\",\\\"line\\\":{\\\"color\\\":\\\"#66BAE7\\\",\\\"width\\\":2},\\\"y\\\":[11,11],\\\"type\\\":\\\"scatter\\\",\\\"x\\\":[0.17685967174666256,0.3338814265981299]},{\\\"showlegend\\\":false,\\\"mode\\\":\\\"lines\\\",\\\"line\\\":{\\\"color\\\":\\\"#66BAE7\\\",\\\"width\\\":2},\\\"y\\\":[10,10],\\\"type\\\":\\\"scatter\\\",\\\"x\\\":[0.17425455510593968,0.36054975643195536]},{\\\"showlegend\\\":false,\\\"mode\\\":\\\"lines\\\",\\\"line\\\":{\\\"color\\\":\\\"#66BAE7\\\",\\\"width\\\":2},\\\"y\\\":[9,9],\\\"type\\\":\\\"scatter\\\",\\\"x\\\":[0.17296322819592178,0.3469196559023133]},{\\\"showlegend\\\":false,\\\"mode\\\":\\\"lines\\\",\\\"line\\\":{\\\"color\\\":\\\"#66BAE7\\\",\\\"width\\\":2},\\\"y\\\":[8,8],\\\"type\\\":\\\"scatter\\\",\\\"x\\\":[0.16873558438498917,0.34793528500434273]},{\\\"showlegend\\\":false,\\\"mode\\\":\\\"lines\\\",\\\"line\\\":{\\\"color\\\":\\\"#66BAE7\\\",\\\"width\\\":2},\\\"y\\\":[7,7],\\\"type\\\":\\\"scatter\\\",\\\"x\\\":[0.16664687820709598,0.33238369072680785]},{\\\"showlegend\\\":false,\\\"mode\\\":\\\"lines\\\",\\\"line\\\":{\\\"color\\\":\\\"#66BAE7\\\",\\\"width\\\":2},\\\"y\\\":[6,6],\\\"type\\\":\\\"scatter\\\",\\\"x\\\":[0.1627320069896045,0.3551559097618945]},{\\\"showlegend\\\":false,\\\"mode\\\":\\\"lines\\\",\\\"line\\\":{\\\"color\\\":\\\"#66BAE7\\\",\\\"width\\\":2},\\\"y\\\":[5,5],\\\"type\\\":\\\"scatter\\\",\\\"x\\\":[0.1616185294180327,0.28501831927427096]},{\\\"showlegend\\\":false,\\\"mode\\\":\\\"lines\\\",\\\"line\\\":{\\\"color\\\":\\\"#66BAE7\\\",\\\"width\\\":2},\\\"y\\\":[4,4],\\\"type\\\":\\\"scatter\\\",\\\"x\\\":[0.15612156551728593,0.31687383097024896]},{\\\"showlegend\\\":false,\\\"mode\\\":\\\"lines\\\",\\\"line\\\":{\\\"color\\\":\\\"#66BAE7\\\",\\\"width\\\":2},\\\"y\\\":[3,3],\\\"type\\\":\\\"scatter\\\",\\\"x\\\":[0.15233935177509542,0.30387806635812636]},{\\\"showlegend\\\":false,\\\"mode\\\":\\\"lines\\\",\\\"line\\\":{\\\"color\\\":\\\"#66BAE7\\\",\\\"width\\\":2},\\\"y\\\":[2,2],\\\"type\\\":\\\"scatter\\\",\\\"x\\\":[0.14759875088150617,0.18371524191004238]},{\\\"mode\\\":\\\"lines\\\",\\\"line\\\":{\\\"color\\\":\\\"#66BAE7\\\",\\\"width\\\":2},\\\"y\\\":[1,1],\\\"type\\\":\\\"scatter\\\",\\\"name\\\":\\\"Dimension 1\\\",\\\"x\\\":[0.14169890611668307,0.31687383097024896]}],{\\\"xaxis\\\":{\\\"showgrid\\\":false,\\\"zeroline\\\":false,\\\"rangevar\\\":[-0.001,0.46498652188028883],\\\"title\\\":\\\"ϵ\\\"},\\\"margin\\\":{\\\"l\\\":50,\\\"b\\\":50,\\\"r\\\":50,\\\"t\\\":60},\\\"yaxis\\\":{\\\"showgrid\\\":false,\\\"rangevar\\\":[0.0,99.1],\\\"ticks\\\":false}},{}); gd.on(\\\"plotly_hover\\\",(function (data){var filtered_data=WebIO.PlotlyCommands.filterEventData(gd,data,\\\"hover\\\"); return !(filtered_data.isnil) ? (WebIO.setval({\\\"name\\\":\\\"hover\\\",\\\"scope\\\":\\\"7970841067398177352\\\",\\\"id\\\":\\\"ob_71\\\",\\\"type\\\":\\\"observable\\\"},filtered_data.out)) : undefined})); gd.on(\\\"plotly_unhover\\\",(function (){return WebIO.setval({\\\"name\\\":\\\"hover\\\",\\\"scope\\\":\\\"7970841067398177352\\\",\\\"id\\\":\\\"ob_71\\\",\\\"type\\\":\\\"observable\\\"},{})})); gd.on(\\\"plotly_selected\\\",(function (data){var filtered_data=WebIO.PlotlyCommands.filterEventData(gd,data,\\\"selected\\\"); return !(filtered_data.isnil) ? (WebIO.setval({\\\"name\\\":\\\"selected\\\",\\\"scope\\\":\\\"7970841067398177352\\\",\\\"id\\\":\\\"ob_72\\\",\\\"type\\\":\\\"observable\\\"},filtered_data.out)) : undefined})); gd.on(\\\"plotly_deselect\\\",(function (){return WebIO.setval({\\\"name\\\":\\\"selected\\\",\\\"scope\\\":\\\"7970841067398177352\\\",\\\"id\\\":\\\"ob_72\\\",\\\"type\\\":\\\"observable\\\"},{})})); gd.on(\\\"plotly_relayout\\\",(function (data){var filtered_data=WebIO.PlotlyCommands.filterEventData(gd,data,\\\"relayout\\\"); return !(filtered_data.isnil) ? (WebIO.setval({\\\"name\\\":\\\"relayout\\\",\\\"scope\\\":\\\"7970841067398177352\\\",\\\"id\\\":\\\"ob_74\\\",\\\"type\\\":\\\"observable\\\"},filtered_data.out)) : undefined})); return gd.on(\\\"plotly_click\\\",(function (data){var filtered_data=WebIO.PlotlyCommands.filterEventData(gd,data,\\\"click\\\"); return !(filtered_data.isnil) ? (WebIO.setval({\\\"name\\\":\\\"click\\\",\\\"scope\\\":\\\"7970841067398177352\\\",\\\"id\\\":\\\"ob_73\\\",\\\"type\\\":\\\"observable\\\"},filtered_data.out)) : undefined}))}));\\n    (WebIO.importBlock({\\\"data\\\":[{\\\"name\\\":\\\"Plotly\\\",\\\"type\\\":\\\"js\\\",\\\"url\\\":\\\"\\/assetserver\\/9147360d5c3613700b42fe357486d9f33f779d9b-plotly-latest.min.js\\\"},{\\\"name\\\":null,\\\"type\\\":\\\"js\\\",\\\"url\\\":\\\"\\/assetserver\\/9f6ebd16eafa02aacf860d0fd74c255df175511a-plotly_webio.bundle.js\\\"}],\\\"type\\\":\\\"async_block\\\"})).then((imports) => handler.apply(this, imports));\\n}\\n\"],\"observables\":{\"_toImage\":{\"sync\":false,\"id\":\"ob_78\",\"value\":{}},\"hover\":{\"sync\":false,\"id\":\"ob_71\",\"value\":{}},\"selected\":{\"sync\":false,\"id\":\"ob_72\",\"value\":{}},\"__gd_contents\":{\"sync\":false,\"id\":\"ob_76\",\"value\":{}},\"click\":{\"sync\":false,\"id\":\"ob_73\",\"value\":{}},\"image\":{\"sync\":true,\"id\":\"ob_75\",\"value\":\"\"},\"__get_gd_contents\":{\"sync\":false,\"id\":\"ob_80\",\"value\":\"\"},\"_downloadImage\":{\"sync\":false,\"id\":\"ob_79\",\"value\":{}},\"relayout\":{\"sync\":false,\"id\":\"ob_74\",\"value\":{}},\"_commands\":{\"sync\":false,\"id\":\"ob_77\",\"value\":[]}}},\"children\":[{\"props\":{\"id\":\"plot-48fda07c-4f71-4e09-8e0b-3d0ea9c4be14\"},\"nodeType\":\"DOM\",\"type\":\"node\",\"instanceArgs\":{\"namespace\":\"html\",\"tag\":\"div\"},\"children\":[]}]},\n",
       "            window,\n",
       "        );\n",
       "    } else {\n",
       "        document\n",
       "            .querySelector('[data-webio-mountpoint=\"14847027729744051732\"]')\n",
       "            .innerHTML = (\n",
       "                '<div style=\"padding: 1em; background-color: #f8d6da; border: 1px solid #f5c6cb\">' +\n",
       "                '<p><strong>WebIO not detected.</strong></p>' +\n",
       "                '<p>Please read ' +\n",
       "                '<a href=\"https://juliagizmos.github.io/WebIO.jl/latest/troubleshooting/not-detected/\" target=\"_blank\">the troubleshooting guide</a> ' +\n",
       "                'for more information on how to resolve this issue.</p>' +\n",
       "                '<p><a href=\"https://juliagizmos.github.io/WebIO.jl/latest/troubleshooting/not-detected/\" target=\"_blank\">https://juliagizmos.github.io/WebIO.jl/latest/troubleshooting/not-detected/</a></p>' +\n",
       "                '</div>'\n",
       "            );\n",
       "    }\n",
       "    </script>\n",
       "</div>\n"
      ],
      "text/plain": [
       "data: [\n",
       "  \"scatter with fields line, mode, showlegend, type, x, and y\",\n",
       "  \"scatter with fields line, mode, showlegend, type, x, and y\",\n",
       "  \"scatter with fields line, mode, showlegend, type, x, and y\",\n",
       "  \"scatter with fields line, mode, showlegend, type, x, and y\",\n",
       "  \"scatter with fields line, mode, showlegend, type, x, and y\",\n",
       "  \"scatter with fields line, mode, showlegend, type, x, and y\",\n",
       "  \"scatter with fields line, mode, showlegend, type, x, and y\",\n",
       "  \"scatter with fields line, mode, showlegend, type, x, and y\",\n",
       "  \"scatter with fields line, mode, showlegend, type, x, and y\",\n",
       "  \"scatter with fields line, mode, showlegend, type, x, and y\",\n",
       "  \"scatter with fields line, mode, showlegend, type, x, and y\",\n",
       "  \"scatter with fields line, mode, showlegend, type, x, and y\",\n",
       "  \"scatter with fields line, mode, showlegend, type, x, and y\",\n",
       "  \"scatter with fields line, mode, showlegend, type, x, and y\",\n",
       "  \"scatter with fields line, mode, showlegend, type, x, and y\",\n",
       "  \"scatter with fields line, mode, showlegend, type, x, and y\",\n",
       "  \"scatter with fields line, mode, showlegend, type, x, and y\",\n",
       "  \"scatter with fields line, mode, showlegend, type, x, and y\",\n",
       "  \"scatter with fields line, mode, showlegend, type, x, and y\",\n",
       "  \"scatter with fields line, mode, showlegend, type, x, and y\",\n",
       "  \"scatter with fields line, mode, showlegend, type, x, and y\",\n",
       "  \"scatter with fields line, mode, showlegend, type, x, and y\",\n",
       "  \"scatter with fields line, mode, showlegend, type, x, and y\",\n",
       "  \"scatter with fields line, mode, showlegend, type, x, and y\",\n",
       "  \"scatter with fields line, mode, showlegend, type, x, and y\",\n",
       "  \"scatter with fields line, mode, showlegend, type, x, and y\",\n",
       "  \"scatter with fields line, mode, showlegend, type, x, and y\",\n",
       "  \"scatter with fields line, mode, showlegend, type, x, and y\",\n",
       "  \"scatter with fields line, mode, showlegend, type, x, and y\",\n",
       "  \"scatter with fields line, mode, showlegend, type, x, and y\",\n",
       "  \"scatter with fields line, mode, showlegend, type, x, and y\",\n",
       "  \"scatter with fields line, mode, showlegend, type, x, and y\",\n",
       "  \"scatter with fields line, mode, showlegend, type, x, and y\",\n",
       "  \"scatter with fields line, mode, showlegend, type, x, and y\",\n",
       "  \"scatter with fields line, mode, showlegend, type, x, and y\",\n",
       "  \"scatter with fields line, mode, showlegend, type, x, and y\",\n",
       "  \"scatter with fields line, mode, showlegend, type, x, and y\",\n",
       "  \"scatter with fields line, mode, showlegend, type, x, and y\",\n",
       "  \"scatter with fields line, mode, showlegend, type, x, and y\",\n",
       "  \"scatter with fields line, mode, showlegend, type, x, and y\",\n",
       "  \"scatter with fields line, mode, showlegend, type, x, and y\",\n",
       "  \"scatter with fields line, mode, showlegend, type, x, and y\",\n",
       "  \"scatter with fields line, mode, showlegend, type, x, and y\",\n",
       "  \"scatter with fields line, mode, showlegend, type, x, and y\",\n",
       "  \"scatter with fields line, mode, showlegend, type, x, and y\",\n",
       "  \"scatter with fields line, mode, showlegend, type, x, and y\",\n",
       "  \"scatter with fields line, mode, showlegend, type, x, and y\",\n",
       "  \"scatter with fields line, mode, showlegend, type, x, and y\",\n",
       "  \"scatter with fields line, mode, showlegend, type, x, and y\",\n",
       "  \"scatter with fields line, mode, showlegend, type, x, and y\",\n",
       "  \"scatter with fields line, mode, showlegend, type, x, and y\",\n",
       "  \"scatter with fields line, mode, showlegend, type, x, and y\",\n",
       "  \"scatter with fields line, mode, showlegend, type, x, and y\",\n",
       "  \"scatter with fields line, mode, showlegend, type, x, and y\",\n",
       "  \"scatter with fields line, mode, showlegend, type, x, and y\",\n",
       "  \"scatter with fields line, mode, showlegend, type, x, and y\",\n",
       "  \"scatter with fields line, mode, showlegend, type, x, and y\",\n",
       "  \"scatter with fields line, mode, showlegend, type, x, and y\",\n",
       "  \"scatter with fields line, mode, showlegend, type, x, and y\",\n",
       "  \"scatter with fields line, mode, showlegend, type, x, and y\",\n",
       "  \"scatter with fields line, mode, showlegend, type, x, and y\",\n",
       "  \"scatter with fields line, mode, showlegend, type, x, and y\",\n",
       "  \"scatter with fields line, mode, showlegend, type, x, and y\",\n",
       "  \"scatter with fields line, mode, showlegend, type, x, and y\",\n",
       "  \"scatter with fields line, mode, showlegend, type, x, and y\",\n",
       "  \"scatter with fields line, mode, showlegend, type, x, and y\",\n",
       "  \"scatter with fields line, mode, showlegend, type, x, and y\",\n",
       "  \"scatter with fields line, mode, showlegend, type, x, and y\",\n",
       "  \"scatter with fields line, mode, showlegend, type, x, and y\",\n",
       "  \"scatter with fields line, mode, showlegend, type, x, and y\",\n",
       "  \"scatter with fields line, mode, showlegend, type, x, and y\",\n",
       "  \"scatter with fields line, mode, showlegend, type, x, and y\",\n",
       "  \"scatter with fields line, mode, showlegend, type, x, and y\",\n",
       "  \"scatter with fields line, mode, showlegend, type, x, and y\",\n",
       "  \"scatter with fields line, mode, showlegend, type, x, and y\",\n",
       "  \"scatter with fields line, mode, showlegend, type, x, and y\",\n",
       "  \"scatter with fields line, mode, showlegend, type, x, and y\",\n",
       "  \"scatter with fields line, mode, showlegend, type, x, and y\",\n",
       "  \"scatter with fields line, mode, showlegend, type, x, and y\",\n",
       "  \"scatter with fields line, mode, showlegend, type, x, and y\",\n",
       "  \"scatter with fields line, mode, showlegend, type, x, and y\",\n",
       "  \"scatter with fields line, mode, showlegend, type, x, and y\",\n",
       "  \"scatter with fields line, mode, showlegend, type, x, and y\",\n",
       "  \"scatter with fields line, mode, showlegend, type, x, and y\",\n",
       "  \"scatter with fields line, mode, showlegend, type, x, and y\",\n",
       "  \"scatter with fields line, mode, showlegend, type, x, and y\",\n",
       "  \"scatter with fields line, mode, showlegend, type, x, and y\",\n",
       "  \"scatter with fields line, mode, showlegend, type, x, and y\",\n",
       "  \"scatter with fields line, mode, showlegend, type, x, and y\",\n",
       "  \"scatter with fields line, mode, showlegend, type, x, and y\",\n",
       "  \"scatter with fields line, mode, showlegend, type, x, and y\",\n",
       "  \"scatter with fields line, mode, showlegend, type, x, and y\",\n",
       "  \"scatter with fields line, mode, showlegend, type, x, and y\",\n",
       "  \"scatter with fields line, mode, showlegend, type, x, and y\",\n",
       "  \"scatter with fields line, mode, showlegend, type, x, and y\",\n",
       "  \"scatter with fields line, mode, showlegend, type, x, and y\",\n",
       "  \"scatter with fields line, mode, showlegend, type, x, and y\",\n",
       "  \"scatter with fields line, mode, showlegend, type, x, and y\",\n",
       "  \"scatter with fields line, mode, name, type, x, and y\"\n",
       "]\n",
       "\n",
       "layout: \"layout with fields margin, xaxis, and yaxis\"\n",
       "\n"
      ]
     },
     "execution_count": 301,
     "metadata": {
      "@webio": {
       "kernelId": "914b7f7b-44c0-4948-802f-4b8404ada8ee"
      },
      "application/vnd.webio.node+json": {
       "kernelId": "f8050880-de38-466a-b171-09888eb35dd4"
      }
     },
     "output_type": "execute_result"
    }
   ],
   "source": [
    "plotbarcode_pjs(C,dim=1)"
   ]
  },
  {
   "cell_type": "code",
   "execution_count": 302,
   "metadata": {
    "Collapsed": "false"
   },
   "outputs": [
    {
     "data": {
      "application/vnd.plotly.v1+json": {
       "data": [
        {
         "line": {
          "width": 1
         },
         "mode": "line",
         "type": "scatter",
         "x": [
          0,
          0.06278539539287954,
          0.06676698182674963,
          0.07365316277955068,
          0.0781049136647394,
          0.08712471885925663,
          0.09333086366375835,
          0.10190287588480612,
          0.10339249079883214,
          0.10929868329687777,
          0.11123671852901408,
          0.11172534001301716,
          0.11389923487862563,
          0.11425847681865718,
          0.12067509319120114,
          0.12102509093403298,
          0.12341536434953272,
          0.12356791016979832,
          0.1258711251618701,
          0.1300516264247043,
          0.1307077711766067,
          0.13074242132984554,
          0.13418681928680287,
          0.13428194309921582,
          0.1375424190399067,
          0.14169890611668307,
          0.147112301339098,
          0.14759875088150617,
          0.15233935177509542,
          0.1525561256324862,
          0.15306757698737977,
          0.1548605037719847,
          0.15582714653475707,
          0.15612156551728593,
          0.15672873668095666,
          0.1615222355878127,
          0.1616185294180327,
          0.1627320069896045,
          0.16664687820709598,
          0.16873558438498917,
          0.16966875195393544,
          0.1725442492909793,
          0.17296322819592178,
          0.17342510756948054,
          0.17425455510593968,
          0.17685967174666256,
          0.17740735386462209,
          0.18035353840920848,
          0.1816943942722585,
          0.18227366564303388,
          0.18312116468995968,
          0.18371524191004238,
          0.18464767696740622,
          0.1850976018720822,
          0.1853871882370274,
          0.18699304805269495,
          0.18959654638028642,
          0.18997692494968632,
          0.19018194066547553,
          0.19132223029651024,
          0.19174004703515832,
          0.19233187294393006,
          0.19274974071370568,
          0.19422333852179435,
          0.19470104448347939,
          0.1955006030244696,
          0.19570994481807755,
          0.19589883398871705,
          0.19600336800888568,
          0.1967808805940602,
          0.1987775089531553,
          0.20030455167340047,
          0.20132069977610587,
          0.20221464720021487,
          0.20327583463726492,
          0.20354388306225504,
          0.2052069070240202,
          0.2057690355100403,
          0.20710338386747024,
          0.2077559887804764,
          0.20805532694823103,
          0.208693691149943,
          0.20908253407588498,
          0.21022128062123732,
          0.21032294148941733,
          0.21110687032033904,
          0.21131846413417085,
          0.21177922276679387,
          0.2118740894597658,
          0.21345327808015718,
          0.2147991651681139,
          0.21521016272528423,
          0.21592057402429574,
          0.21624985357777016,
          0.2179766133832852,
          0.21912991934400172,
          0.22118807967999307,
          0.22139616055232017,
          0.22164816745201435,
          0.22271553127667862,
          0.223412014435871,
          0.22507586466748672,
          0.22615484614991435,
          0.22711105304428467,
          0.22755985753806762,
          0.22863373825153202,
          0.22918801774192593,
          0.23121108438775653,
          0.2312233730673412,
          0.2316040371847426,
          0.23218627594303018,
          0.23312215349722143,
          0.2335206903845484,
          0.23467090131300436,
          0.23504784592630437,
          0.2352661627429596,
          0.2353086016114001,
          0.23985571381256535,
          0.2404744563719117,
          0.2407149723575911,
          0.24140881125481511,
          0.2451972545976352,
          0.24554934361753855,
          0.24621034298459799,
          0.2471794021249802,
          0.24782154179367383,
          0.252646374642586,
          0.252897147283524,
          0.2530490173025561,
          0.25314792416137194,
          0.2539489333952898,
          0.2543595296930911,
          0.2549823543177838,
          0.25606343711253465,
          0.25825142672927104,
          0.25842510823673925,
          0.25921208016702757,
          0.2595630453064864,
          0.26044638878425147,
          0.260714653037456,
          0.26078523837019024,
          0.2608422179555883,
          0.2608426071094277,
          0.26426902552265025,
          0.2643394889412783,
          0.26455546395563884,
          0.26462302364762996,
          0.2646284156601731,
          0.265722379928685,
          0.26587920716207336,
          0.266622051569708,
          0.2669729308002764,
          0.2673077342738541,
          0.2677804712786809,
          0.26962751972592003,
          0.27005220188892953,
          0.27052491286470204,
          0.2706581988277201,
          0.27109522106756356,
          0.27318421129774917,
          0.2734786951636914,
          0.27661135802132425,
          0.2769015754584217,
          0.27759479790318364,
          0.27763353305492483,
          0.27784428928424576,
          0.27797940313473973,
          0.27860682650321333,
          0.27887829588921603,
          0.2818231929498793,
          0.28204073147118536,
          0.2829653297924699,
          0.2836279195080164,
          0.2837294425280483,
          0.2839652923995466,
          0.28429621125582294,
          0.28501831927427096,
          0.2870522774247145,
          0.2881851347748858,
          0.28822111221350916,
          0.28848476952541424,
          0.2886839065300352,
          0.29039649956585395,
          0.2905756550716782,
          0.2915535696238633,
          0.2933376584373944,
          0.2939339982531269,
          0.29477933495395087,
          0.29553472690381793,
          0.29626118367411125,
          0.29675810675630937,
          0.2984744327129217,
          0.2999445561033727,
          0.3003911275200868,
          0.30134924499120175,
          0.301456516389715,
          0.3034987541976379,
          0.3036847518705432,
          0.30387806635812636,
          0.30452946091476546,
          0.30463710014746803,
          0.30488604775248707,
          0.3049042494111903,
          0.3059523734066927,
          0.30627690918348993,
          0.3062860537408486,
          0.30716182463541913,
          0.3085568047023249,
          0.308840362947895,
          0.310313099930035,
          0.3110873997404401,
          0.3121613412869426,
          0.31253519565023474,
          0.31311718297784097,
          0.31341205930340194,
          0.3146015434536078,
          0.3158134447359672,
          0.31687383097024896,
          0.3180985096173861,
          0.3200374379996857,
          0.32409202623904465,
          0.32529811877171616,
          0.3254477002499193,
          0.3261859345237982,
          0.32780448809564827,
          0.3287104967012411,
          0.3290105666073412,
          0.33012976524801607,
          0.33071629663493407,
          0.3315461895518827,
          0.33238369072680785,
          0.3324985940963028,
          0.3338814265981299,
          0.334166446139104,
          0.3342107579930424,
          0.33436624899437967,
          0.3362903057573633,
          0.33704074670055106,
          0.3388459054335135,
          0.34082711078191724,
          0.3428924149707663,
          0.3449063877102772,
          0.3454830242734209,
          0.34614074576436915,
          0.3469196559023133,
          0.34745558736638693,
          0.34784132266857604,
          0.34793528500434273,
          0.3488289213894728,
          0.3509937921216689,
          0.35230836852052766,
          0.35317054140720355,
          0.3550929217447329,
          0.3551559097618945,
          0.35728895723063697,
          0.35765032681095676,
          0.3583690077936834,
          0.35897019456006996,
          0.3597658322102458,
          0.36054975643195536,
          0.3618763218508374,
          0.36451908871678507,
          0.36478007972041504,
          0.3656659694051711,
          0.3660903674484954,
          0.367337005241411,
          0.3716518879664195,
          0.37337743817361146,
          0.37351339494611996,
          0.3739367195090774,
          0.3761711030690972,
          0.37710105917041037,
          0.38056354004915766,
          0.3812022967937476,
          0.3812922390761614,
          0.381922776673619,
          0.3819987277877009,
          0.3839661213320669,
          0.38410474569385566,
          0.38561432246412103,
          0.3857974099881436,
          0.3859424106771306,
          0.38619286144889525,
          0.3862106438015092,
          0.3888374029457333,
          0.3920428760792808,
          0.3949219438958313,
          0.39516624998668404,
          0.39551883049780423,
          0.3960656608180093,
          0.3963253169884007,
          0.39811392184235256,
          0.3988803120524749,
          0.4003907342996104,
          0.40054758007019275,
          0.4031840944001379,
          0.403298368217029,
          0.4035680005122712,
          0.40470794654920955,
          0.4064585098188715,
          0.4073445844998825,
          0.4107087360216066,
          0.41078367645652264,
          0.4134395494944591,
          0.41348509383419385,
          0.4179383012997962,
          0.4197854793959449,
          0.42125921359256224,
          0.4218327718090251,
          0.42190000080512163,
          0.42393977717297787,
          0.42455831689593493,
          0.4252204263972483,
          0.42804653076601223,
          0.42843908549078574,
          0.4284673879994881,
          0.42927773792922513,
          0.4292809316646812,
          0.4296003817135971,
          0.4312080121120605,
          0.4314254509628378,
          0.4318093016256111,
          0.4352745190339838,
          0.4360618557294857,
          0.4360626924582673,
          0.4368444171849819,
          0.4375971449233772,
          0.43789579750566654,
          0.4382942034947902,
          0.43884323032265915,
          0.44085734362719337,
          0.440899641275514,
          0.44150099943074134,
          0.4416710791671788,
          0.4421291125689288,
          0.4428630669158148,
          0.4457981928308937,
          0.4473935886501942,
          0.44804492090049103,
          0.4511487238294846,
          0.452372894687577,
          0.4530307518668295,
          0.45304802261095756,
          0.45463919303807404,
          0.4558784273787971,
          0.4559672176215477,
          0.4572256125739265,
          0.4572897758541172,
          0.45892941051890596,
          0.45956579054086294,
          0.4608019454229392,
          0.46115038970036903,
          0.46186401594865584,
          0.4621336738754284,
          0.46270599716539323,
          0.4639865218802888,
          0.46620422316986715,
          0.46745905971449003,
          0.4688203876836644,
          0.4688924288924025,
          0.46983289518235266,
          0.47103535557820353,
          0.47135231365496794,
          0.47153830948060493,
          0.47212171681954945,
          0.4729544344806425,
          0.4756374874699933,
          0.47616289730581796,
          0.4767616885555468,
          0.4778232874162444,
          0.47821937098579004,
          0.47887642866179625,
          0.4789831069197177,
          0.4817177775437813,
          0.4830278086291878,
          0.4832101730470185,
          0.48538680207444684,
          0.48602881347344745,
          0.48756718384909914,
          0.48787362133678086,
          0.48808222247126387,
          0.48812208147844394,
          0.49086540989074584,
          0.4923254239746673,
          0.4928902565907055,
          0.4933961386168087,
          0.49616801708937697,
          0.4964832429548508,
          0.4970961503529187,
          0.4981933979127546,
          0.49870902742147494,
          0.5010987720442345,
          0.5044559365938164,
          0.5051791836687626,
          0.508170835102749,
          0.510067595587913,
          0.5108862235361693,
          0.5115465223891343,
          0.5130950829934573,
          0.5131257652390067,
          0.5133651446907146,
          0.5139927127636457,
          0.5149585290712964,
          0.5158854281726163,
          0.5167625013287086,
          0.5193408245531373,
          0.5243136502233527,
          0.5247161581823361,
          0.5249997973854978,
          0.5256194010279207,
          0.526138744031535,
          0.5265002919252937,
          0.5273008270548981,
          0.5276205551352066,
          0.5296845962182455,
          0.5297425529314689,
          0.5310435168289591,
          0.5331668781224063,
          0.533775806737986,
          0.534521419367498,
          0.5346925766671442,
          0.5352612546546553,
          0.5353597240133354,
          0.5389655182128946,
          0.5389968386577882,
          0.5392204478556281,
          0.5410003917867809,
          0.5414356600375626,
          0.5448699227300045,
          0.5455295339639631,
          0.5462318910829314,
          0.5468157142204197,
          0.5468820109961912,
          0.5473243061882977,
          0.5474800751489783,
          0.5505085967100563,
          0.5516731522502115,
          0.5555681330079691,
          0.5574580087559151,
          0.5606392802262162,
          0.5614556055576485,
          0.5620685620859179,
          0.5661499607080018,
          0.5671472304237652,
          0.5723806311979133,
          0.5731639484819241,
          0.5751232990038233,
          0.5758833557501131,
          0.579657402473424,
          0.579857764326389,
          0.5804116402273384,
          0.581062539336873,
          0.5833924500861251,
          0.5840555316010816,
          0.5866448829579364,
          0.5881358132216276,
          0.5883223398308939,
          0.5884439805733924,
          0.5889415570102696,
          0.589538180864894,
          0.5904184419662704,
          0.5910800559710387,
          0.5911071814288853,
          0.592041189370373,
          0.593637879557635,
          0.5941270463234756,
          0.5944070143360607,
          0.5951123832701407,
          0.59666026541611,
          0.5986125260843399,
          0.5988506229418806,
          0.5989674695964156,
          0.6025015111555806,
          0.6034059690658067,
          0.6037366723606862,
          0.6054041574874166,
          0.6066069733967554,
          0.6088580461922466,
          0.6119129501823645,
          0.6153688699961207,
          0.6157668705263335,
          0.6169195584749276,
          0.6194754864986577,
          0.6202586875301124,
          0.6205964206807252,
          0.6214864842067641,
          0.624521226090959,
          0.6257303508884525,
          0.6273488868076681,
          0.6275966916282256,
          0.6280223617866894,
          0.6286025056929914,
          0.6287762783743072,
          0.6289041841332981,
          0.6317335927633364,
          0.633278272237411,
          0.6350250127422589,
          0.6362849744438476,
          0.63731500074933,
          0.6374094032951302,
          0.6394356550152042,
          0.6397105012154717,
          0.6421287513385135,
          0.6457033964072294,
          0.6459348143794831,
          0.6463866428790835,
          0.647265446733936,
          0.6506559253042015,
          0.6522356743160441,
          0.6537554676861419,
          0.6547912251574447,
          0.6559162061723894,
          0.6568878554143777,
          0.6592594339359917,
          0.6624963668632503,
          0.6638674094232953,
          0.6639405845706592,
          0.6715722946712124,
          0.6717258883032513,
          0.672530800118267,
          0.6736062296932093,
          0.6742876333496081,
          0.6760724236213604,
          0.6763116752266195,
          0.6816558440157552,
          0.6822569437599416,
          0.6891203139612525,
          0.6913115887179961,
          0.694626734233548,
          0.6971233336592101,
          0.7040045006705207,
          0.7044917103728245,
          0.709068619844708,
          0.7124444034567663,
          0.712672187432042,
          0.7149213675023263,
          0.7170163333791666,
          0.7171675633169032,
          0.7190586207422023,
          0.7217993475942842,
          0.7241322574204893,
          0.7254747685873799,
          0.725825022784285,
          0.728354370846064,
          0.7299784965968995,
          0.7304092366530124,
          0.7326958528957306,
          0.7338571964836547,
          0.7346106734708903,
          0.7361221849939387,
          0.7366297755959372,
          0.7368646646646105,
          0.7408817343025428,
          0.7427378526520464,
          0.7469666264778824,
          0.7479894984710406,
          0.7479930517013503,
          0.7484527280357232,
          0.7486238363535644,
          0.7497217433287974,
          0.7521032354580143,
          0.7531613271054436,
          0.7534092930677087,
          0.754239340398049,
          0.7567727655748241,
          0.7573713444076257,
          0.7592301843015312,
          0.7607293872582073,
          0.7650501337570564,
          0.7701480842344564,
          0.7769796373416122,
          0.7774440099186478,
          0.7797257996126264,
          0.7799389934998177,
          0.7808158733548456,
          0.7808958569501956,
          0.7830478815319163,
          0.7846653186174588,
          0.7849175266827957,
          0.7862460566415894,
          0.7889982025283023,
          0.7925075913961122,
          0.7931485963931435,
          0.795082808048399,
          0.7967240494196265,
          0.7969905211904367,
          0.7996660645185375,
          0.8023124768855815,
          0.80413724825065,
          0.8069510690251838,
          0.8097971834685795,
          0.8105650497724282,
          0.8112910201068336,
          0.8120935907843341,
          0.8136249232564127,
          0.8145865333919945,
          0.8157641845670729,
          0.816556979068836,
          0.8191618825042482,
          0.8191933844859071,
          0.8197139949250561,
          0.8220660595700794,
          0.8221209757029079,
          0.8240963313942513,
          0.8252675032496573,
          0.8267166367506512,
          0.8275992882396884,
          0.8282339993104673,
          0.8298336143372926,
          0.830875751893293,
          0.8316255200617065,
          0.8317859365127926,
          0.8349778269253456,
          0.8378241869788856,
          0.8381050988825296,
          0.8382504489494491,
          0.8406887445039344,
          0.8433113346525919,
          0.8446874114875458,
          0.8469039222326117,
          0.8477390834577488,
          0.8479174981674832,
          0.8493736597637325,
          0.8499412523272395,
          0.8502499288181229,
          0.8525864282934357,
          0.8543820930847432,
          0.8552618515326381,
          0.8563799623701113,
          0.8569099833528968,
          0.8572763991699383,
          0.857279738964721,
          0.8579286142799802,
          0.8580183624843952,
          0.8580610997492013,
          0.8604739550521621,
          0.8624953990112999,
          0.8628171322979362,
          0.8631991871346675,
          0.8633364356529907,
          0.8651426659410524,
          0.8664713484175988,
          0.8668862692280641,
          0.8674450234560637,
          0.8675112704931328,
          0.8679054434983848,
          0.868070434961768,
          0.868499484655813,
          0.8686146887780253,
          0.869654613451261,
          0.870304457934522,
          0.8718855041054052,
          0.8760360287029932,
          0.8764125863917472,
          0.8764843590520497,
          0.8766031578953831,
          0.8796571956138315,
          0.8801763644200262,
          0.8812720100961937,
          0.8815181135596597,
          0.8825145894512401,
          0.8842574225810959,
          0.8857739676197819,
          0.8859309965523056,
          0.886266616538623,
          0.8879381798856776,
          0.8882753256834203,
          0.888964927030146,
          0.8903170893047637,
          0.8908057420358169,
          0.8923682442748133,
          0.8941246375074826,
          0.8948292416384098,
          0.8969183022399203,
          0.897546423739109,
          0.8975807050039651,
          0.8981912736669858,
          0.8987533704594266,
          0.8987741923321431,
          0.8994659865957026,
          0.8996684910832285,
          0.9002570576300124,
          0.9004770343289458,
          0.9007902077875312,
          0.9022607971149522,
          0.9028241476005934,
          0.9029438715399362,
          0.9040610739800096,
          0.9045636903763792,
          0.9049355675891977,
          0.9072468973929231,
          0.9073086015486633,
          0.907370092579676,
          0.9089959266554924,
          0.9090630884852874,
          0.9091278479464044,
          0.90977026406459,
          0.9100502211704671,
          0.9117094364469404,
          0.9117895697758402,
          0.9125135418098378,
          0.9142317177335321,
          0.9147326532974801,
          0.9148633281053353,
          0.9154840391408607,
          0.9165842981502622,
          0.9169307790708002,
          0.9173712343239347,
          0.9176919159540684,
          0.9181658319844176,
          0.9192638786999182,
          0.9193701768668582
         ],
         "y": [
          0,
          0,
          0,
          0,
          0,
          0,
          0,
          0,
          0,
          0,
          0,
          0,
          0,
          0,
          0,
          0,
          0,
          0,
          0,
          0,
          0,
          0,
          0,
          0,
          0,
          1,
          1,
          2,
          3,
          3,
          3,
          3,
          3,
          4,
          4,
          4,
          5,
          6,
          7,
          8,
          8,
          8,
          9,
          9,
          10,
          11,
          12,
          13,
          14,
          14,
          15,
          14,
          14,
          15,
          16,
          17,
          18,
          19,
          19,
          20,
          20,
          21,
          22,
          22,
          23,
          24,
          24,
          25,
          26,
          27,
          27,
          28,
          29,
          30,
          31,
          32,
          33,
          34,
          35,
          35,
          35,
          36,
          37,
          38,
          39,
          40,
          41,
          42,
          43,
          44,
          45,
          45,
          46,
          47,
          48,
          49,
          50,
          51,
          52,
          53,
          54,
          55,
          55,
          56,
          57,
          58,
          58,
          59,
          60,
          60,
          61,
          60,
          61,
          62,
          63,
          63,
          62,
          63,
          64,
          65,
          65,
          66,
          66,
          67,
          67,
          67,
          68,
          68,
          68,
          69,
          69,
          70,
          69,
          70,
          70,
          70,
          69,
          70,
          71,
          71,
          70,
          68,
          69,
          70,
          70,
          70,
          70,
          70,
          68,
          68,
          67,
          68,
          69,
          69,
          69,
          68,
          69,
          69,
          67,
          67,
          68,
          69,
          69,
          69,
          69,
          68,
          67,
          67,
          68,
          69,
          70,
          70,
          68,
          69,
          69,
          69,
          66,
          66,
          63,
          61,
          62,
          62,
          63,
          62,
          61,
          59,
          59,
          60,
          61,
          60,
          58,
          58,
          59,
          60,
          60,
          60,
          58,
          55,
          53,
          48,
          47,
          47,
          47,
          48,
          48,
          46,
          45,
          44,
          44,
          45,
          45,
          44,
          44,
          44,
          44,
          44,
          44,
          41,
          40,
          39,
          39,
          39,
          38,
          39,
          39,
          37,
          37,
          36,
          36,
          35,
          33,
          32,
          30,
          29,
          28,
          27,
          24,
          23,
          23,
          22,
          22,
          22,
          22,
          22,
          21,
          19,
          19,
          17,
          16,
          16,
          15,
          13,
          13,
          11,
          10,
          10,
          10,
          10,
          10,
          8,
          7,
          7,
          7,
          7,
          7,
          7,
          6,
          6,
          7,
          6,
          6,
          5,
          5,
          5,
          5,
          5,
          5,
          5,
          5,
          5,
          5,
          5,
          5,
          4,
          4,
          4,
          2,
          3,
          3,
          3,
          3,
          3,
          3,
          3,
          3,
          3,
          3,
          3,
          3,
          4,
          4,
          3,
          3,
          3,
          3,
          3,
          2,
          2,
          2,
          2,
          2,
          2,
          2,
          1,
          1,
          1,
          1,
          1,
          1,
          1,
          1,
          1,
          1,
          1,
          1,
          1,
          1,
          1,
          1,
          1,
          1,
          1,
          1,
          1,
          1,
          1,
          1,
          1,
          1,
          1,
          1,
          1,
          1,
          1,
          1,
          1,
          1,
          1,
          1,
          1,
          1,
          1,
          1,
          1,
          1,
          0,
          0,
          0,
          0,
          0,
          0,
          0,
          0,
          0,
          0,
          0,
          0,
          0,
          0,
          0,
          0,
          0,
          0,
          0,
          0,
          0,
          0,
          0,
          0,
          0,
          0,
          0,
          0,
          0,
          0,
          0,
          0,
          0,
          0,
          0,
          0,
          0,
          0,
          0,
          0,
          0,
          0,
          0,
          0,
          0,
          0,
          0,
          0,
          0,
          0,
          0,
          0,
          0,
          0,
          0,
          0,
          0,
          0,
          0,
          0,
          0,
          0,
          0,
          0,
          0,
          0,
          0,
          0,
          0,
          0,
          0,
          0,
          0,
          0,
          0,
          0,
          0,
          0,
          0,
          0,
          0,
          0,
          0,
          0,
          0,
          0,
          0,
          0,
          0,
          0,
          0,
          0,
          0,
          0,
          0,
          0,
          0,
          0,
          0,
          0,
          0,
          0,
          0,
          0,
          0,
          0,
          0,
          0,
          0,
          0,
          0,
          0,
          0,
          0,
          0,
          0,
          0,
          0,
          0,
          0,
          0,
          0,
          0,
          0,
          0,
          0,
          0,
          0,
          0,
          0,
          0,
          0,
          0,
          0,
          0,
          0,
          0,
          0,
          0,
          0,
          0,
          0,
          0,
          0,
          0,
          0,
          0,
          0,
          0,
          0,
          0,
          0,
          0,
          0,
          0,
          0,
          0,
          0,
          0,
          0,
          0,
          0,
          0,
          0,
          0,
          0,
          0,
          0,
          0,
          0,
          0,
          0,
          0,
          0,
          0,
          0,
          0,
          0,
          0,
          0,
          0,
          0,
          0,
          0,
          0,
          0,
          0,
          0,
          0,
          0,
          0,
          0,
          0,
          0,
          0,
          0,
          0,
          0,
          0,
          0,
          0,
          0,
          0,
          0,
          0,
          0,
          0,
          0,
          0,
          0,
          0,
          0,
          0,
          0,
          0,
          0,
          0,
          0,
          0,
          0,
          0,
          0,
          0,
          0,
          0,
          0,
          0,
          0,
          0,
          0,
          0,
          0,
          0,
          0,
          0,
          0,
          0,
          0,
          0,
          0,
          0,
          0,
          0,
          0,
          0,
          0,
          0,
          0,
          0,
          0,
          0,
          0,
          0,
          0,
          0,
          0,
          0,
          0,
          0,
          0,
          0,
          0,
          0,
          0,
          0,
          0,
          0,
          0,
          0,
          0,
          0,
          0,
          0,
          0,
          0,
          0,
          0,
          0,
          0,
          0,
          0,
          0,
          0,
          0,
          0,
          0,
          0,
          0,
          0,
          0,
          0,
          0,
          0,
          0,
          0,
          0,
          0,
          0,
          0,
          0,
          0,
          0,
          0,
          0,
          0,
          0,
          0,
          0,
          0,
          0,
          0,
          0,
          0,
          0,
          0,
          0,
          0,
          0,
          0,
          0,
          0,
          0,
          0,
          0,
          0,
          0,
          0,
          0,
          0,
          0,
          0,
          0,
          0,
          0,
          0,
          0,
          0,
          0,
          0,
          0,
          0,
          0,
          0,
          0,
          0,
          0,
          0,
          0,
          0,
          0,
          0,
          0,
          0,
          0,
          0,
          0,
          0
         ]
        }
       ],
       "layout": {
        "height": 800,
        "hovermode": "closest",
        "margin": {
         "b": 50,
         "l": 50,
         "r": 50,
         "t": 50
        },
        "scene": {
         "aspectmode": "manual",
         "aspectratio": {
          "x": 1,
          "y": 77.22678175396385
         }
        },
        "showlegend": false,
        "width": 1000
       }
      },
      "application/vnd.webio.node+json": {
       "children": [
        {
         "children": [],
         "instanceArgs": {
          "namespace": "html",
          "tag": "div"
         },
         "nodeType": "DOM",
         "props": {
          "id": "plot-ae8d1abb-1c62-4a43-ba88-e5328bb418bf"
         },
         "type": "node"
        }
       ],
       "instanceArgs": {
        "handlers": {
         "__get_gd_contents": [
          "(function (prop){prop==\"data\" ? (WebIO.setval({\"name\":\"__gd_contents\",\"scope\":\"18424657566486111050\",\"id\":\"ob_86\",\"type\":\"observable\"},this.plotElem.data)) : undefined; return prop==\"layout\" ? (WebIO.setval({\"name\":\"__gd_contents\",\"scope\":\"18424657566486111050\",\"id\":\"ob_86\",\"type\":\"observable\"},this.plotElem.layout)) : undefined})"
         ],
         "_commands": [
          "(function (args){var fn=args.shift(); var elem=this.plotElem; var Plotly=this.Plotly; args.unshift(elem); return Plotly[fn].apply(this,args)})"
         ],
         "_downloadImage": [
          "(function (options){return this.Plotly.downloadImage(this.plotElem,options)})"
         ],
         "_toImage": [
          "(function (options){return this.Plotly.toImage(this.plotElem,options).then((function (data){return WebIO.setval({\"name\":\"image\",\"scope\":\"18424657566486111050\",\"id\":\"ob_85\",\"type\":\"observable\"},data)}))})"
         ]
        },
        "id": "18424657566486111050",
        "imports": {
         "data": [
          {
           "name": "Plotly",
           "type": "js",
           "url": "/assetserver/9147360d5c3613700b42fe357486d9f33f779d9b-plotly-latest.min.js"
          },
          {
           "name": null,
           "type": "js",
           "url": "/assetserver/9f6ebd16eafa02aacf860d0fd74c255df175511a-plotly_webio.bundle.js"
          }
         ],
         "type": "async_block"
        },
        "mount_callbacks": [
         "function () {\n    var handler = ((function (Plotly,PlotlyWebIO){PlotlyWebIO.init(WebIO); var gd=this.dom.querySelector(\"#plot-ae8d1abb-1c62-4a43-ba88-e5328bb418bf\"); this.plotElem=gd; this.Plotly=Plotly; (window.Blink!==undefined) ? (gd.style.width=\"100%\", gd.style.height=\"100vh\", gd.style.marginLeft=\"0%\", gd.style.marginTop=\"0vh\") : undefined; window.onresize=(function (){return Plotly.Plots.resize(gd)}); Plotly.newPlot(gd,[{\"mode\":\"line\",\"line\":{\"width\":1},\"y\":[0.0,0.0,0.0,0.0,0.0,0.0,0.0,0.0,0.0,0.0,0.0,0.0,0.0,0.0,0.0,0.0,0.0,0.0,0.0,0.0,0.0,0.0,0.0,0.0,0.0,1.0,1.0,2.0,3.0,3.0,3.0,3.0,3.0,4.0,4.0,4.0,5.0,6.0,7.0,8.0,8.0,8.0,9.0,9.0,10.0,11.0,12.0,13.0,14.0,14.0,15.0,14.0,14.0,15.0,16.0,17.0,18.0,19.0,19.0,20.0,20.0,21.0,22.0,22.0,23.0,24.0,24.0,25.0,26.0,27.0,27.0,28.0,29.0,30.0,31.0,32.0,33.0,34.0,35.0,35.0,35.0,36.0,37.0,38.0,39.0,40.0,41.0,42.0,43.0,44.0,45.0,45.0,46.0,47.0,48.0,49.0,50.0,51.0,52.0,53.0,54.0,55.0,55.0,56.0,57.0,58.0,58.0,59.0,60.0,60.0,61.0,60.0,61.0,62.0,63.0,63.0,62.0,63.0,64.0,65.0,65.0,66.0,66.0,67.0,67.0,67.0,68.0,68.0,68.0,69.0,69.0,70.0,69.0,70.0,70.0,70.0,69.0,70.0,71.0,71.0,70.0,68.0,69.0,70.0,70.0,70.0,70.0,70.0,68.0,68.0,67.0,68.0,69.0,69.0,69.0,68.0,69.0,69.0,67.0,67.0,68.0,69.0,69.0,69.0,69.0,68.0,67.0,67.0,68.0,69.0,70.0,70.0,68.0,69.0,69.0,69.0,66.0,66.0,63.0,61.0,62.0,62.0,63.0,62.0,61.0,59.0,59.0,60.0,61.0,60.0,58.0,58.0,59.0,60.0,60.0,60.0,58.0,55.0,53.0,48.0,47.0,47.0,47.0,48.0,48.0,46.0,45.0,44.0,44.0,45.0,45.0,44.0,44.0,44.0,44.0,44.0,44.0,41.0,40.0,39.0,39.0,39.0,38.0,39.0,39.0,37.0,37.0,36.0,36.0,35.0,33.0,32.0,30.0,29.0,28.0,27.0,24.0,23.0,23.0,22.0,22.0,22.0,22.0,22.0,21.0,19.0,19.0,17.0,16.0,16.0,15.0,13.0,13.0,11.0,10.0,10.0,10.0,10.0,10.0,8.0,7.0,7.0,7.0,7.0,7.0,7.0,6.0,6.0,7.0,6.0,6.0,5.0,5.0,5.0,5.0,5.0,5.0,5.0,5.0,5.0,5.0,5.0,5.0,4.0,4.0,4.0,2.0,3.0,3.0,3.0,3.0,3.0,3.0,3.0,3.0,3.0,3.0,3.0,3.0,4.0,4.0,3.0,3.0,3.0,3.0,3.0,2.0,2.0,2.0,2.0,2.0,2.0,2.0,1.0,1.0,1.0,1.0,1.0,1.0,1.0,1.0,1.0,1.0,1.0,1.0,1.0,1.0,1.0,1.0,1.0,1.0,1.0,1.0,1.0,1.0,1.0,1.0,1.0,1.0,1.0,1.0,1.0,1.0,1.0,1.0,1.0,1.0,1.0,1.0,1.0,1.0,1.0,1.0,1.0,1.0,0.0,0.0,0.0,0.0,0.0,0.0,0.0,0.0,0.0,0.0,0.0,0.0,0.0,0.0,0.0,0.0,0.0,0.0,0.0,0.0,0.0,0.0,0.0,0.0,0.0,0.0,0.0,0.0,0.0,0.0,0.0,0.0,0.0,0.0,0.0,0.0,0.0,0.0,0.0,0.0,0.0,0.0,0.0,0.0,0.0,0.0,0.0,0.0,0.0,0.0,0.0,0.0,0.0,0.0,0.0,0.0,0.0,0.0,0.0,0.0,0.0,0.0,0.0,0.0,0.0,0.0,0.0,0.0,0.0,0.0,0.0,0.0,0.0,0.0,0.0,0.0,0.0,0.0,0.0,0.0,0.0,0.0,0.0,0.0,0.0,0.0,0.0,0.0,0.0,0.0,0.0,0.0,0.0,0.0,0.0,0.0,0.0,0.0,0.0,0.0,0.0,0.0,0.0,0.0,0.0,0.0,0.0,0.0,0.0,0.0,0.0,0.0,0.0,0.0,0.0,0.0,0.0,0.0,0.0,0.0,0.0,0.0,0.0,0.0,0.0,0.0,0.0,0.0,0.0,0.0,0.0,0.0,0.0,0.0,0.0,0.0,0.0,0.0,0.0,0.0,0.0,0.0,0.0,0.0,0.0,0.0,0.0,0.0,0.0,0.0,0.0,0.0,0.0,0.0,0.0,0.0,0.0,0.0,0.0,0.0,0.0,0.0,0.0,0.0,0.0,0.0,0.0,0.0,0.0,0.0,0.0,0.0,0.0,0.0,0.0,0.0,0.0,0.0,0.0,0.0,0.0,0.0,0.0,0.0,0.0,0.0,0.0,0.0,0.0,0.0,0.0,0.0,0.0,0.0,0.0,0.0,0.0,0.0,0.0,0.0,0.0,0.0,0.0,0.0,0.0,0.0,0.0,0.0,0.0,0.0,0.0,0.0,0.0,0.0,0.0,0.0,0.0,0.0,0.0,0.0,0.0,0.0,0.0,0.0,0.0,0.0,0.0,0.0,0.0,0.0,0.0,0.0,0.0,0.0,0.0,0.0,0.0,0.0,0.0,0.0,0.0,0.0,0.0,0.0,0.0,0.0,0.0,0.0,0.0,0.0,0.0,0.0,0.0,0.0,0.0,0.0,0.0,0.0,0.0,0.0,0.0,0.0,0.0,0.0,0.0,0.0,0.0,0.0,0.0,0.0,0.0,0.0,0.0,0.0,0.0,0.0,0.0,0.0,0.0,0.0,0.0,0.0,0.0,0.0,0.0,0.0,0.0,0.0,0.0,0.0,0.0,0.0,0.0,0.0,0.0,0.0,0.0,0.0,0.0,0.0,0.0,0.0,0.0,0.0,0.0,0.0,0.0,0.0,0.0,0.0,0.0,0.0,0.0,0.0,0.0,0.0,0.0,0.0,0.0,0.0,0.0,0.0,0.0,0.0,0.0,0.0,0.0,0.0,0.0,0.0,0.0,0.0,0.0,0.0,0.0,0.0,0.0,0.0,0.0,0.0,0.0,0.0,0.0,0.0,0.0,0.0,0.0,0.0,0.0,0.0,0.0,0.0,0.0,0.0,0.0,0.0,0.0],\"type\":\"scatter\",\"x\":[0.0,0.06278539539287954,0.06676698182674963,0.07365316277955068,0.0781049136647394,0.08712471885925663,0.09333086366375835,0.10190287588480612,0.10339249079883214,0.10929868329687777,0.11123671852901408,0.11172534001301716,0.11389923487862563,0.11425847681865718,0.12067509319120114,0.12102509093403298,0.12341536434953272,0.12356791016979832,0.1258711251618701,0.1300516264247043,0.1307077711766067,0.13074242132984554,0.13418681928680287,0.13428194309921582,0.1375424190399067,0.14169890611668307,0.147112301339098,0.14759875088150617,0.15233935177509542,0.1525561256324862,0.15306757698737977,0.1548605037719847,0.15582714653475707,0.15612156551728593,0.15672873668095666,0.1615222355878127,0.1616185294180327,0.1627320069896045,0.16664687820709598,0.16873558438498917,0.16966875195393544,0.1725442492909793,0.17296322819592178,0.17342510756948054,0.17425455510593968,0.17685967174666256,0.17740735386462209,0.18035353840920848,0.1816943942722585,0.18227366564303388,0.18312116468995968,0.18371524191004238,0.18464767696740622,0.1850976018720822,0.1853871882370274,0.18699304805269495,0.18959654638028642,0.18997692494968632,0.19018194066547553,0.19132223029651024,0.19174004703515832,0.19233187294393006,0.19274974071370568,0.19422333852179435,0.19470104448347939,0.1955006030244696,0.19570994481807755,0.19589883398871705,0.19600336800888568,0.1967808805940602,0.1987775089531553,0.20030455167340047,0.20132069977610587,0.20221464720021487,0.20327583463726492,0.20354388306225504,0.2052069070240202,0.2057690355100403,0.20710338386747024,0.2077559887804764,0.20805532694823103,0.208693691149943,0.20908253407588498,0.21022128062123732,0.21032294148941733,0.21110687032033904,0.21131846413417085,0.21177922276679387,0.2118740894597658,0.21345327808015718,0.2147991651681139,0.21521016272528423,0.21592057402429574,0.21624985357777016,0.2179766133832852,0.21912991934400172,0.22118807967999307,0.22139616055232017,0.22164816745201435,0.22271553127667862,0.223412014435871,0.22507586466748672,0.22615484614991435,0.22711105304428467,0.22755985753806762,0.22863373825153202,0.22918801774192593,0.23121108438775653,0.2312233730673412,0.2316040371847426,0.23218627594303018,0.23312215349722143,0.2335206903845484,0.23467090131300436,0.23504784592630437,0.2352661627429596,0.2353086016114001,0.23985571381256535,0.2404744563719117,0.2407149723575911,0.24140881125481511,0.2451972545976352,0.24554934361753855,0.24621034298459799,0.2471794021249802,0.24782154179367383,0.252646374642586,0.252897147283524,0.2530490173025561,0.25314792416137194,0.2539489333952898,0.2543595296930911,0.2549823543177838,0.25606343711253465,0.25825142672927104,0.25842510823673925,0.25921208016702757,0.2595630453064864,0.26044638878425147,0.260714653037456,0.26078523837019024,0.2608422179555883,0.2608426071094277,0.26426902552265025,0.2643394889412783,0.26455546395563884,0.26462302364762996,0.2646284156601731,0.265722379928685,0.26587920716207336,0.266622051569708,0.2669729308002764,0.2673077342738541,0.2677804712786809,0.26962751972592003,0.27005220188892953,0.27052491286470204,0.2706581988277201,0.27109522106756356,0.27318421129774917,0.2734786951636914,0.27661135802132425,0.2769015754584217,0.27759479790318364,0.27763353305492483,0.27784428928424576,0.27797940313473973,0.27860682650321333,0.27887829588921603,0.2818231929498793,0.28204073147118536,0.2829653297924699,0.2836279195080164,0.2837294425280483,0.2839652923995466,0.28429621125582294,0.28501831927427096,0.2870522774247145,0.2881851347748858,0.28822111221350916,0.28848476952541424,0.2886839065300352,0.29039649956585395,0.2905756550716782,0.2915535696238633,0.2933376584373944,0.2939339982531269,0.29477933495395087,0.29553472690381793,0.29626118367411125,0.29675810675630937,0.2984744327129217,0.2999445561033727,0.3003911275200868,0.30134924499120175,0.301456516389715,0.3034987541976379,0.3036847518705432,0.30387806635812636,0.30452946091476546,0.30463710014746803,0.30488604775248707,0.3049042494111903,0.3059523734066927,0.30627690918348993,0.3062860537408486,0.30716182463541913,0.3085568047023249,0.308840362947895,0.310313099930035,0.3110873997404401,0.3121613412869426,0.31253519565023474,0.31311718297784097,0.31341205930340194,0.3146015434536078,0.3158134447359672,0.31687383097024896,0.3180985096173861,0.3200374379996857,0.32409202623904465,0.32529811877171616,0.3254477002499193,0.3261859345237982,0.32780448809564827,0.3287104967012411,0.3290105666073412,0.33012976524801607,0.33071629663493407,0.3315461895518827,0.33238369072680785,0.3324985940963028,0.3338814265981299,0.334166446139104,0.3342107579930424,0.33436624899437967,0.3362903057573633,0.33704074670055106,0.3388459054335135,0.34082711078191724,0.3428924149707663,0.3449063877102772,0.3454830242734209,0.34614074576436915,0.3469196559023133,0.34745558736638693,0.34784132266857604,0.34793528500434273,0.3488289213894728,0.3509937921216689,0.35230836852052766,0.35317054140720355,0.3550929217447329,0.3551559097618945,0.35728895723063697,0.35765032681095676,0.3583690077936834,0.35897019456006996,0.3597658322102458,0.36054975643195536,0.3618763218508374,0.36451908871678507,0.36478007972041504,0.3656659694051711,0.3660903674484954,0.367337005241411,0.3716518879664195,0.37337743817361146,0.37351339494611996,0.3739367195090774,0.3761711030690972,0.37710105917041037,0.38056354004915766,0.3812022967937476,0.3812922390761614,0.381922776673619,0.3819987277877009,0.3839661213320669,0.38410474569385566,0.38561432246412103,0.3857974099881436,0.3859424106771306,0.38619286144889525,0.3862106438015092,0.3888374029457333,0.3920428760792808,0.3949219438958313,0.39516624998668404,0.39551883049780423,0.3960656608180093,0.3963253169884007,0.39811392184235256,0.3988803120524749,0.4003907342996104,0.40054758007019275,0.4031840944001379,0.403298368217029,0.4035680005122712,0.40470794654920955,0.4064585098188715,0.4073445844998825,0.4107087360216066,0.41078367645652264,0.4134395494944591,0.41348509383419385,0.4179383012997962,0.4197854793959449,0.42125921359256224,0.4218327718090251,0.42190000080512163,0.42393977717297787,0.42455831689593493,0.4252204263972483,0.42804653076601223,0.42843908549078574,0.4284673879994881,0.42927773792922513,0.4292809316646812,0.4296003817135971,0.4312080121120605,0.4314254509628378,0.4318093016256111,0.4352745190339838,0.4360618557294857,0.4360626924582673,0.4368444171849819,0.4375971449233772,0.43789579750566654,0.4382942034947902,0.43884323032265915,0.44085734362719337,0.440899641275514,0.44150099943074134,0.4416710791671788,0.4421291125689288,0.4428630669158148,0.4457981928308937,0.4473935886501942,0.44804492090049103,0.4511487238294846,0.452372894687577,0.4530307518668295,0.45304802261095756,0.45463919303807404,0.4558784273787971,0.4559672176215477,0.4572256125739265,0.4572897758541172,0.45892941051890596,0.45956579054086294,0.4608019454229392,0.46115038970036903,0.46186401594865584,0.4621336738754284,0.46270599716539323,0.4639865218802888,0.46620422316986715,0.46745905971449003,0.4688203876836644,0.4688924288924025,0.46983289518235266,0.47103535557820353,0.47135231365496794,0.47153830948060493,0.47212171681954945,0.4729544344806425,0.4756374874699933,0.47616289730581796,0.4767616885555468,0.4778232874162444,0.47821937098579004,0.47887642866179625,0.4789831069197177,0.4817177775437813,0.4830278086291878,0.4832101730470185,0.48538680207444684,0.48602881347344745,0.48756718384909914,0.48787362133678086,0.48808222247126387,0.48812208147844394,0.49086540989074584,0.4923254239746673,0.4928902565907055,0.4933961386168087,0.49616801708937697,0.4964832429548508,0.4970961503529187,0.4981933979127546,0.49870902742147494,0.5010987720442345,0.5044559365938164,0.5051791836687626,0.508170835102749,0.510067595587913,0.5108862235361693,0.5115465223891343,0.5130950829934573,0.5131257652390067,0.5133651446907146,0.5139927127636457,0.5149585290712964,0.5158854281726163,0.5167625013287086,0.5193408245531373,0.5243136502233527,0.5247161581823361,0.5249997973854978,0.5256194010279207,0.526138744031535,0.5265002919252937,0.5273008270548981,0.5276205551352066,0.5296845962182455,0.5297425529314689,0.5310435168289591,0.5331668781224063,0.533775806737986,0.534521419367498,0.5346925766671442,0.5352612546546553,0.5353597240133354,0.5389655182128946,0.5389968386577882,0.5392204478556281,0.5410003917867809,0.5414356600375626,0.5448699227300045,0.5455295339639631,0.5462318910829314,0.5468157142204197,0.5468820109961912,0.5473243061882977,0.5474800751489783,0.5505085967100563,0.5516731522502115,0.5555681330079691,0.5574580087559151,0.5606392802262162,0.5614556055576485,0.5620685620859179,0.5661499607080018,0.5671472304237652,0.5723806311979133,0.5731639484819241,0.5751232990038233,0.5758833557501131,0.579657402473424,0.579857764326389,0.5804116402273384,0.581062539336873,0.5833924500861251,0.5840555316010816,0.5866448829579364,0.5881358132216276,0.5883223398308939,0.5884439805733924,0.5889415570102696,0.589538180864894,0.5904184419662704,0.5910800559710387,0.5911071814288853,0.592041189370373,0.593637879557635,0.5941270463234756,0.5944070143360607,0.5951123832701407,0.59666026541611,0.5986125260843399,0.5988506229418806,0.5989674695964156,0.6025015111555806,0.6034059690658067,0.6037366723606862,0.6054041574874166,0.6066069733967554,0.6088580461922466,0.6119129501823645,0.6153688699961207,0.6157668705263335,0.6169195584749276,0.6194754864986577,0.6202586875301124,0.6205964206807252,0.6214864842067641,0.624521226090959,0.6257303508884525,0.6273488868076681,0.6275966916282256,0.6280223617866894,0.6286025056929914,0.6287762783743072,0.6289041841332981,0.6317335927633364,0.633278272237411,0.6350250127422589,0.6362849744438476,0.63731500074933,0.6374094032951302,0.6394356550152042,0.6397105012154717,0.6421287513385135,0.6457033964072294,0.6459348143794831,0.6463866428790835,0.647265446733936,0.6506559253042015,0.6522356743160441,0.6537554676861419,0.6547912251574447,0.6559162061723894,0.6568878554143777,0.6592594339359917,0.6624963668632503,0.6638674094232953,0.6639405845706592,0.6715722946712124,0.6717258883032513,0.672530800118267,0.6736062296932093,0.6742876333496081,0.6760724236213604,0.6763116752266195,0.6816558440157552,0.6822569437599416,0.6891203139612525,0.6913115887179961,0.694626734233548,0.6971233336592101,0.7040045006705207,0.7044917103728245,0.709068619844708,0.7124444034567663,0.712672187432042,0.7149213675023263,0.7170163333791666,0.7171675633169032,0.7190586207422023,0.7217993475942842,0.7241322574204893,0.7254747685873799,0.725825022784285,0.728354370846064,0.7299784965968995,0.7304092366530124,0.7326958528957306,0.7338571964836547,0.7346106734708903,0.7361221849939387,0.7366297755959372,0.7368646646646105,0.7408817343025428,0.7427378526520464,0.7469666264778824,0.7479894984710406,0.7479930517013503,0.7484527280357232,0.7486238363535644,0.7497217433287974,0.7521032354580143,0.7531613271054436,0.7534092930677087,0.754239340398049,0.7567727655748241,0.7573713444076257,0.7592301843015312,0.7607293872582073,0.7650501337570564,0.7701480842344564,0.7769796373416122,0.7774440099186478,0.7797257996126264,0.7799389934998177,0.7808158733548456,0.7808958569501956,0.7830478815319163,0.7846653186174588,0.7849175266827957,0.7862460566415894,0.7889982025283023,0.7925075913961122,0.7931485963931435,0.795082808048399,0.7967240494196265,0.7969905211904367,0.7996660645185375,0.8023124768855815,0.80413724825065,0.8069510690251838,0.8097971834685795,0.8105650497724282,0.8112910201068336,0.8120935907843341,0.8136249232564127,0.8145865333919945,0.8157641845670729,0.816556979068836,0.8191618825042482,0.8191933844859071,0.8197139949250561,0.8220660595700794,0.8221209757029079,0.8240963313942513,0.8252675032496573,0.8267166367506512,0.8275992882396884,0.8282339993104673,0.8298336143372926,0.830875751893293,0.8316255200617065,0.8317859365127926,0.8349778269253456,0.8378241869788856,0.8381050988825296,0.8382504489494491,0.8406887445039344,0.8433113346525919,0.8446874114875458,0.8469039222326117,0.8477390834577488,0.8479174981674832,0.8493736597637325,0.8499412523272395,0.8502499288181229,0.8525864282934357,0.8543820930847432,0.8552618515326381,0.8563799623701113,0.8569099833528968,0.8572763991699383,0.857279738964721,0.8579286142799802,0.8580183624843952,0.8580610997492013,0.8604739550521621,0.8624953990112999,0.8628171322979362,0.8631991871346675,0.8633364356529907,0.8651426659410524,0.8664713484175988,0.8668862692280641,0.8674450234560637,0.8675112704931328,0.8679054434983848,0.868070434961768,0.868499484655813,0.8686146887780253,0.869654613451261,0.870304457934522,0.8718855041054052,0.8760360287029932,0.8764125863917472,0.8764843590520497,0.8766031578953831,0.8796571956138315,0.8801763644200262,0.8812720100961937,0.8815181135596597,0.8825145894512401,0.8842574225810959,0.8857739676197819,0.8859309965523056,0.886266616538623,0.8879381798856776,0.8882753256834203,0.888964927030146,0.8903170893047637,0.8908057420358169,0.8923682442748133,0.8941246375074826,0.8948292416384098,0.8969183022399203,0.897546423739109,0.8975807050039651,0.8981912736669858,0.8987533704594266,0.8987741923321431,0.8994659865957026,0.8996684910832285,0.9002570576300124,0.9004770343289458,0.9007902077875312,0.9022607971149522,0.9028241476005934,0.9029438715399362,0.9040610739800096,0.9045636903763792,0.9049355675891977,0.9072468973929231,0.9073086015486633,0.907370092579676,0.9089959266554924,0.9090630884852874,0.9091278479464044,0.90977026406459,0.9100502211704671,0.9117094364469404,0.9117895697758402,0.9125135418098378,0.9142317177335321,0.9147326532974801,0.9148633281053353,0.9154840391408607,0.9165842981502622,0.9169307790708002,0.9173712343239347,0.9176919159540684,0.9181658319844176,0.9192638786999182,0.9193701768668582]}],{\"showlegend\":false,\"hovermode\":\"closest\",\"height\":800,\"margin\":{\"l\":50,\"b\":50,\"r\":50,\"t\":50},\"scene\":{\"aspectratio\":{\"y\":77.22678175396385,\"x\":1.0},\"aspectmode\":\"manual\"},\"width\":1000},{}); gd.on(\"plotly_hover\",(function (data){var filtered_data=WebIO.PlotlyCommands.filterEventData(gd,data,\"hover\"); return !(filtered_data.isnil) ? (WebIO.setval({\"name\":\"hover\",\"scope\":\"18424657566486111050\",\"id\":\"ob_81\",\"type\":\"observable\"},filtered_data.out)) : undefined})); gd.on(\"plotly_unhover\",(function (){return WebIO.setval({\"name\":\"hover\",\"scope\":\"18424657566486111050\",\"id\":\"ob_81\",\"type\":\"observable\"},{})})); gd.on(\"plotly_selected\",(function (data){var filtered_data=WebIO.PlotlyCommands.filterEventData(gd,data,\"selected\"); return !(filtered_data.isnil) ? (WebIO.setval({\"name\":\"selected\",\"scope\":\"18424657566486111050\",\"id\":\"ob_82\",\"type\":\"observable\"},filtered_data.out)) : undefined})); gd.on(\"plotly_deselect\",(function (){return WebIO.setval({\"name\":\"selected\",\"scope\":\"18424657566486111050\",\"id\":\"ob_82\",\"type\":\"observable\"},{})})); gd.on(\"plotly_relayout\",(function (data){var filtered_data=WebIO.PlotlyCommands.filterEventData(gd,data,\"relayout\"); return !(filtered_data.isnil) ? (WebIO.setval({\"name\":\"relayout\",\"scope\":\"18424657566486111050\",\"id\":\"ob_84\",\"type\":\"observable\"},filtered_data.out)) : undefined})); return gd.on(\"plotly_click\",(function (data){var filtered_data=WebIO.PlotlyCommands.filterEventData(gd,data,\"click\"); return !(filtered_data.isnil) ? (WebIO.setval({\"name\":\"click\",\"scope\":\"18424657566486111050\",\"id\":\"ob_83\",\"type\":\"observable\"},filtered_data.out)) : undefined}))}));\n    (WebIO.importBlock({\"data\":[{\"name\":\"Plotly\",\"type\":\"js\",\"url\":\"/assetserver/9147360d5c3613700b42fe357486d9f33f779d9b-plotly-latest.min.js\"},{\"name\":null,\"type\":\"js\",\"url\":\"/assetserver/9f6ebd16eafa02aacf860d0fd74c255df175511a-plotly_webio.bundle.js\"}],\"type\":\"async_block\"})).then((imports) => handler.apply(this, imports));\n}\n"
        ],
        "observables": {
         "__gd_contents": {
          "id": "ob_86",
          "sync": false,
          "value": {}
         },
         "__get_gd_contents": {
          "id": "ob_90",
          "sync": false,
          "value": ""
         },
         "_commands": {
          "id": "ob_87",
          "sync": false,
          "value": []
         },
         "_downloadImage": {
          "id": "ob_89",
          "sync": false,
          "value": {}
         },
         "_toImage": {
          "id": "ob_88",
          "sync": false,
          "value": {}
         },
         "click": {
          "id": "ob_83",
          "sync": false,
          "value": {}
         },
         "hover": {
          "id": "ob_81",
          "sync": false,
          "value": {}
         },
         "image": {
          "id": "ob_85",
          "sync": true,
          "value": ""
         },
         "relayout": {
          "id": "ob_84",
          "sync": false,
          "value": {}
         },
         "selected": {
          "id": "ob_82",
          "sync": false,
          "value": {}
         }
        },
        "systemjs_options": null
       },
       "nodeType": "Scope",
       "props": {},
       "type": "node"
      },
      "text/html": [
       "<div\n",
       "    class=\"webio-mountpoint\"\n",
       "    data-webio-mountpoint=\"8649937570077275502\"\n",
       ">\n",
       "    <script>\n",
       "    if (window.require && require.defined && require.defined(\"nbextensions/webio-jupyter-notebook\")) {\n",
       "        console.log(\"Jupyter WebIO extension detected, not mounting.\");\n",
       "    } else if (window.WebIO) {\n",
       "        WebIO.mount(\n",
       "            document.querySelector('[data-webio-mountpoint=\"8649937570077275502\"]'),\n",
       "            {\"props\":{},\"nodeType\":\"Scope\",\"type\":\"node\",\"instanceArgs\":{\"imports\":{\"data\":[{\"name\":\"Plotly\",\"type\":\"js\",\"url\":\"\\/assetserver\\/9147360d5c3613700b42fe357486d9f33f779d9b-plotly-latest.min.js\"},{\"name\":null,\"type\":\"js\",\"url\":\"\\/assetserver\\/9f6ebd16eafa02aacf860d0fd74c255df175511a-plotly_webio.bundle.js\"}],\"type\":\"async_block\"},\"id\":\"18424657566486111050\",\"handlers\":{\"_toImage\":[\"(function (options){return this.Plotly.toImage(this.plotElem,options).then((function (data){return WebIO.setval({\\\"name\\\":\\\"image\\\",\\\"scope\\\":\\\"18424657566486111050\\\",\\\"id\\\":\\\"ob_85\\\",\\\"type\\\":\\\"observable\\\"},data)}))})\"],\"__get_gd_contents\":[\"(function (prop){prop==\\\"data\\\" ? (WebIO.setval({\\\"name\\\":\\\"__gd_contents\\\",\\\"scope\\\":\\\"18424657566486111050\\\",\\\"id\\\":\\\"ob_86\\\",\\\"type\\\":\\\"observable\\\"},this.plotElem.data)) : undefined; return prop==\\\"layout\\\" ? (WebIO.setval({\\\"name\\\":\\\"__gd_contents\\\",\\\"scope\\\":\\\"18424657566486111050\\\",\\\"id\\\":\\\"ob_86\\\",\\\"type\\\":\\\"observable\\\"},this.plotElem.layout)) : undefined})\"],\"_downloadImage\":[\"(function (options){return this.Plotly.downloadImage(this.plotElem,options)})\"],\"_commands\":[\"(function (args){var fn=args.shift(); var elem=this.plotElem; var Plotly=this.Plotly; args.unshift(elem); return Plotly[fn].apply(this,args)})\"]},\"systemjs_options\":null,\"mount_callbacks\":[\"function () {\\n    var handler = ((function (Plotly,PlotlyWebIO){PlotlyWebIO.init(WebIO); var gd=this.dom.querySelector(\\\"#plot-ae8d1abb-1c62-4a43-ba88-e5328bb418bf\\\"); this.plotElem=gd; this.Plotly=Plotly; (window.Blink!==undefined) ? (gd.style.width=\\\"100%\\\", gd.style.height=\\\"100vh\\\", gd.style.marginLeft=\\\"0%\\\", gd.style.marginTop=\\\"0vh\\\") : undefined; window.onresize=(function (){return Plotly.Plots.resize(gd)}); Plotly.newPlot(gd,[{\\\"mode\\\":\\\"line\\\",\\\"line\\\":{\\\"width\\\":1},\\\"y\\\":[0.0,0.0,0.0,0.0,0.0,0.0,0.0,0.0,0.0,0.0,0.0,0.0,0.0,0.0,0.0,0.0,0.0,0.0,0.0,0.0,0.0,0.0,0.0,0.0,0.0,1.0,1.0,2.0,3.0,3.0,3.0,3.0,3.0,4.0,4.0,4.0,5.0,6.0,7.0,8.0,8.0,8.0,9.0,9.0,10.0,11.0,12.0,13.0,14.0,14.0,15.0,14.0,14.0,15.0,16.0,17.0,18.0,19.0,19.0,20.0,20.0,21.0,22.0,22.0,23.0,24.0,24.0,25.0,26.0,27.0,27.0,28.0,29.0,30.0,31.0,32.0,33.0,34.0,35.0,35.0,35.0,36.0,37.0,38.0,39.0,40.0,41.0,42.0,43.0,44.0,45.0,45.0,46.0,47.0,48.0,49.0,50.0,51.0,52.0,53.0,54.0,55.0,55.0,56.0,57.0,58.0,58.0,59.0,60.0,60.0,61.0,60.0,61.0,62.0,63.0,63.0,62.0,63.0,64.0,65.0,65.0,66.0,66.0,67.0,67.0,67.0,68.0,68.0,68.0,69.0,69.0,70.0,69.0,70.0,70.0,70.0,69.0,70.0,71.0,71.0,70.0,68.0,69.0,70.0,70.0,70.0,70.0,70.0,68.0,68.0,67.0,68.0,69.0,69.0,69.0,68.0,69.0,69.0,67.0,67.0,68.0,69.0,69.0,69.0,69.0,68.0,67.0,67.0,68.0,69.0,70.0,70.0,68.0,69.0,69.0,69.0,66.0,66.0,63.0,61.0,62.0,62.0,63.0,62.0,61.0,59.0,59.0,60.0,61.0,60.0,58.0,58.0,59.0,60.0,60.0,60.0,58.0,55.0,53.0,48.0,47.0,47.0,47.0,48.0,48.0,46.0,45.0,44.0,44.0,45.0,45.0,44.0,44.0,44.0,44.0,44.0,44.0,41.0,40.0,39.0,39.0,39.0,38.0,39.0,39.0,37.0,37.0,36.0,36.0,35.0,33.0,32.0,30.0,29.0,28.0,27.0,24.0,23.0,23.0,22.0,22.0,22.0,22.0,22.0,21.0,19.0,19.0,17.0,16.0,16.0,15.0,13.0,13.0,11.0,10.0,10.0,10.0,10.0,10.0,8.0,7.0,7.0,7.0,7.0,7.0,7.0,6.0,6.0,7.0,6.0,6.0,5.0,5.0,5.0,5.0,5.0,5.0,5.0,5.0,5.0,5.0,5.0,5.0,4.0,4.0,4.0,2.0,3.0,3.0,3.0,3.0,3.0,3.0,3.0,3.0,3.0,3.0,3.0,3.0,4.0,4.0,3.0,3.0,3.0,3.0,3.0,2.0,2.0,2.0,2.0,2.0,2.0,2.0,1.0,1.0,1.0,1.0,1.0,1.0,1.0,1.0,1.0,1.0,1.0,1.0,1.0,1.0,1.0,1.0,1.0,1.0,1.0,1.0,1.0,1.0,1.0,1.0,1.0,1.0,1.0,1.0,1.0,1.0,1.0,1.0,1.0,1.0,1.0,1.0,1.0,1.0,1.0,1.0,1.0,1.0,0.0,0.0,0.0,0.0,0.0,0.0,0.0,0.0,0.0,0.0,0.0,0.0,0.0,0.0,0.0,0.0,0.0,0.0,0.0,0.0,0.0,0.0,0.0,0.0,0.0,0.0,0.0,0.0,0.0,0.0,0.0,0.0,0.0,0.0,0.0,0.0,0.0,0.0,0.0,0.0,0.0,0.0,0.0,0.0,0.0,0.0,0.0,0.0,0.0,0.0,0.0,0.0,0.0,0.0,0.0,0.0,0.0,0.0,0.0,0.0,0.0,0.0,0.0,0.0,0.0,0.0,0.0,0.0,0.0,0.0,0.0,0.0,0.0,0.0,0.0,0.0,0.0,0.0,0.0,0.0,0.0,0.0,0.0,0.0,0.0,0.0,0.0,0.0,0.0,0.0,0.0,0.0,0.0,0.0,0.0,0.0,0.0,0.0,0.0,0.0,0.0,0.0,0.0,0.0,0.0,0.0,0.0,0.0,0.0,0.0,0.0,0.0,0.0,0.0,0.0,0.0,0.0,0.0,0.0,0.0,0.0,0.0,0.0,0.0,0.0,0.0,0.0,0.0,0.0,0.0,0.0,0.0,0.0,0.0,0.0,0.0,0.0,0.0,0.0,0.0,0.0,0.0,0.0,0.0,0.0,0.0,0.0,0.0,0.0,0.0,0.0,0.0,0.0,0.0,0.0,0.0,0.0,0.0,0.0,0.0,0.0,0.0,0.0,0.0,0.0,0.0,0.0,0.0,0.0,0.0,0.0,0.0,0.0,0.0,0.0,0.0,0.0,0.0,0.0,0.0,0.0,0.0,0.0,0.0,0.0,0.0,0.0,0.0,0.0,0.0,0.0,0.0,0.0,0.0,0.0,0.0,0.0,0.0,0.0,0.0,0.0,0.0,0.0,0.0,0.0,0.0,0.0,0.0,0.0,0.0,0.0,0.0,0.0,0.0,0.0,0.0,0.0,0.0,0.0,0.0,0.0,0.0,0.0,0.0,0.0,0.0,0.0,0.0,0.0,0.0,0.0,0.0,0.0,0.0,0.0,0.0,0.0,0.0,0.0,0.0,0.0,0.0,0.0,0.0,0.0,0.0,0.0,0.0,0.0,0.0,0.0,0.0,0.0,0.0,0.0,0.0,0.0,0.0,0.0,0.0,0.0,0.0,0.0,0.0,0.0,0.0,0.0,0.0,0.0,0.0,0.0,0.0,0.0,0.0,0.0,0.0,0.0,0.0,0.0,0.0,0.0,0.0,0.0,0.0,0.0,0.0,0.0,0.0,0.0,0.0,0.0,0.0,0.0,0.0,0.0,0.0,0.0,0.0,0.0,0.0,0.0,0.0,0.0,0.0,0.0,0.0,0.0,0.0,0.0,0.0,0.0,0.0,0.0,0.0,0.0,0.0,0.0,0.0,0.0,0.0,0.0,0.0,0.0,0.0,0.0,0.0,0.0,0.0,0.0,0.0,0.0,0.0,0.0,0.0,0.0,0.0,0.0,0.0,0.0,0.0,0.0,0.0,0.0,0.0,0.0,0.0,0.0,0.0,0.0,0.0,0.0,0.0,0.0,0.0,0.0,0.0,0.0],\\\"type\\\":\\\"scatter\\\",\\\"x\\\":[0.0,0.06278539539287954,0.06676698182674963,0.07365316277955068,0.0781049136647394,0.08712471885925663,0.09333086366375835,0.10190287588480612,0.10339249079883214,0.10929868329687777,0.11123671852901408,0.11172534001301716,0.11389923487862563,0.11425847681865718,0.12067509319120114,0.12102509093403298,0.12341536434953272,0.12356791016979832,0.1258711251618701,0.1300516264247043,0.1307077711766067,0.13074242132984554,0.13418681928680287,0.13428194309921582,0.1375424190399067,0.14169890611668307,0.147112301339098,0.14759875088150617,0.15233935177509542,0.1525561256324862,0.15306757698737977,0.1548605037719847,0.15582714653475707,0.15612156551728593,0.15672873668095666,0.1615222355878127,0.1616185294180327,0.1627320069896045,0.16664687820709598,0.16873558438498917,0.16966875195393544,0.1725442492909793,0.17296322819592178,0.17342510756948054,0.17425455510593968,0.17685967174666256,0.17740735386462209,0.18035353840920848,0.1816943942722585,0.18227366564303388,0.18312116468995968,0.18371524191004238,0.18464767696740622,0.1850976018720822,0.1853871882370274,0.18699304805269495,0.18959654638028642,0.18997692494968632,0.19018194066547553,0.19132223029651024,0.19174004703515832,0.19233187294393006,0.19274974071370568,0.19422333852179435,0.19470104448347939,0.1955006030244696,0.19570994481807755,0.19589883398871705,0.19600336800888568,0.1967808805940602,0.1987775089531553,0.20030455167340047,0.20132069977610587,0.20221464720021487,0.20327583463726492,0.20354388306225504,0.2052069070240202,0.2057690355100403,0.20710338386747024,0.2077559887804764,0.20805532694823103,0.208693691149943,0.20908253407588498,0.21022128062123732,0.21032294148941733,0.21110687032033904,0.21131846413417085,0.21177922276679387,0.2118740894597658,0.21345327808015718,0.2147991651681139,0.21521016272528423,0.21592057402429574,0.21624985357777016,0.2179766133832852,0.21912991934400172,0.22118807967999307,0.22139616055232017,0.22164816745201435,0.22271553127667862,0.223412014435871,0.22507586466748672,0.22615484614991435,0.22711105304428467,0.22755985753806762,0.22863373825153202,0.22918801774192593,0.23121108438775653,0.2312233730673412,0.2316040371847426,0.23218627594303018,0.23312215349722143,0.2335206903845484,0.23467090131300436,0.23504784592630437,0.2352661627429596,0.2353086016114001,0.23985571381256535,0.2404744563719117,0.2407149723575911,0.24140881125481511,0.2451972545976352,0.24554934361753855,0.24621034298459799,0.2471794021249802,0.24782154179367383,0.252646374642586,0.252897147283524,0.2530490173025561,0.25314792416137194,0.2539489333952898,0.2543595296930911,0.2549823543177838,0.25606343711253465,0.25825142672927104,0.25842510823673925,0.25921208016702757,0.2595630453064864,0.26044638878425147,0.260714653037456,0.26078523837019024,0.2608422179555883,0.2608426071094277,0.26426902552265025,0.2643394889412783,0.26455546395563884,0.26462302364762996,0.2646284156601731,0.265722379928685,0.26587920716207336,0.266622051569708,0.2669729308002764,0.2673077342738541,0.2677804712786809,0.26962751972592003,0.27005220188892953,0.27052491286470204,0.2706581988277201,0.27109522106756356,0.27318421129774917,0.2734786951636914,0.27661135802132425,0.2769015754584217,0.27759479790318364,0.27763353305492483,0.27784428928424576,0.27797940313473973,0.27860682650321333,0.27887829588921603,0.2818231929498793,0.28204073147118536,0.2829653297924699,0.2836279195080164,0.2837294425280483,0.2839652923995466,0.28429621125582294,0.28501831927427096,0.2870522774247145,0.2881851347748858,0.28822111221350916,0.28848476952541424,0.2886839065300352,0.29039649956585395,0.2905756550716782,0.2915535696238633,0.2933376584373944,0.2939339982531269,0.29477933495395087,0.29553472690381793,0.29626118367411125,0.29675810675630937,0.2984744327129217,0.2999445561033727,0.3003911275200868,0.30134924499120175,0.301456516389715,0.3034987541976379,0.3036847518705432,0.30387806635812636,0.30452946091476546,0.30463710014746803,0.30488604775248707,0.3049042494111903,0.3059523734066927,0.30627690918348993,0.3062860537408486,0.30716182463541913,0.3085568047023249,0.308840362947895,0.310313099930035,0.3110873997404401,0.3121613412869426,0.31253519565023474,0.31311718297784097,0.31341205930340194,0.3146015434536078,0.3158134447359672,0.31687383097024896,0.3180985096173861,0.3200374379996857,0.32409202623904465,0.32529811877171616,0.3254477002499193,0.3261859345237982,0.32780448809564827,0.3287104967012411,0.3290105666073412,0.33012976524801607,0.33071629663493407,0.3315461895518827,0.33238369072680785,0.3324985940963028,0.3338814265981299,0.334166446139104,0.3342107579930424,0.33436624899437967,0.3362903057573633,0.33704074670055106,0.3388459054335135,0.34082711078191724,0.3428924149707663,0.3449063877102772,0.3454830242734209,0.34614074576436915,0.3469196559023133,0.34745558736638693,0.34784132266857604,0.34793528500434273,0.3488289213894728,0.3509937921216689,0.35230836852052766,0.35317054140720355,0.3550929217447329,0.3551559097618945,0.35728895723063697,0.35765032681095676,0.3583690077936834,0.35897019456006996,0.3597658322102458,0.36054975643195536,0.3618763218508374,0.36451908871678507,0.36478007972041504,0.3656659694051711,0.3660903674484954,0.367337005241411,0.3716518879664195,0.37337743817361146,0.37351339494611996,0.3739367195090774,0.3761711030690972,0.37710105917041037,0.38056354004915766,0.3812022967937476,0.3812922390761614,0.381922776673619,0.3819987277877009,0.3839661213320669,0.38410474569385566,0.38561432246412103,0.3857974099881436,0.3859424106771306,0.38619286144889525,0.3862106438015092,0.3888374029457333,0.3920428760792808,0.3949219438958313,0.39516624998668404,0.39551883049780423,0.3960656608180093,0.3963253169884007,0.39811392184235256,0.3988803120524749,0.4003907342996104,0.40054758007019275,0.4031840944001379,0.403298368217029,0.4035680005122712,0.40470794654920955,0.4064585098188715,0.4073445844998825,0.4107087360216066,0.41078367645652264,0.4134395494944591,0.41348509383419385,0.4179383012997962,0.4197854793959449,0.42125921359256224,0.4218327718090251,0.42190000080512163,0.42393977717297787,0.42455831689593493,0.4252204263972483,0.42804653076601223,0.42843908549078574,0.4284673879994881,0.42927773792922513,0.4292809316646812,0.4296003817135971,0.4312080121120605,0.4314254509628378,0.4318093016256111,0.4352745190339838,0.4360618557294857,0.4360626924582673,0.4368444171849819,0.4375971449233772,0.43789579750566654,0.4382942034947902,0.43884323032265915,0.44085734362719337,0.440899641275514,0.44150099943074134,0.4416710791671788,0.4421291125689288,0.4428630669158148,0.4457981928308937,0.4473935886501942,0.44804492090049103,0.4511487238294846,0.452372894687577,0.4530307518668295,0.45304802261095756,0.45463919303807404,0.4558784273787971,0.4559672176215477,0.4572256125739265,0.4572897758541172,0.45892941051890596,0.45956579054086294,0.4608019454229392,0.46115038970036903,0.46186401594865584,0.4621336738754284,0.46270599716539323,0.4639865218802888,0.46620422316986715,0.46745905971449003,0.4688203876836644,0.4688924288924025,0.46983289518235266,0.47103535557820353,0.47135231365496794,0.47153830948060493,0.47212171681954945,0.4729544344806425,0.4756374874699933,0.47616289730581796,0.4767616885555468,0.4778232874162444,0.47821937098579004,0.47887642866179625,0.4789831069197177,0.4817177775437813,0.4830278086291878,0.4832101730470185,0.48538680207444684,0.48602881347344745,0.48756718384909914,0.48787362133678086,0.48808222247126387,0.48812208147844394,0.49086540989074584,0.4923254239746673,0.4928902565907055,0.4933961386168087,0.49616801708937697,0.4964832429548508,0.4970961503529187,0.4981933979127546,0.49870902742147494,0.5010987720442345,0.5044559365938164,0.5051791836687626,0.508170835102749,0.510067595587913,0.5108862235361693,0.5115465223891343,0.5130950829934573,0.5131257652390067,0.5133651446907146,0.5139927127636457,0.5149585290712964,0.5158854281726163,0.5167625013287086,0.5193408245531373,0.5243136502233527,0.5247161581823361,0.5249997973854978,0.5256194010279207,0.526138744031535,0.5265002919252937,0.5273008270548981,0.5276205551352066,0.5296845962182455,0.5297425529314689,0.5310435168289591,0.5331668781224063,0.533775806737986,0.534521419367498,0.5346925766671442,0.5352612546546553,0.5353597240133354,0.5389655182128946,0.5389968386577882,0.5392204478556281,0.5410003917867809,0.5414356600375626,0.5448699227300045,0.5455295339639631,0.5462318910829314,0.5468157142204197,0.5468820109961912,0.5473243061882977,0.5474800751489783,0.5505085967100563,0.5516731522502115,0.5555681330079691,0.5574580087559151,0.5606392802262162,0.5614556055576485,0.5620685620859179,0.5661499607080018,0.5671472304237652,0.5723806311979133,0.5731639484819241,0.5751232990038233,0.5758833557501131,0.579657402473424,0.579857764326389,0.5804116402273384,0.581062539336873,0.5833924500861251,0.5840555316010816,0.5866448829579364,0.5881358132216276,0.5883223398308939,0.5884439805733924,0.5889415570102696,0.589538180864894,0.5904184419662704,0.5910800559710387,0.5911071814288853,0.592041189370373,0.593637879557635,0.5941270463234756,0.5944070143360607,0.5951123832701407,0.59666026541611,0.5986125260843399,0.5988506229418806,0.5989674695964156,0.6025015111555806,0.6034059690658067,0.6037366723606862,0.6054041574874166,0.6066069733967554,0.6088580461922466,0.6119129501823645,0.6153688699961207,0.6157668705263335,0.6169195584749276,0.6194754864986577,0.6202586875301124,0.6205964206807252,0.6214864842067641,0.624521226090959,0.6257303508884525,0.6273488868076681,0.6275966916282256,0.6280223617866894,0.6286025056929914,0.6287762783743072,0.6289041841332981,0.6317335927633364,0.633278272237411,0.6350250127422589,0.6362849744438476,0.63731500074933,0.6374094032951302,0.6394356550152042,0.6397105012154717,0.6421287513385135,0.6457033964072294,0.6459348143794831,0.6463866428790835,0.647265446733936,0.6506559253042015,0.6522356743160441,0.6537554676861419,0.6547912251574447,0.6559162061723894,0.6568878554143777,0.6592594339359917,0.6624963668632503,0.6638674094232953,0.6639405845706592,0.6715722946712124,0.6717258883032513,0.672530800118267,0.6736062296932093,0.6742876333496081,0.6760724236213604,0.6763116752266195,0.6816558440157552,0.6822569437599416,0.6891203139612525,0.6913115887179961,0.694626734233548,0.6971233336592101,0.7040045006705207,0.7044917103728245,0.709068619844708,0.7124444034567663,0.712672187432042,0.7149213675023263,0.7170163333791666,0.7171675633169032,0.7190586207422023,0.7217993475942842,0.7241322574204893,0.7254747685873799,0.725825022784285,0.728354370846064,0.7299784965968995,0.7304092366530124,0.7326958528957306,0.7338571964836547,0.7346106734708903,0.7361221849939387,0.7366297755959372,0.7368646646646105,0.7408817343025428,0.7427378526520464,0.7469666264778824,0.7479894984710406,0.7479930517013503,0.7484527280357232,0.7486238363535644,0.7497217433287974,0.7521032354580143,0.7531613271054436,0.7534092930677087,0.754239340398049,0.7567727655748241,0.7573713444076257,0.7592301843015312,0.7607293872582073,0.7650501337570564,0.7701480842344564,0.7769796373416122,0.7774440099186478,0.7797257996126264,0.7799389934998177,0.7808158733548456,0.7808958569501956,0.7830478815319163,0.7846653186174588,0.7849175266827957,0.7862460566415894,0.7889982025283023,0.7925075913961122,0.7931485963931435,0.795082808048399,0.7967240494196265,0.7969905211904367,0.7996660645185375,0.8023124768855815,0.80413724825065,0.8069510690251838,0.8097971834685795,0.8105650497724282,0.8112910201068336,0.8120935907843341,0.8136249232564127,0.8145865333919945,0.8157641845670729,0.816556979068836,0.8191618825042482,0.8191933844859071,0.8197139949250561,0.8220660595700794,0.8221209757029079,0.8240963313942513,0.8252675032496573,0.8267166367506512,0.8275992882396884,0.8282339993104673,0.8298336143372926,0.830875751893293,0.8316255200617065,0.8317859365127926,0.8349778269253456,0.8378241869788856,0.8381050988825296,0.8382504489494491,0.8406887445039344,0.8433113346525919,0.8446874114875458,0.8469039222326117,0.8477390834577488,0.8479174981674832,0.8493736597637325,0.8499412523272395,0.8502499288181229,0.8525864282934357,0.8543820930847432,0.8552618515326381,0.8563799623701113,0.8569099833528968,0.8572763991699383,0.857279738964721,0.8579286142799802,0.8580183624843952,0.8580610997492013,0.8604739550521621,0.8624953990112999,0.8628171322979362,0.8631991871346675,0.8633364356529907,0.8651426659410524,0.8664713484175988,0.8668862692280641,0.8674450234560637,0.8675112704931328,0.8679054434983848,0.868070434961768,0.868499484655813,0.8686146887780253,0.869654613451261,0.870304457934522,0.8718855041054052,0.8760360287029932,0.8764125863917472,0.8764843590520497,0.8766031578953831,0.8796571956138315,0.8801763644200262,0.8812720100961937,0.8815181135596597,0.8825145894512401,0.8842574225810959,0.8857739676197819,0.8859309965523056,0.886266616538623,0.8879381798856776,0.8882753256834203,0.888964927030146,0.8903170893047637,0.8908057420358169,0.8923682442748133,0.8941246375074826,0.8948292416384098,0.8969183022399203,0.897546423739109,0.8975807050039651,0.8981912736669858,0.8987533704594266,0.8987741923321431,0.8994659865957026,0.8996684910832285,0.9002570576300124,0.9004770343289458,0.9007902077875312,0.9022607971149522,0.9028241476005934,0.9029438715399362,0.9040610739800096,0.9045636903763792,0.9049355675891977,0.9072468973929231,0.9073086015486633,0.907370092579676,0.9089959266554924,0.9090630884852874,0.9091278479464044,0.90977026406459,0.9100502211704671,0.9117094364469404,0.9117895697758402,0.9125135418098378,0.9142317177335321,0.9147326532974801,0.9148633281053353,0.9154840391408607,0.9165842981502622,0.9169307790708002,0.9173712343239347,0.9176919159540684,0.9181658319844176,0.9192638786999182,0.9193701768668582]}],{\\\"showlegend\\\":false,\\\"hovermode\\\":\\\"closest\\\",\\\"height\\\":800,\\\"margin\\\":{\\\"l\\\":50,\\\"b\\\":50,\\\"r\\\":50,\\\"t\\\":50},\\\"scene\\\":{\\\"aspectratio\\\":{\\\"y\\\":77.22678175396385,\\\"x\\\":1.0},\\\"aspectmode\\\":\\\"manual\\\"},\\\"width\\\":1000},{}); gd.on(\\\"plotly_hover\\\",(function (data){var filtered_data=WebIO.PlotlyCommands.filterEventData(gd,data,\\\"hover\\\"); return !(filtered_data.isnil) ? (WebIO.setval({\\\"name\\\":\\\"hover\\\",\\\"scope\\\":\\\"18424657566486111050\\\",\\\"id\\\":\\\"ob_81\\\",\\\"type\\\":\\\"observable\\\"},filtered_data.out)) : undefined})); gd.on(\\\"plotly_unhover\\\",(function (){return WebIO.setval({\\\"name\\\":\\\"hover\\\",\\\"scope\\\":\\\"18424657566486111050\\\",\\\"id\\\":\\\"ob_81\\\",\\\"type\\\":\\\"observable\\\"},{})})); gd.on(\\\"plotly_selected\\\",(function (data){var filtered_data=WebIO.PlotlyCommands.filterEventData(gd,data,\\\"selected\\\"); return !(filtered_data.isnil) ? (WebIO.setval({\\\"name\\\":\\\"selected\\\",\\\"scope\\\":\\\"18424657566486111050\\\",\\\"id\\\":\\\"ob_82\\\",\\\"type\\\":\\\"observable\\\"},filtered_data.out)) : undefined})); gd.on(\\\"plotly_deselect\\\",(function (){return WebIO.setval({\\\"name\\\":\\\"selected\\\",\\\"scope\\\":\\\"18424657566486111050\\\",\\\"id\\\":\\\"ob_82\\\",\\\"type\\\":\\\"observable\\\"},{})})); gd.on(\\\"plotly_relayout\\\",(function (data){var filtered_data=WebIO.PlotlyCommands.filterEventData(gd,data,\\\"relayout\\\"); return !(filtered_data.isnil) ? (WebIO.setval({\\\"name\\\":\\\"relayout\\\",\\\"scope\\\":\\\"18424657566486111050\\\",\\\"id\\\":\\\"ob_84\\\",\\\"type\\\":\\\"observable\\\"},filtered_data.out)) : undefined})); return gd.on(\\\"plotly_click\\\",(function (data){var filtered_data=WebIO.PlotlyCommands.filterEventData(gd,data,\\\"click\\\"); return !(filtered_data.isnil) ? (WebIO.setval({\\\"name\\\":\\\"click\\\",\\\"scope\\\":\\\"18424657566486111050\\\",\\\"id\\\":\\\"ob_83\\\",\\\"type\\\":\\\"observable\\\"},filtered_data.out)) : undefined}))}));\\n    (WebIO.importBlock({\\\"data\\\":[{\\\"name\\\":\\\"Plotly\\\",\\\"type\\\":\\\"js\\\",\\\"url\\\":\\\"\\/assetserver\\/9147360d5c3613700b42fe357486d9f33f779d9b-plotly-latest.min.js\\\"},{\\\"name\\\":null,\\\"type\\\":\\\"js\\\",\\\"url\\\":\\\"\\/assetserver\\/9f6ebd16eafa02aacf860d0fd74c255df175511a-plotly_webio.bundle.js\\\"}],\\\"type\\\":\\\"async_block\\\"})).then((imports) => handler.apply(this, imports));\\n}\\n\"],\"observables\":{\"_toImage\":{\"sync\":false,\"id\":\"ob_88\",\"value\":{}},\"hover\":{\"sync\":false,\"id\":\"ob_81\",\"value\":{}},\"selected\":{\"sync\":false,\"id\":\"ob_82\",\"value\":{}},\"__gd_contents\":{\"sync\":false,\"id\":\"ob_86\",\"value\":{}},\"click\":{\"sync\":false,\"id\":\"ob_83\",\"value\":{}},\"image\":{\"sync\":true,\"id\":\"ob_85\",\"value\":\"\"},\"__get_gd_contents\":{\"sync\":false,\"id\":\"ob_90\",\"value\":\"\"},\"_downloadImage\":{\"sync\":false,\"id\":\"ob_89\",\"value\":{}},\"relayout\":{\"sync\":false,\"id\":\"ob_84\",\"value\":{}},\"_commands\":{\"sync\":false,\"id\":\"ob_87\",\"value\":[]}}},\"children\":[{\"props\":{\"id\":\"plot-ae8d1abb-1c62-4a43-ba88-e5328bb418bf\"},\"nodeType\":\"DOM\",\"type\":\"node\",\"instanceArgs\":{\"namespace\":\"html\",\"tag\":\"div\"},\"children\":[]}]},\n",
       "            window,\n",
       "        );\n",
       "    } else {\n",
       "        document\n",
       "            .querySelector('[data-webio-mountpoint=\"8649937570077275502\"]')\n",
       "            .innerHTML = (\n",
       "                '<div style=\"padding: 1em; background-color: #f8d6da; border: 1px solid #f5c6cb\">' +\n",
       "                '<p><strong>WebIO not detected.</strong></p>' +\n",
       "                '<p>Please read ' +\n",
       "                '<a href=\"https://juliagizmos.github.io/WebIO.jl/latest/troubleshooting/not-detected/\" target=\"_blank\">the troubleshooting guide</a> ' +\n",
       "                'for more information on how to resolve this issue.</p>' +\n",
       "                '<p><a href=\"https://juliagizmos.github.io/WebIO.jl/latest/troubleshooting/not-detected/\" target=\"_blank\">https://juliagizmos.github.io/WebIO.jl/latest/troubleshooting/not-detected/</a></p>' +\n",
       "                '</div>'\n",
       "            );\n",
       "    }\n",
       "    </script>\n",
       "</div>\n"
      ],
      "text/plain": [
       "data: [\n",
       "  \"scatter with fields line, mode, type, x, and y\"\n",
       "]\n",
       "\n",
       "layout: \"layout with fields height, hovermode, margin, scene, showlegend, and width\"\n",
       "\n"
      ]
     },
     "execution_count": 302,
     "metadata": {
      "@webio": {
       "kernelId": "914b7f7b-44c0-4948-802f-4b8404ada8ee"
      },
      "application/vnd.webio.node+json": {
       "kernelId": "f8050880-de38-466a-b171-09888eb35dd4"
      }
     },
     "output_type": "execute_result"
    }
   ],
   "source": [
    "plotbetticurve_pjs(C,dim=1)"
   ]
  },
  {
   "cell_type": "code",
   "execution_count": 293,
   "metadata": {
    "Collapsed": "false"
   },
   "outputs": [
    {
     "data": {
      "text/plain": [
       "get_distance (generic function with 2 methods)"
      ]
     },
     "execution_count": 293,
     "metadata": {},
     "output_type": "execute_result"
    }
   ],
   "source": [
    "function get_distance(matrix, pos = true)\n",
    "    if !pos\n",
    "        matrix = matrix.*-1\n",
    "    end\n",
    "    matrix[findall(matrix.< 0)].=0;\n",
    "    #distC=((matrix./10).+2).^(-1)\n",
    "    distC = ((matrix.-1).*(-1)).^0.5;\n",
    "    distC[diagind(distC)].= 0; \n",
    "    return distC\n",
    "end"
   ]
  },
  {
   "cell_type": "code",
   "execution_count": 6,
   "metadata": {
    "Collapsed": "false"
   },
   "outputs": [
    {
     "data": {
      "text/plain": [
       "TDA (generic function with 1 method)"
      ]
     },
     "execution_count": 6,
     "metadata": {},
     "output_type": "execute_result"
    }
   ],
   "source": [
    "function TDA(matrix,matrix_name)\n",
    "    dist_mat=get_distance(matrix)\n",
    "    C=eirene(dist_mat,maxdim=2)\n",
    "    #filename=string(cur_dir,\"TDA_Results/\",matrix_name,\"_cycle_reps.txt\")\n",
    "    #write_barcode_to_file(C,filename)\n",
    "    return C\n",
    "end\n",
    "    "
   ]
  },
  {
   "cell_type": "code",
   "execution_count": 7,
   "metadata": {
    "Collapsed": "false"
   },
   "outputs": [
    {
     "data": {
      "text/plain": [
       "print_all_reprs (generic function with 1 method)"
      ]
     },
     "execution_count": 7,
     "metadata": {},
     "output_type": "execute_result"
    }
   ],
   "source": [
    "function print_all_reprs(C, dim)\n",
    "    b=barcode(C,dim=dim)\n",
    "    num=size(b)[1]\n",
    "    intervals=[string(\"Dimension: \",dim,\"\\n\")]\n",
    "    println(\"Printing\",intervals[1])\n",
    "    for j in collect(1:size(b)[1])\n",
    "        ints=@sprintf \"[%.3f, %.3f): \" b[j,1] b[j,2]\n",
    "        repr=classrep(C, class=j, dim=dim)\n",
    "        simplList=[]\n",
    "        for i in collect(1:size(repr)[2])\n",
    "            push!(simplList,\"[\"*join(string.(repr[:,i]),\",\")*\"]\")\n",
    "        end\n",
    "        push!(intervals, string(ints, join(simplList,\"+\")))\n",
    "    end\n",
    "    return sort(intervals)\n",
    "end"
   ]
  },
  {
   "cell_type": "code",
   "execution_count": 8,
   "metadata": {
    "Collapsed": "false"
   },
   "outputs": [
    {
     "data": {
      "text/plain": [
       "write_barcode_to_file (generic function with 1 method)"
      ]
     },
     "execution_count": 8,
     "metadata": {},
     "output_type": "execute_result"
    }
   ],
   "source": [
    "function write_barcode_to_file(C, filename; maxdim = 2)\n",
    "\n",
    "    open(filename,\"w\") do f\n",
    "        \n",
    "        for dim in collect(0:maxdim)\n",
    "        \n",
    "            b = barcode(C, dim = dim)\n",
    "            num = size(b)[1]\n",
    "        \n",
    "            write(f,string(\"Dimension: \", dim,\"\\n\"))\n",
    "            #println(string(\"Dimension: \", dim,\"\\n\"))\n",
    "                  \n",
    "            \n",
    "            for j in collect(1:num)\n",
    "    \n",
    "                ints = @sprintf \"[%.3f, %.3f): \" b[j,1] b[j,2]\n",
    "                repr = classrep(C, class = j, dim = dim)\n",
    "                part1 = @sprintf \"[%.3f, %.3f): \" b[j,1] b[j,2]\n",
    "            \n",
    "                simplList = []\n",
    "                for i in collect(1:size(repr)[2]) \n",
    "                    push!(simplList,\"[\"*join(string.(repr[:,i]),\",\")*\"]\")\n",
    "                end \n",
    "            \n",
    "                part2 = string(part1, join(simplList,\"+\"),\"\\n\")\n",
    "                write(f,part2)\n",
    "            end\n",
    "        end\n",
    "        \n",
    "    end\n",
    "end"
   ]
  },
  {
   "cell_type": "code",
   "execution_count": 15,
   "metadata": {
    "Collapsed": "false",
    "scrolled": true
   },
   "outputs": [
    {
     "ename": "UndefVarError",
     "evalue": "UndefVarError: savefig not defined",
     "output_type": "error",
     "traceback": [
      "UndefVarError: savefig not defined",
      "",
      "Stacktrace:",
      " [1] top-level scope at .\\In[15]:5"
     ]
    }
   ],
   "source": [
    "for i in collect(1:size(groups_of_models)[1])\n",
    "    C=TDA(groups_of_models[i],groups_of_variable_names[i])\n",
    "    #for dim in collect(0:2)\n",
    "    #plotbarcode_pjs(C,dim=1)\n",
    "    #savefig(string(cur_dir,\"TDA_Results_Images/barcode_\",groups_of_variable_names[i],\"_dim\",1,\".png\"))\n",
    "    #plotbetticurve_pjs(C,dim=1)\n",
    "    #savefig(string(cur_dir,\"TDA_Results_Images/betti_curve_\",groups_of_variable_names[i],\"_dim\",1,\".png\"))\n",
    "    end\n",
    "end"
   ]
  },
  {
   "cell_type": "markdown",
   "metadata": {
    "Collapsed": "false"
   },
   "source": [
    "Старые функции для доступа к данным"
   ]
  },
  {
   "cell_type": "code",
   "execution_count": 2,
   "metadata": {
    "Collapsed": "false"
   },
   "outputs": [
    {
     "data": {
      "text/plain": [
       "get_access_to_data (generic function with 1 method)"
      ]
     },
     "execution_count": 2,
     "metadata": {},
     "output_type": "execute_result"
    }
   ],
   "source": [
    "function get_access_to_data(cur_dir, distr_name,n_blocks, n_nodes)\n",
    "    folder_path=string(cur_dir,distr_name,\"_Distr/\")\n",
    "    substr=string(distr_name,\"_\",n_blocks,\"b_\",n_nodes,\"n_\")\n",
    "    file_path=\"\"\n",
    "    file_path_enh=\"\"\n",
    "    for i in collect(1:size(readdir(folder_path))[1])\n",
    "        if occursin(substr,readdir(folder_path)[i])==true\n",
    "            if occursin(\"enh\",readdir(folder_path)[i])==false\n",
    "                file_path=string(folder_path,readdir(folder_path)[i])\n",
    "            else \n",
    "                file_path_enh=string(folder_path,readdir(folder_path)[i])\n",
    "        end\n",
    "        end\n",
    "    end\n",
    "    model_matrix=matread(file_path)[\"standard_model\"]\n",
    "    model_matrix_enh=matread(file_path_enh)[\"node_enhanced_model\"]\n",
    "    return model_matrix, model_matrix_enh\n",
    "    end"
   ]
  },
  {
   "cell_type": "code",
   "execution_count": 3,
   "metadata": {
    "Collapsed": "false"
   },
   "outputs": [
    {
     "data": {
      "text/plain": [
       "grouping_models (generic function with 1 method)"
      ]
     },
     "execution_count": 3,
     "metadata": {},
     "output_type": "execute_result"
    }
   ],
   "source": [
    "function grouping_models(cur_dir,params_list,distr_name)\n",
    "    list_of_models=[]\n",
    "    list_of_models_names=[]\n",
    "    for i in collect(1:size(params_list)[1])\n",
    "        append!(list_of_models,get_access_to_data(cur_dir,distr_name,params_list[i][1],params_list[i][2]))\n",
    "        push!(list_of_models_names, string(distr_name[1],\"_\",params_list[i][1],\"b_\",params_list[i][2],\"n\"))\n",
    "        push!(list_of_models_names, string(distr_name[1],\"_\",params_list[i][1],\"b_\",params_list[i][2],\"n_enh\"))\n",
    "        end\n",
    "    return list_of_models,list_of_models_names\n",
    "end"
   ]
  },
  {
   "cell_type": "code",
   "execution_count": 4,
   "metadata": {
    "Collapsed": "false"
   },
   "outputs": [],
   "source": [
    "cur_dir=\"C:/Users/806618/TDA_model_data/\";\n",
    "distr_names=[\"Normal\",\"Poisson\",\"Exponential\"]\n",
    "params_list=[(3,5),(3,7),(4,5),(5,7),(6,5)]\n",
    "\n",
    "groups_of_models=[]\n",
    "groups_of_variable_names=[]\n",
    "for distr in distr_names\n",
    "    append!(groups_of_models,grouping_models(cur_dir,params_list,distr)[1])\n",
    "    append!(groups_of_variable_names,grouping_models(cur_dir,params_list,distr)[2])\n",
    "end"
   ]
  }
 ],
 "metadata": {
  "@webio": {
   "lastCommId": "f9663c45-a3e6-4ba2-b1d0-d8e57ceb3173",
   "lastKernelId": "914b7f7b-44c0-4948-802f-4b8404ada8ee"
  },
  "kernelspec": {
   "display_name": "Julia 1.4.1",
   "language": "julia",
   "name": "julia-1.4"
  },
  "language_info": {
   "file_extension": ".jl",
   "mimetype": "application/julia",
   "name": "julia",
   "version": "1.4.1"
  }
 },
 "nbformat": 4,
 "nbformat_minor": 4
}
