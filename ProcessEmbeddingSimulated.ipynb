{
 "cells": [
  {
   "cell_type": "code",
   "execution_count": null,
   "metadata": {
    "Collapsed": "false"
   },
   "outputs": [],
   "source": [
    "from scipy.spatial.distance import cosine\n",
    "import numpy as np\n",
    "import pandas as pd\n",
    "import seaborn as sns\n",
    "import h5py\n",
    "import umap\n",
    "import hdbscan\n",
    "import networkx as nx\n",
    "from node2vec import Node2Vec\n",
    "from TDAembedding import TDAembedding\n",
    "import matplotlib.pyplot as plt\n",
    "from scipy.io import savemat,loadmat\n",
    "%load_ext autoreload\n",
    "%autoreload 2\n",
    "%matplotlib inline"
   ]
  },
  {
   "cell_type": "markdown",
   "metadata": {
    "Collapsed": "false"
   },
   "source": [
    "# Load data\n",
    "\n",
    "Simulated WSBM data (see NetGlowExmpls.ipynb)"
   ]
  },
  {
   "cell_type": "code",
   "execution_count": null,
   "metadata": {
    "Collapsed": "false"
   },
   "outputs": [],
   "source": [
    "data = loadmat(\"test_matrices/sim_data.mat\")"
   ]
  },
  {
   "cell_type": "code",
   "execution_count": null,
   "metadata": {
    "Collapsed": "false"
   },
   "outputs": [],
   "source": [
    "data.keys()"
   ]
  },
  {
   "cell_type": "markdown",
   "metadata": {
    "Collapsed": "false"
   },
   "source": [
    "# Comparing embedding arised from node2vec and TDA\n",
    "\n",
    "Dimension reduction was performed with UMAP\n"
   ]
  },
  {
   "cell_type": "markdown",
   "metadata": {
    "Collapsed": "false"
   },
   "source": [
    "### Utils functions \n",
    "For node2vec and TDA embedding with drawing in UMAP"
   ]
  },
  {
   "cell_type": "code",
   "execution_count": null,
   "metadata": {
    "Collapsed": "false"
   },
   "outputs": [],
   "source": [
    "n = 16\n",
    "target = np.array([i // (n // 4) for i in range(n)]) # split the graph evenly"
   ]
  },
  {
   "cell_type": "code",
   "execution_count": null,
   "metadata": {
    "Collapsed": "false"
   },
   "outputs": [],
   "source": [
    "def draw_node2vec(matrix, target,n_neighbors = 8, nettype = \"Assortative network example\",annotate = False):\n",
    "    graph = nx.from_numpy_matrix(matrix)\n",
    "    node2vec = Node2Vec(graph, dimensions=25, walk_length=15, p=0.5,q=1, num_walks=200, workers=4)\n",
    "    model = node2vec.fit(window=10, min_count=1, batch_words=4)\n",
    "    nodes = [str(node) for node in range(matrix.shape[0])]\n",
    "    vecs = []\n",
    "    for node in nodes:\n",
    "        vecs.append(model.wv.__getitem__([node]))\n",
    "    node2vec_ebds = np.squeeze(np.array(vecs))   \n",
    "    reducer = umap.UMAP(n_neighbors=n_neighbors, metric = 'cosine', n_components=2)\n",
    "    u_emb = reducer.fit_transform(node2vec_ebds)\n",
    "    plt.scatter(u_emb[:, 0], u_emb[:, 1], c=target, cmap='viridis', s=25)\n",
    "    plt.colorbar(boundaries=np.arange(5)-0.5).set_ticks(np.arange(4))\n",
    "    if annotate:\n",
    "        for i, txt in enumerate(nodes):\n",
    "            plt.annotate(txt, (u_emb[i, 0], u_emb[i, 1]))\n",
    "    plt.gca().set_aspect('equal', 'datalim')\n",
    "    plt.title(f'UMAP projection of the node2vec embedding: \\n{nettype}', fontsize=14);\n",
    "    plt.savefig('imgs/'+'Node2vec_'.join(nettype.split())+'.png')\n",
    "    plt.show()\n",
    "    return u_emb, node2vec_ebds\n",
    "\n",
    "def find_TDA_embded(path_to_int, num_nodes):\n",
    "    embd = TDAembedding(path_to_int, num_nodes=num_nodes)\n",
    "    intervals = embd.read_intervals(h0=True, h1=True)\n",
    "    df0 = embd.create_h0_embedding(intervals=intervals)\n",
    "    df1 = embd.create_h1_embedding(intervals=intervals)\n",
    "    return embd\n",
    "def draw_TDA_umap(path_to_int, nettype = \"Assortative\", b1coeff= 0.5, n_neighbors = 4, metric = 'cosine', annotate = False):\n",
    "    \n",
    "    emb = find_TDA_embded(path_to_int, num_nodes=len(target))\n",
    "    df0 = emb.h0embedding\n",
    "    df1 = b1coeff*emb.h1embedding\n",
    "    dataF = pd.concat([df0, df1], axis=1).values\n",
    "    reducer = umap.UMAP(n_neighbors=n_neighbors, metric = 'cosine', n_components=2)\n",
    "    u_emb = reducer.fit_transform(dataF)\n",
    "    plt.scatter(u_emb[:, 0], u_emb[:, 1], c=target, cmap='viridis', s=25)\n",
    "    plt.colorbar(boundaries=np.arange(5)-0.5).set_ticks(np.arange(4))\n",
    "    nodes = [str(node) for node in range(len(target))]\n",
    "    if annotate:\n",
    "        for i, txt in enumerate(nodes):\n",
    "            plt.annotate(txt, (u_emb[i, 0], u_emb[i, 1]))\n",
    "    plt.gca().set_aspect('equal', 'datalim')\n",
    "    \n",
    "    plt.title(f'UMAP projection of the TDA embedding: \\n{nettype}', fontsize=14);\n",
    "    plt.savefig('imgs/'+'TDA_'.join(nettype.split())+'.png')\n",
    "\n",
    "    plt.show()\n",
    "    return u_emb\n",
    "def get_short(value_short, df1 = None):\n",
    "    names = list(df1.columns)[:-2]\n",
    "    short = [i for i,name in enumerate(names) if float(name.split()[0].split('-')[0]) < value_short]\n",
    "    long= [i for i,name in enumerate(names) if float(name.split()[0].split('-')[0]) >= value_short]\n",
    "\n",
    "    return short, long"
   ]
  },
  {
   "cell_type": "markdown",
   "metadata": {
    "Collapsed": "false"
   },
   "source": [
    "## Assortative network example"
   ]
  },
  {
   "cell_type": "code",
   "execution_count": null,
   "metadata": {
    "Collapsed": "false"
   },
   "outputs": [],
   "source": [
    "matrix = data['AssortS']\n",
    "plt.imshow(matrix)\n",
    "path_to_int = 'ints/ints_assort.txt'"
   ]
  },
  {
   "cell_type": "markdown",
   "metadata": {
    "Collapsed": "false"
   },
   "source": [
    "### Node2vec embedding"
   ]
  },
  {
   "cell_type": "code",
   "execution_count": null,
   "metadata": {
    "Collapsed": "false"
   },
   "outputs": [],
   "source": [
    "u_emb, node2vec_ebds = draw_node2vec(matrix, target,n_neighbors = 8, nettype = \"Assortative network example\",annotate = False)"
   ]
  },
  {
   "cell_type": "markdown",
   "metadata": {
    "Collapsed": "false"
   },
   "source": [
    "### TDA Embedding"
   ]
  },
  {
   "cell_type": "code",
   "execution_count": null,
   "metadata": {
    "Collapsed": "false"
   },
   "outputs": [],
   "source": [
    "u_emb = draw_TDA_umap(path_to_int,n_neighbors = 4, nettype = \"Assortive network example\")"
   ]
  },
  {
   "cell_type": "markdown",
   "metadata": {
    "Collapsed": "false"
   },
   "source": [
    "## Dissortative network example"
   ]
  },
  {
   "cell_type": "code",
   "execution_count": null,
   "metadata": {
    "Collapsed": "false"
   },
   "outputs": [],
   "source": [
    "matrix = data['DissortS']\n",
    "path_to_int = 'ints/ints_dissort.txt'\n",
    "plt.imshow(matrix)"
   ]
  },
  {
   "cell_type": "markdown",
   "metadata": {
    "Collapsed": "false"
   },
   "source": [
    "### Node2vec embedding"
   ]
  },
  {
   "cell_type": "code",
   "execution_count": null,
   "metadata": {
    "Collapsed": "false"
   },
   "outputs": [],
   "source": [
    "u_emb, node2vec_ebds = draw_node2vec(matrix, target,n_neighbors = 8, nettype = \"Dissortative network example\",annotate = False)"
   ]
  },
  {
   "cell_type": "code",
   "execution_count": null,
   "metadata": {
    "Collapsed": "false"
   },
   "outputs": [],
   "source": [
    "u_emb = draw_TDA_umap(path_to_int, b1coeff = 0.3, n_neighbors = 5, nettype = \"Dissortative network example\")"
   ]
  },
  {
   "cell_type": "markdown",
   "metadata": {
    "Collapsed": "false"
   },
   "source": [
    "##  Core-periphery network example"
   ]
  },
  {
   "cell_type": "code",
   "execution_count": null,
   "metadata": {
    "Collapsed": "false"
   },
   "outputs": [],
   "source": [
    "matrix = data['CorePS']\n",
    "path_to_int = 'ints/ints_core.txt'\n",
    "plt.imshow(matrix)"
   ]
  },
  {
   "cell_type": "code",
   "execution_count": null,
   "metadata": {
    "Collapsed": "false"
   },
   "outputs": [],
   "source": [
    "u_emb, node2vec_ebds = draw_node2vec(matrix, target,n_neighbors = 8, nettype = \"Core-periphery network example\",annotate = False)"
   ]
  },
  {
   "cell_type": "code",
   "execution_count": null,
   "metadata": {
    "Collapsed": "false"
   },
   "outputs": [],
   "source": [
    "u_emb = draw_TDA_umap(path_to_int, b1coeff = 1.1, n_neighbors = 5, nettype = \"Core-periphery network example\")"
   ]
  },
  {
   "cell_type": "markdown",
   "metadata": {
    "Collapsed": "false"
   },
   "source": [
    "## Ordered"
   ]
  },
  {
   "cell_type": "code",
   "execution_count": null,
   "metadata": {
    "Collapsed": "false"
   },
   "outputs": [],
   "source": [
    "matrix = data['OrderedS']\n",
    "path_to_int = 'ints/ints_ordered.txt'\n",
    "plt.imshow(matrix)"
   ]
  },
  {
   "cell_type": "code",
   "execution_count": null,
   "metadata": {
    "Collapsed": "false"
   },
   "outputs": [],
   "source": [
    "u_emb, node2vec_ebds = draw_node2vec(matrix, target,n_neighbors = 8, nettype = \"Ordered network example\",annotate = False)"
   ]
  },
  {
   "cell_type": "code",
   "execution_count": null,
   "metadata": {
    "Collapsed": "false"
   },
   "outputs": [],
   "source": [
    "u_emb = draw_TDA_umap(path_to_int, b1coeff = 0.8, n_neighbors = 5, nettype = \"Ordered network example\")"
   ]
  },
  {
   "cell_type": "markdown",
   "metadata": {
    "Collapsed": "false"
   },
   "source": [
    "## Hierarhical structure\n"
   ]
  },
  {
   "cell_type": "code",
   "execution_count": null,
   "metadata": {
    "Collapsed": "false"
   },
   "outputs": [],
   "source": [
    "matrix = data['HierarS']\n",
    "path_to_int = 'ints/ints_hierarhical.txt'\n",
    "plt.imshow(matrix)"
   ]
  },
  {
   "cell_type": "code",
   "execution_count": null,
   "metadata": {
    "Collapsed": "false"
   },
   "outputs": [],
   "source": [
    "u_emb, node2vec_ebds = draw_node2vec(matrix, target,n_neighbors = 6, nettype = \"Hierarhical network example\",annotate = False)"
   ]
  },
  {
   "cell_type": "code",
   "execution_count": null,
   "metadata": {
    "Collapsed": "false"
   },
   "outputs": [],
   "source": [
    "u_emb = draw_TDA_umap(path_to_int, b1coeff = 0.5, n_neighbors = 6, nettype = \"Hierarhical network example\")"
   ]
  },
  {
   "cell_type": "markdown",
   "metadata": {
    "Collapsed": "false"
   },
   "source": [
    "## One dominant block"
   ]
  },
  {
   "cell_type": "code",
   "execution_count": null,
   "metadata": {
    "Collapsed": "false"
   },
   "outputs": [],
   "source": [
    "matrix = data['DominS']\n",
    "path_to_int = 'ints/ints_dominant.txt'\n",
    "plt.imshow(matrix)"
   ]
  },
  {
   "cell_type": "code",
   "execution_count": null,
   "metadata": {
    "Collapsed": "false"
   },
   "outputs": [],
   "source": [
    "u_emb, node2vec_ebds = draw_node2vec(matrix, target,n_neighbors = 6, nettype = \"Dominant network example\",annotate = False)"
   ]
  },
  {
   "cell_type": "code",
   "execution_count": null,
   "metadata": {
    "Collapsed": "false"
   },
   "outputs": [],
   "source": [
    "u_emb = draw_TDA_umap(path_to_int, b1coeff = 0.5, n_neighbors = 5, nettype = \"Dominant  network example\")"
   ]
  },
  {
   "cell_type": "code",
   "execution_count": null,
   "metadata": {
    "Collapsed": "false"
   },
   "outputs": [],
   "source": []
  }
 ],
 "metadata": {
  "kernelspec": {
   "display_name": "Python 3",
   "language": "python",
   "name": "python3"
  },
  "language_info": {
   "codemirror_mode": {
    "name": "ipython",
    "version": 3
   },
   "file_extension": ".py",
   "mimetype": "text/x-python",
   "name": "python",
   "nbconvert_exporter": "python",
   "pygments_lexer": "ipython3",
   "version": "3.7.6"
  }
 },
 "nbformat": 4,
 "nbformat_minor": 4
}
