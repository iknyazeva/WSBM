{
 "cells": [
  {
   "cell_type": "code",
   "execution_count": 1,
   "metadata": {
    "Collapsed": "false"
   },
   "outputs": [
    {
     "data": {
      "text/html": [
       "<script>\n",
       "// Immediately-invoked-function-expression to avoid global variables.\n",
       "(function() {\n",
       "    var warning_div = document.getElementById(\"webio-warning-6941429845270216589\");\n",
       "    var hide = function () {\n",
       "        var script = document.getElementById(\"webio-setup-13172843794654127292\");\n",
       "        var parent = script && script.parentElement;\n",
       "        var grandparent = parent && parent.parentElement;\n",
       "        if (grandparent) {\n",
       "            grandparent.style.display = \"none\";\n",
       "        }\n",
       "        warning_div.style.display = \"none\";\n",
       "    };\n",
       "    if (typeof Jupyter !== \"undefined\") {\n",
       "        console.log(\"WebIO detected Jupyter notebook environment.\");\n",
       "        // Jupyter notebook.\n",
       "        var extensions = (\n",
       "            Jupyter\n",
       "            && Jupyter.notebook.config.data\n",
       "            && Jupyter.notebook.config.data.load_extensions\n",
       "        );\n",
       "        if (extensions && extensions[\"webio-jupyter-notebook\"]) {\n",
       "            // Extension already loaded.\n",
       "            console.log(\"Jupyter WebIO nbextension detected; not loading ad-hoc.\");\n",
       "            hide();\n",
       "            return;\n",
       "        }\n",
       "    } else if (window.location.pathname.includes(\"/lab\")) {\n",
       "        // Guessing JupyterLa\n",
       "        console.log(\"Jupyter Lab detected; make sure the @webio/jupyter-lab-provider labextension is installed.\");\n",
       "        hide();\n",
       "        return;\n",
       "    }\n",
       "})();\n",
       "\n",
       "</script>\n",
       "<p\n",
       "    id=\"webio-warning-6941429845270216589\"\n",
       "    class=\"output_text output_stderr\"\n",
       "    style=\"padding: 1em; font-weight: bold;\"\n",
       ">\n",
       "    Unable to load WebIO. Please make sure WebIO works for your Jupyter client.\n",
       "    For troubleshooting, please see <a href=\"https://juliagizmos.github.io/WebIO.jl/latest/providers/ijulia/\">\n",
       "    the WebIO/IJulia documentation</a>.\n",
       "    <!-- TODO: link to installation docs. -->\n",
       "</p>\n"
      ],
      "text/plain": [
       "HTML{String}(\"<script>\\n// Immediately-invoked-function-expression to avoid global variables.\\n(function() {\\n    var warning_div = document.getElementById(\\\"webio-warning-6941429845270216589\\\");\\n    var hide = function () {\\n        var script = document.getElementById(\\\"webio-setup-13172843794654127292\\\");\\n        var parent = script && script.parentElement;\\n        var grandparent = parent && parent.parentElement;\\n        if (grandparent) {\\n            grandparent.style.display = \\\"none\\\";\\n        }\\n        warning_div.style.display = \\\"none\\\";\\n    };\\n    if (typeof Jupyter !== \\\"undefined\\\") {\\n        console.log(\\\"WebIO detected Jupyter notebook environment.\\\");\\n        // Jupyter notebook.\\n        var extensions = (\\n            Jupyter\\n            && Jupyter.notebook.config.data\\n            && Jupyter.notebook.config.data.load_extensions\\n        );\\n        if (extensions && extensions[\\\"webio-jupyter-notebook\\\"]) {\\n            // Extension already loaded.\\n            console.log(\\\"Jupyter WebIO nbextension detected; not loading ad-hoc.\\\");\\n            hide();\\n            return;\\n        }\\n    } else if (window.location.pathname.includes(\\\"/lab\\\")) {\\n        // Guessing JupyterLa\\n        console.log(\\\"Jupyter Lab detected; make sure the @webio/jupyter-lab-provider labextension is installed.\\\");\\n        hide();\\n        return;\\n    }\\n})();\\n\\n</script>\\n<p\\n    id=\\\"webio-warning-6941429845270216589\\\"\\n    class=\\\"output_text output_stderr\\\"\\n    style=\\\"padding: 1em; font-weight: bold;\\\"\\n>\\n    Unable to load WebIO. Please make sure WebIO works for your Jupyter client.\\n    For troubleshooting, please see <a href=\\\"https://juliagizmos.github.io/WebIO.jl/latest/providers/ijulia/\\\">\\n    the WebIO/IJulia documentation</a>.\\n    <!-- TODO: link to installation docs. -->\\n</p>\\n\")"
      ]
     },
     "metadata": {},
     "output_type": "display_data"
    }
   ],
   "source": [
    "using Eirene\n",
    "using MAT\n",
    "using LinearAlgebra\n",
    "using Statistics\n",
    "using Printf\n",
    "using PyPlot\n",
    "using Distributions\n",
    "using Random"
   ]
  },
  {
   "cell_type": "markdown",
   "metadata": {
    "Collapsed": "false"
   },
   "source": [
    "## WSBM Generator"
   ]
  },
  {
   "cell_type": "markdown",
   "metadata": {
    "Collapsed": "false"
   },
   "source": [
    "### Weighted Version Block Model (simple blocks without intersections)"
   ]
  },
  {
   "cell_type": "code",
   "execution_count": 92,
   "metadata": {
    "Collapsed": "false"
   },
   "outputs": [
    {
     "data": {
      "text/plain": [
       "generate_wsbm_adj_h (generic function with 2 methods)"
      ]
     },
     "execution_count": 92,
     "metadata": {},
     "output_type": "execute_result"
    }
   ],
   "source": [
    "function generate_clusters(n=100,pi_vector=[0.3,0.4,0.3])\n",
    "    clusters_splits=round.(Int,cumsum(n*pi_vector))\n",
    "    k = size(pi_vector)[1]\n",
    "    c = zeros(Int8,n) \n",
    "    for k_ind in collect(1:k-1)\n",
    "        c[clusters_splits[k_ind]+1:clusters_splits[k_ind+1]].=k_ind\n",
    "    end\n",
    "    return c\n",
    "end\n",
    "\n",
    "function generate_wsbm_adj(n,pi_vector,theta_in,theta_out,n_block=nothing,enh_param=nothing)\n",
    "     c=generate_clusters(n,pi_vector)\n",
    "     Adj=zeros(Float64,n,n)\n",
    "     for i in collect(1:n-1)\n",
    "        for j in collect(i+1:n)\n",
    "            if c[i]==c[j]\n",
    "                if n_block==nothing\n",
    "                    Adj[i,j]=rand(LogitNormal(rand(Normal(theta_in),1)[1]))\n",
    "                    Adj[j,i]=Adj[i,j]\n",
    "                else\n",
    "                    if c[i]==n_block-1\n",
    "                        Adj[i,j]=rand(LogitNormal(rand(Normal(theta_in),1)[1]))*enh_param\n",
    "                        Adj[j,i]=Adj[i,j]\n",
    "                    else\n",
    "                        Adj[i,j]=rand(LogitNormal(rand(Normal(theta_in),1)[1]))\n",
    "                        Adj[j,i]=Adj[i,j]\n",
    "                    end\n",
    "                end\n",
    "            else\n",
    "                 Adj[i,j]=rand(LogitNormal(rand(Normal(theta_out),1)[1]))\n",
    "                 Adj[j,i]=Adj[i,j]\n",
    "            end\n",
    "        end\n",
    "    end\n",
    "    Adj[diagind(Adj)].= 1\n",
    "    return Adj\n",
    "end\n",
    "\n",
    "function generate_wsbm_adj_h(n,pi_vector,theta_in,theta_out,n_block=nothing)\n",
    "     c=generate_clusters(n,pi_vector)\n",
    "     Adj=zeros(Float64,n,n)\n",
    "     for i in collect(1:n-1)\n",
    "        for j in collect(i+1:n)\n",
    "            if c[i]==c[j]\n",
    "                if n_block==nothing\n",
    "                    Adj[i,j]=rand(LogitNormal(rand(Normal(theta_in),1)[1]))\n",
    "                    Adj[j,i]=Adj[i,j]\n",
    "                end\n",
    "        \n",
    "            else\n",
    "                 Adj[i,j]=rand(LogitNormal(rand(Normal(theta_out),1)[1]))\n",
    "                 Adj[j,i]=Adj[i,j]\n",
    "            end\n",
    "        end\n",
    "    end\n",
    "    Adj[diagind(Adj)].= 1\n",
    "    return Adj\n",
    "end                    "
   ]
  },
  {
   "cell_type": "markdown",
   "metadata": {
    "Collapsed": "false"
   },
   "source": [
    "### TDA part"
   ]
  },
  {
   "cell_type": "code",
   "execution_count": 93,
   "metadata": {
    "Collapsed": "false"
   },
   "outputs": [
    {
     "data": {
      "text/plain": [
       "write_barcode_to_file (generic function with 1 method)"
      ]
     },
     "execution_count": 93,
     "metadata": {},
     "output_type": "execute_result"
    }
   ],
   "source": [
    "function get_distance(matrix)\n",
    "   \n",
    "    distC = ((matrix.-1).*(-1)).^0.5;\n",
    "    distC[diagind(distC)].= 0; \n",
    "    return distC\n",
    "end \n",
    "function TDA(matrix)\n",
    "    dist_mat=get_distance(matrix)\n",
    "    C=eirene(dist_mat,maxdim=1)\n",
    "    return C\n",
    "end\n",
    "function write_barcode_to_file(C, filename; maxdim = 2)\n",
    "\n",
    "    open(filename,\"w\") do f\n",
    "        \n",
    "        for dim in collect(0:maxdim)\n",
    "        \n",
    "            b = barcode(C, dim = dim)\n",
    "            num = size(b)[1]\n",
    "        \n",
    "            write(f,string(\"Dimension: \", dim,\"\\n\"))\n",
    "            #println(string(\"Dimension: \", dim,\"\\n\"))\n",
    "                  \n",
    "            \n",
    "            for j in collect(1:num)\n",
    "    \n",
    "                ints = @sprintf \"[%.3f, %.3f): \" b[j,1] b[j,2]\n",
    "                repr = classrep(C, class = j, dim = dim)\n",
    "                part1 = @sprintf \"[%.3f, %.3f): \" b[j,1] b[j,2]\n",
    "            \n",
    "                simplList = []\n",
    "                for i in collect(1:size(repr)[2]) \n",
    "                    push!(simplList,\"[\"*join(string.(repr[:,i]),\",\")*\"]\")\n",
    "                end \n",
    "            \n",
    "                part2 = string(part1, join(simplList,\"+\"),\"\\n\")\n",
    "                write(f,part2)\n",
    "            end\n",
    "        end\n",
    "        \n",
    "    end\n",
    "end"
   ]
  },
  {
   "cell_type": "markdown",
   "metadata": {
    "Collapsed": "false"
   },
   "source": [
    "## Models"
   ]
  },
  {
   "cell_type": "code",
   "execution_count": 94,
   "metadata": {
    "Collapsed": "false",
    "scrolled": true
   },
   "outputs": [
    {
     "data": {
      "image/png": "[encoded data removed]",
      "text/plain": [
       "Figure(PyObject <Figure size 500x500 with 2 Axes>)"
      ]
     },
     "metadata": {},
     "output_type": "display_data"
    },
    {
     "data": {
      "text/plain": [
       "PyObject <matplotlib.image.AxesImage object at 0x16fe8f890>"
      ]
     },
     "execution_count": 94,
     "metadata": {},
     "output_type": "execute_result"
    }
   ],
   "source": [
    "number_of_nodes = 21\n",
    "pi_vector = [0.3,0.4,0.3]\n",
    "theta_in = 2\n",
    "theta_out = -2\n",
    "wAdj = generate_wsbm_adj(number_of_nodes,pi_vector,theta_in,theta_out)\n",
    "wAdj_enh = generate_wsbm_adj(21,[0.3,0.4,0.3],2,-2,1,1.5)\n",
    "plt.figure(figsize=(5,5))\n",
    "subplot(121); imshow(wAdj)\n",
    "subplot(122); imshow(wAdj_enh)"
   ]
  },
  {
   "cell_type": "code",
   "execution_count": 95,
   "metadata": {
    "Collapsed": "false"
   },
   "outputs": [],
   "source": [
    "fname = string(\"wAdj_\", join(pi_vector,'_'),\"_\",theta_in,\"_\",abs(theta_out),\".mat\")\n",
    "file = matopen(fname, \"w\")\n",
    "write(file, \"wAdj\", wAdj)\n",
    "close(file)"
   ]
  },
  {
   "cell_type": "markdown",
   "metadata": {
    "Collapsed": "false"
   },
   "source": [
    "## TDA part"
   ]
  },
  {
   "cell_type": "code",
   "execution_count": 96,
   "metadata": {
    "Collapsed": "false"
   },
   "outputs": [],
   "source": [
    "C=TDA(wAdj);\n",
    "filename = string(\"ints_\",number_of_nodes,'_',join(pi_vector,'_'),'_',theta_in,'_', abs(theta_out), \".txt\")\n",
    "write_barcode_to_file(C, filename, maxdim = 1)"
   ]
  },
  {
   "cell_type": "code",
   "execution_count": null,
   "metadata": {
    "Collapsed": "false"
   },
   "outputs": [],
   "source": []
  }
 ],
 "metadata": {
  "@webio": {
   "lastCommId": "739893a9-9df1-48a1-add9-644bd369297b",
   "lastKernelId": "2321ef2a-f3b9-464c-aeed-433a3450a953"
  },
  "kernelspec": {
   "display_name": "Julia 1.4.1",
   "language": "julia",
   "name": "julia-1.4"
  },
  "language_info": {
   "file_extension": ".jl",
   "mimetype": "application/julia",
   "name": "julia",
   "version": "1.4.1"
  }
 },
 "nbformat": 4,
 "nbformat_minor": 4
}
