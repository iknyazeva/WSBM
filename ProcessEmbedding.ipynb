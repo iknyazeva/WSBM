{
 "cells": [
  {
   "cell_type": "code",
   "execution_count": 1,
   "metadata": {
    "Collapsed": "false"
   },
   "outputs": [],
   "source": [
    "from scipy.spatial.distance import cosine\n",
    "import numpy as np\n",
    "import pandas as pd\n",
    "import seaborn as sns\n",
    "import h5py\n",
    "import umap\n",
    "import networkx as nx\n",
    "from node2vec import Node2Vec\n",
    "from TDAembedding import TDAembedding\n",
    "from sbm_utils import generate_clusters\n",
    "import matplotlib.pyplot as plt\n",
    "%matplotlib inline"
   ]
  },
  {
   "cell_type": "markdown",
   "metadata": {
    "Collapsed": "false"
   },
   "source": [
    "# Comparing embedding node2vec and TDA with UMAP"
   ]
  },
  {
   "cell_type": "markdown",
   "metadata": {
    "Collapsed": "false"
   },
   "source": [
    "## Strong blocks"
   ]
  },
  {
   "cell_type": "code",
   "execution_count": 2,
   "metadata": {
    "Collapsed": "false"
   },
   "outputs": [],
   "source": [
    "fname = \"wAdj_0.3_0.4_0.3_2_2.mat\"\n",
    "with h5py.File(fname,'r') as f:\n",
    "    wAdj = np.array(f[list(f.keys())[0]])\n",
    "pi_vector = [float(str.split(fname,'_')[el]) for el in range(1,4)]  \n",
    "target = generate_clusters(wAdj.shape[0], pi_vector).astype('int')"
   ]
  },
  {
   "cell_type": "code",
   "execution_count": 3,
   "metadata": {
    "Collapsed": "false"
   },
   "outputs": [
    {
     "data": {
      "text/plain": [
       "<matplotlib.image.AxesImage at 0x1a28ec8810>"
      ]
     },
     "execution_count": 3,
     "metadata": {},
     "output_type": "execute_result"
    },
    {
     "data": {
      "image/png": "[encoded data removed]",
      "text/plain": [
       "<Figure size 432x288 with 1 Axes>"
      ]
     },
     "metadata": {
      "needs_background": "light"
     },
     "output_type": "display_data"
    }
   ],
   "source": [
    "plt.imshow(wAdj)"
   ]
  },
  {
   "cell_type": "markdown",
   "metadata": {
    "Collapsed": "false"
   },
   "source": [
    "### Node2vec Embedding"
   ]
  },
  {
   "cell_type": "code",
   "execution_count": 4,
   "metadata": {
    "Collapsed": "false"
   },
   "outputs": [
    {
     "name": "stderr",
     "output_type": "stream",
     "text": [
      "Computing transition probabilities: 100%|██████████| 21/21 [00:00<00:00, 645.26it/s]\n"
     ]
    }
   ],
   "source": [
    "graph = nx.from_numpy_matrix(wAdj)\n",
    "node2vec = Node2Vec(graph, dimensions=25, walk_length=15, p=0.5,q=1, num_walks=200, workers=4)\n",
    "model = node2vec.fit(window=10, min_count=1, batch_words=4)"
   ]
  },
  {
   "cell_type": "code",
   "execution_count": 5,
   "metadata": {
    "Collapsed": "false"
   },
   "outputs": [],
   "source": [
    "nodes = [str(node) for node in range(wAdj.shape[0])]\n",
    "vecs = []\n",
    "for node in nodes:\n",
    "    vecs.append(model.wv.__getitem__([node]))\n",
    "node2vec_ebds = np.squeeze(np.array(vecs))    "
   ]
  },
  {
   "cell_type": "code",
   "execution_count": 6,
   "metadata": {
    "Collapsed": "false"
   },
   "outputs": [
    {
     "data": {
      "image/png": "[encoded data removed]",
      "text/plain": [
       "<Figure size 432x288 with 1 Axes>"
      ]
     },
     "metadata": {
      "needs_background": "light"
     },
     "output_type": "display_data"
    }
   ],
   "source": [
    "reducer = umap.UMAP(n_neighbors=8, metric = 'cosine', n_components=2)\n",
    "u_emb = reducer.fit_transform(node2vec_ebds)\n",
    "plt.scatter(u_emb[:, 0], u_emb[:, 1], c=[sns.color_palette()[x] for x in target])\n",
    "#plt.scatter(u_emb[:, 0], u_emb[:, 1], c=target, cmap='Spectral', s=25)\n",
    "#plt.colorbar(boundaries=np.arange(4)-0.5).set_ticks(np.arange(3))\n",
    "for i, txt in enumerate(nodes):\n",
    "    plt.annotate(txt, (u_emb[i, 0], u_emb[i, 1]))\n",
    "plt.gca().set_aspect('equal', 'datalim')\n",
    "plt.title('UMAP projection of the node2vec embedding', fontsize=14);"
   ]
  },
  {
   "cell_type": "markdown",
   "metadata": {
    "Collapsed": "false"
   },
   "source": [
    "## Perfect!!!"
   ]
  },
  {
   "cell_type": "markdown",
   "metadata": {
    "Collapsed": "false"
   },
   "source": [
    "### Topological embedding"
   ]
  },
  {
   "cell_type": "code",
   "execution_count": 7,
   "metadata": {
    "Collapsed": "false"
   },
   "outputs": [],
   "source": [
    "filepath = \"ints_21_0.3_0.4_0.3_2_2.txt\"\n",
    "embd = TDAembedding(filepath, num_nodes=wAdj.shape[0])"
   ]
  },
  {
   "cell_type": "code",
   "execution_count": 8,
   "metadata": {
    "Collapsed": "false"
   },
   "outputs": [],
   "source": [
    "intervals = embd.read_intervals(h0=True, h1=True)\n",
    "df0 = embd.create_h0_embedding(intervals=intervals)\n",
    "df1 = embd.create_h1_embedding(intervals=intervals)"
   ]
  },
  {
   "cell_type": "code",
   "execution_count": 9,
   "metadata": {
    "Collapsed": "false"
   },
   "outputs": [
    {
     "data": {
      "text/html": [
       "<div>\n",
       "<style scoped>\n",
       "    .dataframe tbody tr th:only-of-type {\n",
       "        vertical-align: middle;\n",
       "    }\n",
       "\n",
       "    .dataframe tbody tr th {\n",
       "        vertical-align: top;\n",
       "    }\n",
       "\n",
       "    .dataframe thead th {\n",
       "        text-align: right;\n",
       "    }\n",
       "</style>\n",
       "<table border=\"1\" class=\"dataframe\">\n",
       "  <thead>\n",
       "    <tr style=\"text-align: right;\">\n",
       "      <th></th>\n",
       "      <th>0.054</th>\n",
       "      <th>0.064</th>\n",
       "      <th>0.084</th>\n",
       "      <th>0.086</th>\n",
       "      <th>0.127</th>\n",
       "      <th>0.152</th>\n",
       "      <th>0.186</th>\n",
       "      <th>0.189</th>\n",
       "      <th>0.194</th>\n",
       "      <th>0.213</th>\n",
       "      <th>0.216</th>\n",
       "      <th>0.218</th>\n",
       "      <th>0.224</th>\n",
       "      <th>0.255</th>\n",
       "      <th>0.262</th>\n",
       "      <th>0.264</th>\n",
       "      <th>0.271</th>\n",
       "      <th>0.288</th>\n",
       "      <th>0.504</th>\n",
       "    </tr>\n",
       "  </thead>\n",
       "  <tbody>\n",
       "    <tr>\n",
       "      <th>0</th>\n",
       "      <td>1</td>\n",
       "      <td>1</td>\n",
       "      <td>1</td>\n",
       "      <td>1</td>\n",
       "      <td>1</td>\n",
       "      <td>1</td>\n",
       "      <td>1</td>\n",
       "      <td>1</td>\n",
       "      <td>1</td>\n",
       "      <td>1</td>\n",
       "      <td>1</td>\n",
       "      <td>1</td>\n",
       "      <td>1</td>\n",
       "      <td>1</td>\n",
       "      <td>1</td>\n",
       "      <td>2</td>\n",
       "      <td>2</td>\n",
       "      <td>6</td>\n",
       "      <td>20</td>\n",
       "    </tr>\n",
       "    <tr>\n",
       "      <th>1</th>\n",
       "      <td>1</td>\n",
       "      <td>1</td>\n",
       "      <td>1</td>\n",
       "      <td>1</td>\n",
       "      <td>1</td>\n",
       "      <td>1</td>\n",
       "      <td>1</td>\n",
       "      <td>1</td>\n",
       "      <td>1</td>\n",
       "      <td>1</td>\n",
       "      <td>1</td>\n",
       "      <td>1</td>\n",
       "      <td>1</td>\n",
       "      <td>1</td>\n",
       "      <td>1</td>\n",
       "      <td>1</td>\n",
       "      <td>4</td>\n",
       "      <td>6</td>\n",
       "      <td>20</td>\n",
       "    </tr>\n",
       "    <tr>\n",
       "      <th>2</th>\n",
       "      <td>1</td>\n",
       "      <td>1</td>\n",
       "      <td>1</td>\n",
       "      <td>1</td>\n",
       "      <td>1</td>\n",
       "      <td>1</td>\n",
       "      <td>1</td>\n",
       "      <td>1</td>\n",
       "      <td>1</td>\n",
       "      <td>1</td>\n",
       "      <td>2</td>\n",
       "      <td>3</td>\n",
       "      <td>3</td>\n",
       "      <td>3</td>\n",
       "      <td>3</td>\n",
       "      <td>3</td>\n",
       "      <td>4</td>\n",
       "      <td>6</td>\n",
       "      <td>20</td>\n",
       "    </tr>\n",
       "    <tr>\n",
       "      <th>3</th>\n",
       "      <td>1</td>\n",
       "      <td>1</td>\n",
       "      <td>1</td>\n",
       "      <td>1</td>\n",
       "      <td>1</td>\n",
       "      <td>1</td>\n",
       "      <td>1</td>\n",
       "      <td>1</td>\n",
       "      <td>1</td>\n",
       "      <td>1</td>\n",
       "      <td>2</td>\n",
       "      <td>3</td>\n",
       "      <td>3</td>\n",
       "      <td>3</td>\n",
       "      <td>3</td>\n",
       "      <td>3</td>\n",
       "      <td>4</td>\n",
       "      <td>6</td>\n",
       "      <td>20</td>\n",
       "    </tr>\n",
       "    <tr>\n",
       "      <th>4</th>\n",
       "      <td>1</td>\n",
       "      <td>1</td>\n",
       "      <td>1</td>\n",
       "      <td>1</td>\n",
       "      <td>1</td>\n",
       "      <td>1</td>\n",
       "      <td>1</td>\n",
       "      <td>1</td>\n",
       "      <td>1</td>\n",
       "      <td>1</td>\n",
       "      <td>1</td>\n",
       "      <td>1</td>\n",
       "      <td>1</td>\n",
       "      <td>1</td>\n",
       "      <td>1</td>\n",
       "      <td>2</td>\n",
       "      <td>2</td>\n",
       "      <td>6</td>\n",
       "      <td>20</td>\n",
       "    </tr>\n",
       "  </tbody>\n",
       "</table>\n",
       "</div>"
      ],
      "text/plain": [
       "   0.054  0.064  0.084  0.086  0.127  0.152  0.186  0.189  0.194  0.213  \\\n",
       "0      1      1      1      1      1      1      1      1      1      1   \n",
       "1      1      1      1      1      1      1      1      1      1      1   \n",
       "2      1      1      1      1      1      1      1      1      1      1   \n",
       "3      1      1      1      1      1      1      1      1      1      1   \n",
       "4      1      1      1      1      1      1      1      1      1      1   \n",
       "\n",
       "   0.216  0.218  0.224  0.255  0.262  0.264  0.271  0.288  0.504  \n",
       "0      1      1      1      1      1      2      2      6     20  \n",
       "1      1      1      1      1      1      1      4      6     20  \n",
       "2      2      3      3      3      3      3      4      6     20  \n",
       "3      2      3      3      3      3      3      4      6     20  \n",
       "4      1      1      1      1      1      2      2      6     20  "
      ]
     },
     "execution_count": 9,
     "metadata": {},
     "output_type": "execute_result"
    }
   ],
   "source": [
    "df0.head()"
   ]
  },
  {
   "cell_type": "code",
   "execution_count": 12,
   "metadata": {
    "Collapsed": "false"
   },
   "outputs": [
    {
     "data": {
      "text/html": [
       "<div>\n",
       "<style scoped>\n",
       "    .dataframe tbody tr th:only-of-type {\n",
       "        vertical-align: middle;\n",
       "    }\n",
       "\n",
       "    .dataframe tbody tr th {\n",
       "        vertical-align: top;\n",
       "    }\n",
       "\n",
       "    .dataframe thead th {\n",
       "        text-align: right;\n",
       "    }\n",
       "</style>\n",
       "<table border=\"1\" class=\"dataframe\">\n",
       "  <thead>\n",
       "    <tr style=\"text-align: right;\">\n",
       "      <th></th>\n",
       "      <th>0.22-0.31</th>\n",
       "      <th>0.24-0.43</th>\n",
       "      <th>0.25-0.34</th>\n",
       "      <th>0.25-0.31</th>\n",
       "      <th>0.26-0.38</th>\n",
       "      <th>0.29-0.34</th>\n",
       "      <th>0.34-0.34</th>\n",
       "      <th>0.52-0.76</th>\n",
       "      <th>0.52-0.80</th>\n",
       "      <th>0.53-0.85</th>\n",
       "      <th>0.58-0.83</th>\n",
       "      <th>0.65-0.72</th>\n",
       "      <th>0.76-0.76</th>\n",
       "      <th>0.77-0.89</th>\n",
       "      <th>0.80-0.83</th>\n",
       "      <th>0.80-0.84</th>\n",
       "      <th>0.81-0.85</th>\n",
       "      <th>num_ints</th>\n",
       "      <th>mean_int</th>\n",
       "    </tr>\n",
       "  </thead>\n",
       "  <tbody>\n",
       "    <tr>\n",
       "      <th>0</th>\n",
       "      <td>0</td>\n",
       "      <td>0</td>\n",
       "      <td>0</td>\n",
       "      <td>0</td>\n",
       "      <td>0</td>\n",
       "      <td>0</td>\n",
       "      <td>1</td>\n",
       "      <td>0</td>\n",
       "      <td>0</td>\n",
       "      <td>0</td>\n",
       "      <td>1</td>\n",
       "      <td>0</td>\n",
       "      <td>0</td>\n",
       "      <td>0</td>\n",
       "      <td>0</td>\n",
       "      <td>0</td>\n",
       "      <td>0</td>\n",
       "      <td>2</td>\n",
       "      <td>0.014941</td>\n",
       "    </tr>\n",
       "    <tr>\n",
       "      <th>1</th>\n",
       "      <td>0</td>\n",
       "      <td>0</td>\n",
       "      <td>0</td>\n",
       "      <td>0</td>\n",
       "      <td>0</td>\n",
       "      <td>0</td>\n",
       "      <td>0</td>\n",
       "      <td>1</td>\n",
       "      <td>0</td>\n",
       "      <td>0</td>\n",
       "      <td>0</td>\n",
       "      <td>0</td>\n",
       "      <td>0</td>\n",
       "      <td>0</td>\n",
       "      <td>0</td>\n",
       "      <td>0</td>\n",
       "      <td>0</td>\n",
       "      <td>1</td>\n",
       "      <td>0.014529</td>\n",
       "    </tr>\n",
       "    <tr>\n",
       "      <th>2</th>\n",
       "      <td>0</td>\n",
       "      <td>0</td>\n",
       "      <td>0</td>\n",
       "      <td>0</td>\n",
       "      <td>0</td>\n",
       "      <td>0</td>\n",
       "      <td>1</td>\n",
       "      <td>0</td>\n",
       "      <td>0</td>\n",
       "      <td>1</td>\n",
       "      <td>0</td>\n",
       "      <td>0</td>\n",
       "      <td>0</td>\n",
       "      <td>0</td>\n",
       "      <td>0</td>\n",
       "      <td>0</td>\n",
       "      <td>1</td>\n",
       "      <td>3</td>\n",
       "      <td>0.021353</td>\n",
       "    </tr>\n",
       "    <tr>\n",
       "      <th>3</th>\n",
       "      <td>0</td>\n",
       "      <td>0</td>\n",
       "      <td>0</td>\n",
       "      <td>0</td>\n",
       "      <td>0</td>\n",
       "      <td>0</td>\n",
       "      <td>1</td>\n",
       "      <td>0</td>\n",
       "      <td>0</td>\n",
       "      <td>1</td>\n",
       "      <td>1</td>\n",
       "      <td>0</td>\n",
       "      <td>0</td>\n",
       "      <td>1</td>\n",
       "      <td>0</td>\n",
       "      <td>1</td>\n",
       "      <td>0</td>\n",
       "      <td>5</td>\n",
       "      <td>0.042529</td>\n",
       "    </tr>\n",
       "    <tr>\n",
       "      <th>4</th>\n",
       "      <td>0</td>\n",
       "      <td>0</td>\n",
       "      <td>0</td>\n",
       "      <td>0</td>\n",
       "      <td>0</td>\n",
       "      <td>0</td>\n",
       "      <td>1</td>\n",
       "      <td>0</td>\n",
       "      <td>0</td>\n",
       "      <td>1</td>\n",
       "      <td>0</td>\n",
       "      <td>0</td>\n",
       "      <td>0</td>\n",
       "      <td>0</td>\n",
       "      <td>0</td>\n",
       "      <td>1</td>\n",
       "      <td>1</td>\n",
       "      <td>4</td>\n",
       "      <td>0.023294</td>\n",
       "    </tr>\n",
       "  </tbody>\n",
       "</table>\n",
       "</div>"
      ],
      "text/plain": [
       "   0.22-0.31  0.24-0.43  0.25-0.34  0.25-0.31  0.26-0.38  0.29-0.34  \\\n",
       "0          0          0          0          0          0          0   \n",
       "1          0          0          0          0          0          0   \n",
       "2          0          0          0          0          0          0   \n",
       "3          0          0          0          0          0          0   \n",
       "4          0          0          0          0          0          0   \n",
       "\n",
       "   0.34-0.34  0.52-0.76  0.52-0.80  0.53-0.85  0.58-0.83  0.65-0.72  \\\n",
       "0          1          0          0          0          1          0   \n",
       "1          0          1          0          0          0          0   \n",
       "2          1          0          0          1          0          0   \n",
       "3          1          0          0          1          1          0   \n",
       "4          1          0          0          1          0          0   \n",
       "\n",
       "   0.76-0.76  0.77-0.89  0.80-0.83  0.80-0.84  0.81-0.85  num_ints  mean_int  \n",
       "0          0          0          0          0          0         2  0.014941  \n",
       "1          0          0          0          0          0         1  0.014529  \n",
       "2          0          0          0          0          1         3  0.021353  \n",
       "3          0          1          0          1          0         5  0.042529  \n",
       "4          0          0          0          1          1         4  0.023294  "
      ]
     },
     "execution_count": 12,
     "metadata": {},
     "output_type": "execute_result"
    }
   ],
   "source": [
    "df1.head()"
   ]
  },
  {
   "cell_type": "code",
   "execution_count": 10,
   "metadata": {
    "Collapsed": "false"
   },
   "outputs": [
    {
     "data": {
      "image/png": "[encoded data removed]",
      "text/plain": [
       "<Figure size 432x288 with 2 Axes>"
      ]
     },
     "metadata": {
      "needs_background": "light"
     },
     "output_type": "display_data"
    }
   ],
   "source": [
    "reducer = umap.UMAP(n_neighbors=7, metric = 'cosine', n_components=2)\n",
    "u_emb0 = reducer.fit_transform(df0.values)\n",
    "#plt.scatter(u_emb[:, 0], u_emb[:, 1], c=[sns.color_palette()[x] for x in target])\n",
    "plt.scatter(u_emb0[:, 0], u_emb0[:, 1], c=target, cmap='viridis', s=25)\n",
    "plt.colorbar(boundaries=np.arange(4)-0.5).set_ticks(np.arange(3))\n",
    "for i, txt in enumerate(nodes):\n",
    "    plt.annotate(txt, (u_emb0[i, 0], u_emb0[i, 1]))\n",
    "plt.gca().set_aspect('equal', 'datalim')\n",
    "plt.title('UMAP projection of the h0 embedding', fontsize=14);"
   ]
  },
  {
   "cell_type": "code",
   "execution_count": 11,
   "metadata": {
    "Collapsed": "false"
   },
   "outputs": [
    {
     "data": {
      "image/png": "[encoded data removed]",
      "text/plain": [
       "<Figure size 432x288 with 2 Axes>"
      ]
     },
     "metadata": {
      "needs_background": "light"
     },
     "output_type": "display_data"
    }
   ],
   "source": [
    "reducer = umap.UMAP(n_neighbors=7, metric = 'cosine', n_components=2)\n",
    "u_emb1 = reducer.fit_transform(df1.values[:,:-2])\n",
    "#u_emb1 = reducer.fit_transform(df1.drop('num_ints', axis=1).values)\n",
    "#plt.scatter(u_emb[:, 0], u_emb[:, 1], c=[sns.color_palette()[x] for x in target])\n",
    "plt.scatter(u_emb1[:,0], u_emb1[:, 1], c=target, cmap='viridis', s=25)\n",
    "plt.colorbar(boundaries=np.arange(4)-0.5).set_ticks(np.arange(3))\n",
    "plt.gca().set_aspect('equal', 'datalim')\n",
    "for i, txt in enumerate(nodes):\n",
    "    plt.annotate(txt, (u_emb1[i, 0], u_emb1[i, 1]))\n",
    "plt.title('UMAP projection of the h1 embedding', fontsize=14);"
   ]
  },
  {
   "cell_type": "markdown",
   "metadata": {
    "Collapsed": "false"
   },
   "source": [
    "## Not so good, but still interpretable"
   ]
  },
  {
   "cell_type": "markdown",
   "metadata": {
    "Collapsed": "false"
   },
   "source": [
    "## Weak blocks"
   ]
  },
  {
   "cell_type": "code",
   "execution_count": 14,
   "metadata": {
    "Collapsed": "false"
   },
   "outputs": [
    {
     "data": {
      "text/plain": [
       "<matplotlib.image.AxesImage at 0x1a2a6cd450>"
      ]
     },
     "execution_count": 14,
     "metadata": {},
     "output_type": "execute_result"
    },
    {
     "data": {
      "image/png": "[encoded data removed]",
      "text/plain": [
       "<Figure size 432x288 with 1 Axes>"
      ]
     },
     "metadata": {
      "needs_background": "light"
     },
     "output_type": "display_data"
    }
   ],
   "source": [
    "fname = \"wAdj_0.3_0.4_0.3_1_1.mat\"\n",
    "with h5py.File(fname,'r') as f:\n",
    "    wAdj = np.array(f[list(f.keys())[0]])\n",
    "pi_vector = [float(str.split(fname,'_')[el]) for el in range(1,4)]  \n",
    "target = generate_clusters(wAdj.shape[0], pi_vector).astype('int')\n",
    "plt.imshow(wAdj)"
   ]
  },
  {
   "cell_type": "code",
   "execution_count": 15,
   "metadata": {
    "Collapsed": "false"
   },
   "outputs": [
    {
     "name": "stderr",
     "output_type": "stream",
     "text": [
      "Computing transition probabilities: 100%|██████████| 21/21 [00:00<00:00, 626.19it/s]\n"
     ]
    }
   ],
   "source": [
    "graph = nx.from_numpy_matrix(wAdj)\n",
    "node2vec = Node2Vec(graph, dimensions=25, walk_length=15, p=0.5,q=1, num_walks=200, workers=4)\n",
    "model = node2vec.fit(window=10, min_count=1, batch_words=4)\n",
    "nodes = [str(node) for node in range(wAdj.shape[0])]\n",
    "vecs = []\n",
    "for node in nodes:\n",
    "    vecs.append(model.wv.__getitem__([node]))\n",
    "node2vec_ebds = np.squeeze(np.array(vecs))    "
   ]
  },
  {
   "cell_type": "code",
   "execution_count": 21,
   "metadata": {
    "Collapsed": "false"
   },
   "outputs": [
    {
     "data": {
      "image/png": "[encoded data removed]",
      "text/plain": [
       "<Figure size 432x288 with 1 Axes>"
      ]
     },
     "metadata": {
      "needs_background": "light"
     },
     "output_type": "display_data"
    }
   ],
   "source": [
    "reducer = umap.UMAP(n_neighbors=8, metric = 'cosine', n_components=2)\n",
    "u_emb = reducer.fit_transform(node2vec_ebds)\n",
    "plt.scatter(u_emb[:, 0], u_emb[:, 1], c=[sns.color_palette()[x] for x in target])\n",
    "#plt.scatter(u_emb[:, 0], u_emb[:, 1], c=target, cmap='Spectral', s=25)\n",
    "#plt.colorbar(boundaries=np.arange(4)-0.5).set_ticks(np.arange(3))\n",
    "for i, txt in enumerate(nodes):\n",
    "    plt.annotate(txt, (u_emb[i, 0], u_emb[i, 1]))\n",
    "plt.gca().set_aspect('equal', 'datalim')\n",
    "plt.title('UMAP projection of the node2vec embedding', fontsize=14);"
   ]
  },
  {
   "cell_type": "markdown",
   "metadata": {
    "Collapsed": "false"
   },
   "source": [
    "## Not so good and hard to explain "
   ]
  },
  {
   "cell_type": "code",
   "execution_count": 17,
   "metadata": {
    "Collapsed": "false"
   },
   "outputs": [],
   "source": [
    "filepath = \"ints_21_0.3_0.4_0.3_2_2.txt\"\n",
    "embd = TDAembedding(filepath, num_nodes=wAdj.shape[0])\n",
    "intervals = embd.read_intervals(h0=True, h1=True)\n",
    "df0 = embd.create_h0_embedding(intervals=intervals)\n",
    "df1 = embd.create_h1_embedding(intervals=intervals)"
   ]
  },
  {
   "cell_type": "code",
   "execution_count": 18,
   "metadata": {
    "Collapsed": "false"
   },
   "outputs": [
    {
     "data": {
      "text/html": [
       "<div>\n",
       "<style scoped>\n",
       "    .dataframe tbody tr th:only-of-type {\n",
       "        vertical-align: middle;\n",
       "    }\n",
       "\n",
       "    .dataframe tbody tr th {\n",
       "        vertical-align: top;\n",
       "    }\n",
       "\n",
       "    .dataframe thead th {\n",
       "        text-align: right;\n",
       "    }\n",
       "</style>\n",
       "<table border=\"1\" class=\"dataframe\">\n",
       "  <thead>\n",
       "    <tr style=\"text-align: right;\">\n",
       "      <th></th>\n",
       "      <th>0.054</th>\n",
       "      <th>0.064</th>\n",
       "      <th>0.084</th>\n",
       "      <th>0.086</th>\n",
       "      <th>0.127</th>\n",
       "      <th>0.152</th>\n",
       "      <th>0.186</th>\n",
       "      <th>0.189</th>\n",
       "      <th>0.194</th>\n",
       "      <th>0.213</th>\n",
       "      <th>0.216</th>\n",
       "      <th>0.218</th>\n",
       "      <th>0.224</th>\n",
       "      <th>0.255</th>\n",
       "      <th>0.262</th>\n",
       "      <th>0.264</th>\n",
       "      <th>0.271</th>\n",
       "      <th>0.288</th>\n",
       "      <th>0.504</th>\n",
       "    </tr>\n",
       "  </thead>\n",
       "  <tbody>\n",
       "    <tr>\n",
       "      <th>0</th>\n",
       "      <td>1</td>\n",
       "      <td>1</td>\n",
       "      <td>1</td>\n",
       "      <td>1</td>\n",
       "      <td>1</td>\n",
       "      <td>1</td>\n",
       "      <td>1</td>\n",
       "      <td>1</td>\n",
       "      <td>1</td>\n",
       "      <td>1</td>\n",
       "      <td>1</td>\n",
       "      <td>1</td>\n",
       "      <td>1</td>\n",
       "      <td>1</td>\n",
       "      <td>1</td>\n",
       "      <td>2</td>\n",
       "      <td>2</td>\n",
       "      <td>6</td>\n",
       "      <td>20</td>\n",
       "    </tr>\n",
       "    <tr>\n",
       "      <th>1</th>\n",
       "      <td>1</td>\n",
       "      <td>1</td>\n",
       "      <td>1</td>\n",
       "      <td>1</td>\n",
       "      <td>1</td>\n",
       "      <td>1</td>\n",
       "      <td>1</td>\n",
       "      <td>1</td>\n",
       "      <td>1</td>\n",
       "      <td>1</td>\n",
       "      <td>1</td>\n",
       "      <td>1</td>\n",
       "      <td>1</td>\n",
       "      <td>1</td>\n",
       "      <td>1</td>\n",
       "      <td>1</td>\n",
       "      <td>4</td>\n",
       "      <td>6</td>\n",
       "      <td>20</td>\n",
       "    </tr>\n",
       "    <tr>\n",
       "      <th>2</th>\n",
       "      <td>1</td>\n",
       "      <td>1</td>\n",
       "      <td>1</td>\n",
       "      <td>1</td>\n",
       "      <td>1</td>\n",
       "      <td>1</td>\n",
       "      <td>1</td>\n",
       "      <td>1</td>\n",
       "      <td>1</td>\n",
       "      <td>1</td>\n",
       "      <td>2</td>\n",
       "      <td>3</td>\n",
       "      <td>3</td>\n",
       "      <td>3</td>\n",
       "      <td>3</td>\n",
       "      <td>3</td>\n",
       "      <td>4</td>\n",
       "      <td>6</td>\n",
       "      <td>20</td>\n",
       "    </tr>\n",
       "    <tr>\n",
       "      <th>3</th>\n",
       "      <td>1</td>\n",
       "      <td>1</td>\n",
       "      <td>1</td>\n",
       "      <td>1</td>\n",
       "      <td>1</td>\n",
       "      <td>1</td>\n",
       "      <td>1</td>\n",
       "      <td>1</td>\n",
       "      <td>1</td>\n",
       "      <td>1</td>\n",
       "      <td>2</td>\n",
       "      <td>3</td>\n",
       "      <td>3</td>\n",
       "      <td>3</td>\n",
       "      <td>3</td>\n",
       "      <td>3</td>\n",
       "      <td>4</td>\n",
       "      <td>6</td>\n",
       "      <td>20</td>\n",
       "    </tr>\n",
       "    <tr>\n",
       "      <th>4</th>\n",
       "      <td>1</td>\n",
       "      <td>1</td>\n",
       "      <td>1</td>\n",
       "      <td>1</td>\n",
       "      <td>1</td>\n",
       "      <td>1</td>\n",
       "      <td>1</td>\n",
       "      <td>1</td>\n",
       "      <td>1</td>\n",
       "      <td>1</td>\n",
       "      <td>1</td>\n",
       "      <td>1</td>\n",
       "      <td>1</td>\n",
       "      <td>1</td>\n",
       "      <td>1</td>\n",
       "      <td>2</td>\n",
       "      <td>2</td>\n",
       "      <td>6</td>\n",
       "      <td>20</td>\n",
       "    </tr>\n",
       "  </tbody>\n",
       "</table>\n",
       "</div>"
      ],
      "text/plain": [
       "   0.054  0.064  0.084  0.086  0.127  0.152  0.186  0.189  0.194  0.213  \\\n",
       "0      1      1      1      1      1      1      1      1      1      1   \n",
       "1      1      1      1      1      1      1      1      1      1      1   \n",
       "2      1      1      1      1      1      1      1      1      1      1   \n",
       "3      1      1      1      1      1      1      1      1      1      1   \n",
       "4      1      1      1      1      1      1      1      1      1      1   \n",
       "\n",
       "   0.216  0.218  0.224  0.255  0.262  0.264  0.271  0.288  0.504  \n",
       "0      1      1      1      1      1      2      2      6     20  \n",
       "1      1      1      1      1      1      1      4      6     20  \n",
       "2      2      3      3      3      3      3      4      6     20  \n",
       "3      2      3      3      3      3      3      4      6     20  \n",
       "4      1      1      1      1      1      2      2      6     20  "
      ]
     },
     "execution_count": 18,
     "metadata": {},
     "output_type": "execute_result"
    }
   ],
   "source": [
    "df0.head()"
   ]
  },
  {
   "cell_type": "code",
   "execution_count": 19,
   "metadata": {
    "Collapsed": "false"
   },
   "outputs": [
    {
     "data": {
      "text/html": [
       "<div>\n",
       "<style scoped>\n",
       "    .dataframe tbody tr th:only-of-type {\n",
       "        vertical-align: middle;\n",
       "    }\n",
       "\n",
       "    .dataframe tbody tr th {\n",
       "        vertical-align: top;\n",
       "    }\n",
       "\n",
       "    .dataframe thead th {\n",
       "        text-align: right;\n",
       "    }\n",
       "</style>\n",
       "<table border=\"1\" class=\"dataframe\">\n",
       "  <thead>\n",
       "    <tr style=\"text-align: right;\">\n",
       "      <th></th>\n",
       "      <th>0.22-0.31</th>\n",
       "      <th>0.24-0.43</th>\n",
       "      <th>0.25-0.34</th>\n",
       "      <th>0.25-0.31</th>\n",
       "      <th>0.26-0.38</th>\n",
       "      <th>0.29-0.34</th>\n",
       "      <th>0.34-0.34</th>\n",
       "      <th>0.52-0.76</th>\n",
       "      <th>0.52-0.80</th>\n",
       "      <th>0.53-0.85</th>\n",
       "      <th>0.58-0.83</th>\n",
       "      <th>0.65-0.72</th>\n",
       "      <th>0.76-0.76</th>\n",
       "      <th>0.77-0.89</th>\n",
       "      <th>0.80-0.83</th>\n",
       "      <th>0.80-0.84</th>\n",
       "      <th>0.81-0.85</th>\n",
       "      <th>num_ints</th>\n",
       "      <th>mean_int</th>\n",
       "    </tr>\n",
       "  </thead>\n",
       "  <tbody>\n",
       "    <tr>\n",
       "      <th>0</th>\n",
       "      <td>0</td>\n",
       "      <td>0</td>\n",
       "      <td>0</td>\n",
       "      <td>0</td>\n",
       "      <td>0</td>\n",
       "      <td>0</td>\n",
       "      <td>1</td>\n",
       "      <td>0</td>\n",
       "      <td>0</td>\n",
       "      <td>0</td>\n",
       "      <td>1</td>\n",
       "      <td>0</td>\n",
       "      <td>0</td>\n",
       "      <td>0</td>\n",
       "      <td>0</td>\n",
       "      <td>0</td>\n",
       "      <td>0</td>\n",
       "      <td>2</td>\n",
       "      <td>0.014941</td>\n",
       "    </tr>\n",
       "    <tr>\n",
       "      <th>1</th>\n",
       "      <td>0</td>\n",
       "      <td>0</td>\n",
       "      <td>0</td>\n",
       "      <td>0</td>\n",
       "      <td>0</td>\n",
       "      <td>0</td>\n",
       "      <td>0</td>\n",
       "      <td>1</td>\n",
       "      <td>0</td>\n",
       "      <td>0</td>\n",
       "      <td>0</td>\n",
       "      <td>0</td>\n",
       "      <td>0</td>\n",
       "      <td>0</td>\n",
       "      <td>0</td>\n",
       "      <td>0</td>\n",
       "      <td>0</td>\n",
       "      <td>1</td>\n",
       "      <td>0.014529</td>\n",
       "    </tr>\n",
       "    <tr>\n",
       "      <th>2</th>\n",
       "      <td>0</td>\n",
       "      <td>0</td>\n",
       "      <td>0</td>\n",
       "      <td>0</td>\n",
       "      <td>0</td>\n",
       "      <td>0</td>\n",
       "      <td>1</td>\n",
       "      <td>0</td>\n",
       "      <td>0</td>\n",
       "      <td>1</td>\n",
       "      <td>0</td>\n",
       "      <td>0</td>\n",
       "      <td>0</td>\n",
       "      <td>0</td>\n",
       "      <td>0</td>\n",
       "      <td>0</td>\n",
       "      <td>1</td>\n",
       "      <td>3</td>\n",
       "      <td>0.021353</td>\n",
       "    </tr>\n",
       "    <tr>\n",
       "      <th>3</th>\n",
       "      <td>0</td>\n",
       "      <td>0</td>\n",
       "      <td>0</td>\n",
       "      <td>0</td>\n",
       "      <td>0</td>\n",
       "      <td>0</td>\n",
       "      <td>1</td>\n",
       "      <td>0</td>\n",
       "      <td>0</td>\n",
       "      <td>1</td>\n",
       "      <td>1</td>\n",
       "      <td>0</td>\n",
       "      <td>0</td>\n",
       "      <td>1</td>\n",
       "      <td>0</td>\n",
       "      <td>1</td>\n",
       "      <td>0</td>\n",
       "      <td>5</td>\n",
       "      <td>0.042529</td>\n",
       "    </tr>\n",
       "    <tr>\n",
       "      <th>4</th>\n",
       "      <td>0</td>\n",
       "      <td>0</td>\n",
       "      <td>0</td>\n",
       "      <td>0</td>\n",
       "      <td>0</td>\n",
       "      <td>0</td>\n",
       "      <td>1</td>\n",
       "      <td>0</td>\n",
       "      <td>0</td>\n",
       "      <td>1</td>\n",
       "      <td>0</td>\n",
       "      <td>0</td>\n",
       "      <td>0</td>\n",
       "      <td>0</td>\n",
       "      <td>0</td>\n",
       "      <td>1</td>\n",
       "      <td>1</td>\n",
       "      <td>4</td>\n",
       "      <td>0.023294</td>\n",
       "    </tr>\n",
       "  </tbody>\n",
       "</table>\n",
       "</div>"
      ],
      "text/plain": [
       "   0.22-0.31  0.24-0.43  0.25-0.34  0.25-0.31  0.26-0.38  0.29-0.34  \\\n",
       "0          0          0          0          0          0          0   \n",
       "1          0          0          0          0          0          0   \n",
       "2          0          0          0          0          0          0   \n",
       "3          0          0          0          0          0          0   \n",
       "4          0          0          0          0          0          0   \n",
       "\n",
       "   0.34-0.34  0.52-0.76  0.52-0.80  0.53-0.85  0.58-0.83  0.65-0.72  \\\n",
       "0          1          0          0          0          1          0   \n",
       "1          0          1          0          0          0          0   \n",
       "2          1          0          0          1          0          0   \n",
       "3          1          0          0          1          1          0   \n",
       "4          1          0          0          1          0          0   \n",
       "\n",
       "   0.76-0.76  0.77-0.89  0.80-0.83  0.80-0.84  0.81-0.85  num_ints  mean_int  \n",
       "0          0          0          0          0          0         2  0.014941  \n",
       "1          0          0          0          0          0         1  0.014529  \n",
       "2          0          0          0          0          1         3  0.021353  \n",
       "3          0          1          0          1          0         5  0.042529  \n",
       "4          0          0          0          1          1         4  0.023294  "
      ]
     },
     "execution_count": 19,
     "metadata": {},
     "output_type": "execute_result"
    }
   ],
   "source": [
    "df1.head()"
   ]
  },
  {
   "cell_type": "code",
   "execution_count": 20,
   "metadata": {
    "Collapsed": "false"
   },
   "outputs": [
    {
     "data": {
      "image/png": "[encoded data removed]",
      "text/plain": [
       "<Figure size 432x288 with 2 Axes>"
      ]
     },
     "metadata": {
      "needs_background": "light"
     },
     "output_type": "display_data"
    }
   ],
   "source": [
    "reducer = umap.UMAP(n_neighbors=7, metric = 'cosine', n_components=2)\n",
    "u_emb0 = reducer.fit_transform(df0.values)\n",
    "#plt.scatter(u_emb[:, 0], u_emb[:, 1], c=[sns.color_palette()[x] for x in target])\n",
    "plt.scatter(u_emb0[:, 0], u_emb0[:, 1], c=target, cmap='viridis', s=25)\n",
    "plt.colorbar(boundaries=np.arange(4)-0.5).set_ticks(np.arange(3))\n",
    "for i, txt in enumerate(nodes):\n",
    "    plt.annotate(txt, (u_emb0[i, 0], u_emb0[i, 1]))\n",
    "plt.gca().set_aspect('equal', 'datalim')\n",
    "plt.title('UMAP projection of the h0 embedding', fontsize=14);"
   ]
  },
  {
   "cell_type": "code",
   "execution_count": 22,
   "metadata": {
    "Collapsed": "false"
   },
   "outputs": [
    {
     "data": {
      "image/png": "[encoded data removed]",
      "text/plain": [
       "<Figure size 432x288 with 2 Axes>"
      ]
     },
     "metadata": {
      "needs_background": "light"
     },
     "output_type": "display_data"
    }
   ],
   "source": [
    "reducer = umap.UMAP(n_neighbors=7, metric = 'cosine', n_components=2)\n",
    "u_emb1 = reducer.fit_transform(df1.values[:,:-2])\n",
    "plt.scatter(u_emb1[:,0], u_emb1[:, 1], c=target, cmap='viridis', s=25)\n",
    "plt.colorbar(boundaries=np.arange(4)-0.5).set_ticks(np.arange(3))\n",
    "plt.gca().set_aspect('equal', 'datalim')\n",
    "for i, txt in enumerate(nodes):\n",
    "    plt.annotate(txt, (u_emb1[i, 0], u_emb1[i, 1]))\n",
    "plt.title('UMAP projection of the h1 embedding', fontsize=14);"
   ]
  },
  {
   "cell_type": "markdown",
   "metadata": {
    "Collapsed": "false"
   },
   "source": [
    "## much better??"
   ]
  },
  {
   "cell_type": "code",
   "execution_count": null,
   "metadata": {},
   "outputs": [],
   "source": []
  }
 ],
 "metadata": {
  "kernelspec": {
   "display_name": "Python 3",
   "language": "python",
   "name": "python3"
  },
  "language_info": {
   "codemirror_mode": {
    "name": "ipython",
    "version": 3
   },
   "file_extension": ".py",
   "mimetype": "text/x-python",
   "name": "python",
   "nbconvert_exporter": "python",
   "pygments_lexer": "ipython3",
   "version": "3.7.6"
  }
 },
 "nbformat": 4,
 "nbformat_minor": 4
}
